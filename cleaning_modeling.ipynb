{
 "cells": [
  {
   "cell_type": "markdown",
   "id": "b114de8d",
   "metadata": {},
   "source": [
    "# Customer Segmentation and Product Recommendation"
   ]
  },
  {
   "cell_type": "markdown",
   "id": "333b888f",
   "metadata": {},
   "source": [
    "### Importing of libraries, data and getting information about the data"
   ]
  },
  {
   "cell_type": "code",
   "execution_count": 42,
   "id": "fbd4a4c7",
   "metadata": {},
   "outputs": [],
   "source": [
    "import pandas as pd\n",
    "import numpy as np\n",
    "import matplotlib.pyplot as plt\n",
    "import seaborn as sns\n",
    "\n",
    "import warnings\n",
    "warnings.filterwarnings('ignore')\n",
    "\n",
    "from sklearn.preprocessing import OneHotEncoder,StandardScaler\n",
    "from sklearn.cluster import KMeans\n",
    "from sklearn.neighbors import NearestNeighbors\n",
    "from sklearn.compose import ColumnTransformer\n",
    "from sklearn.pipeline import Pipeline\n",
    "from sklearn.metrics import silhouette_score\n",
    "\n",
    "plt.style.use('seaborn-v0_8-dark')"
   ]
  },
  {
   "cell_type": "code",
   "execution_count": 2,
   "id": "cb9daf20",
   "metadata": {},
   "outputs": [],
   "source": [
    "data=pd.read_csv(r\"C:\\Users\\Rano's PC\\Machine\\data-science-projects\\Customer_Segmentation\\Sample - Superstore.csv\",encoding_errors='ignore')"
   ]
  },
  {
   "cell_type": "code",
   "execution_count": 3,
   "id": "887c7833",
   "metadata": {},
   "outputs": [
    {
     "data": {
      "text/html": [
       "<div>\n",
       "<style scoped>\n",
       "    .dataframe tbody tr th:only-of-type {\n",
       "        vertical-align: middle;\n",
       "    }\n",
       "\n",
       "    .dataframe tbody tr th {\n",
       "        vertical-align: top;\n",
       "    }\n",
       "\n",
       "    .dataframe thead th {\n",
       "        text-align: right;\n",
       "    }\n",
       "</style>\n",
       "<table border=\"1\" class=\"dataframe\">\n",
       "  <thead>\n",
       "    <tr style=\"text-align: right;\">\n",
       "      <th></th>\n",
       "      <th>Row ID</th>\n",
       "      <th>Order ID</th>\n",
       "      <th>Order Date</th>\n",
       "      <th>Ship Date</th>\n",
       "      <th>Ship Mode</th>\n",
       "      <th>Customer ID</th>\n",
       "      <th>Customer Name</th>\n",
       "      <th>Segment</th>\n",
       "      <th>Country</th>\n",
       "      <th>City</th>\n",
       "      <th>...</th>\n",
       "      <th>Postal Code</th>\n",
       "      <th>Region</th>\n",
       "      <th>Product ID</th>\n",
       "      <th>Category</th>\n",
       "      <th>Sub-Category</th>\n",
       "      <th>Product Name</th>\n",
       "      <th>Sales</th>\n",
       "      <th>Quantity</th>\n",
       "      <th>Discount</th>\n",
       "      <th>Profit</th>\n",
       "    </tr>\n",
       "  </thead>\n",
       "  <tbody>\n",
       "    <tr>\n",
       "      <th>0</th>\n",
       "      <td>1</td>\n",
       "      <td>CA-2016-152156</td>\n",
       "      <td>11/8/2016</td>\n",
       "      <td>11/11/2016</td>\n",
       "      <td>Second Class</td>\n",
       "      <td>CG-12520</td>\n",
       "      <td>Claire Gute</td>\n",
       "      <td>Consumer</td>\n",
       "      <td>United States</td>\n",
       "      <td>Henderson</td>\n",
       "      <td>...</td>\n",
       "      <td>42420</td>\n",
       "      <td>South</td>\n",
       "      <td>FUR-BO-10001798</td>\n",
       "      <td>Furniture</td>\n",
       "      <td>Bookcases</td>\n",
       "      <td>Bush Somerset Collection Bookcase</td>\n",
       "      <td>261.9600</td>\n",
       "      <td>2</td>\n",
       "      <td>0.00</td>\n",
       "      <td>41.9136</td>\n",
       "    </tr>\n",
       "    <tr>\n",
       "      <th>1</th>\n",
       "      <td>2</td>\n",
       "      <td>CA-2016-152156</td>\n",
       "      <td>11/8/2016</td>\n",
       "      <td>11/11/2016</td>\n",
       "      <td>Second Class</td>\n",
       "      <td>CG-12520</td>\n",
       "      <td>Claire Gute</td>\n",
       "      <td>Consumer</td>\n",
       "      <td>United States</td>\n",
       "      <td>Henderson</td>\n",
       "      <td>...</td>\n",
       "      <td>42420</td>\n",
       "      <td>South</td>\n",
       "      <td>FUR-CH-10000454</td>\n",
       "      <td>Furniture</td>\n",
       "      <td>Chairs</td>\n",
       "      <td>Hon Deluxe Fabric Upholstered Stacking Chairs,...</td>\n",
       "      <td>731.9400</td>\n",
       "      <td>3</td>\n",
       "      <td>0.00</td>\n",
       "      <td>219.5820</td>\n",
       "    </tr>\n",
       "    <tr>\n",
       "      <th>2</th>\n",
       "      <td>3</td>\n",
       "      <td>CA-2016-138688</td>\n",
       "      <td>6/12/2016</td>\n",
       "      <td>6/16/2016</td>\n",
       "      <td>Second Class</td>\n",
       "      <td>DV-13045</td>\n",
       "      <td>Darrin Van Huff</td>\n",
       "      <td>Corporate</td>\n",
       "      <td>United States</td>\n",
       "      <td>Los Angeles</td>\n",
       "      <td>...</td>\n",
       "      <td>90036</td>\n",
       "      <td>West</td>\n",
       "      <td>OFF-LA-10000240</td>\n",
       "      <td>Office Supplies</td>\n",
       "      <td>Labels</td>\n",
       "      <td>Self-Adhesive Address Labels for Typewriters b...</td>\n",
       "      <td>14.6200</td>\n",
       "      <td>2</td>\n",
       "      <td>0.00</td>\n",
       "      <td>6.8714</td>\n",
       "    </tr>\n",
       "    <tr>\n",
       "      <th>3</th>\n",
       "      <td>4</td>\n",
       "      <td>US-2015-108966</td>\n",
       "      <td>10/11/2015</td>\n",
       "      <td>10/18/2015</td>\n",
       "      <td>Standard Class</td>\n",
       "      <td>SO-20335</td>\n",
       "      <td>Sean O'Donnell</td>\n",
       "      <td>Consumer</td>\n",
       "      <td>United States</td>\n",
       "      <td>Fort Lauderdale</td>\n",
       "      <td>...</td>\n",
       "      <td>33311</td>\n",
       "      <td>South</td>\n",
       "      <td>FUR-TA-10000577</td>\n",
       "      <td>Furniture</td>\n",
       "      <td>Tables</td>\n",
       "      <td>Bretford CR4500 Series Slim Rectangular Table</td>\n",
       "      <td>957.5775</td>\n",
       "      <td>5</td>\n",
       "      <td>0.45</td>\n",
       "      <td>-383.0310</td>\n",
       "    </tr>\n",
       "    <tr>\n",
       "      <th>4</th>\n",
       "      <td>5</td>\n",
       "      <td>US-2015-108966</td>\n",
       "      <td>10/11/2015</td>\n",
       "      <td>10/18/2015</td>\n",
       "      <td>Standard Class</td>\n",
       "      <td>SO-20335</td>\n",
       "      <td>Sean O'Donnell</td>\n",
       "      <td>Consumer</td>\n",
       "      <td>United States</td>\n",
       "      <td>Fort Lauderdale</td>\n",
       "      <td>...</td>\n",
       "      <td>33311</td>\n",
       "      <td>South</td>\n",
       "      <td>OFF-ST-10000760</td>\n",
       "      <td>Office Supplies</td>\n",
       "      <td>Storage</td>\n",
       "      <td>Eldon Fold 'N Roll Cart System</td>\n",
       "      <td>22.3680</td>\n",
       "      <td>2</td>\n",
       "      <td>0.20</td>\n",
       "      <td>2.5164</td>\n",
       "    </tr>\n",
       "  </tbody>\n",
       "</table>\n",
       "<p>5 rows × 21 columns</p>\n",
       "</div>"
      ],
      "text/plain": [
       "   Row ID        Order ID  Order Date   Ship Date       Ship Mode Customer ID  \\\n",
       "0       1  CA-2016-152156   11/8/2016  11/11/2016    Second Class    CG-12520   \n",
       "1       2  CA-2016-152156   11/8/2016  11/11/2016    Second Class    CG-12520   \n",
       "2       3  CA-2016-138688   6/12/2016   6/16/2016    Second Class    DV-13045   \n",
       "3       4  US-2015-108966  10/11/2015  10/18/2015  Standard Class    SO-20335   \n",
       "4       5  US-2015-108966  10/11/2015  10/18/2015  Standard Class    SO-20335   \n",
       "\n",
       "     Customer Name    Segment        Country             City  ...  \\\n",
       "0      Claire Gute   Consumer  United States        Henderson  ...   \n",
       "1      Claire Gute   Consumer  United States        Henderson  ...   \n",
       "2  Darrin Van Huff  Corporate  United States      Los Angeles  ...   \n",
       "3   Sean O'Donnell   Consumer  United States  Fort Lauderdale  ...   \n",
       "4   Sean O'Donnell   Consumer  United States  Fort Lauderdale  ...   \n",
       "\n",
       "  Postal Code  Region       Product ID         Category Sub-Category  \\\n",
       "0       42420   South  FUR-BO-10001798        Furniture    Bookcases   \n",
       "1       42420   South  FUR-CH-10000454        Furniture       Chairs   \n",
       "2       90036    West  OFF-LA-10000240  Office Supplies       Labels   \n",
       "3       33311   South  FUR-TA-10000577        Furniture       Tables   \n",
       "4       33311   South  OFF-ST-10000760  Office Supplies      Storage   \n",
       "\n",
       "                                        Product Name     Sales  Quantity  \\\n",
       "0                  Bush Somerset Collection Bookcase  261.9600         2   \n",
       "1  Hon Deluxe Fabric Upholstered Stacking Chairs,...  731.9400         3   \n",
       "2  Self-Adhesive Address Labels for Typewriters b...   14.6200         2   \n",
       "3      Bretford CR4500 Series Slim Rectangular Table  957.5775         5   \n",
       "4                     Eldon Fold 'N Roll Cart System   22.3680         2   \n",
       "\n",
       "   Discount    Profit  \n",
       "0      0.00   41.9136  \n",
       "1      0.00  219.5820  \n",
       "2      0.00    6.8714  \n",
       "3      0.45 -383.0310  \n",
       "4      0.20    2.5164  \n",
       "\n",
       "[5 rows x 21 columns]"
      ]
     },
     "execution_count": 3,
     "metadata": {},
     "output_type": "execute_result"
    }
   ],
   "source": [
    "data.head()"
   ]
  },
  {
   "cell_type": "code",
   "execution_count": 4,
   "id": "fef49b35",
   "metadata": {},
   "outputs": [
    {
     "name": "stdout",
     "output_type": "stream",
     "text": [
      "<class 'pandas.core.frame.DataFrame'>\n",
      "RangeIndex: 9994 entries, 0 to 9993\n",
      "Data columns (total 21 columns):\n",
      " #   Column         Non-Null Count  Dtype  \n",
      "---  ------         --------------  -----  \n",
      " 0   Row ID         9994 non-null   int64  \n",
      " 1   Order ID       9994 non-null   object \n",
      " 2   Order Date     9994 non-null   object \n",
      " 3   Ship Date      9994 non-null   object \n",
      " 4   Ship Mode      9994 non-null   object \n",
      " 5   Customer ID    9994 non-null   object \n",
      " 6   Customer Name  9994 non-null   object \n",
      " 7   Segment        9994 non-null   object \n",
      " 8   Country        9994 non-null   object \n",
      " 9   City           9994 non-null   object \n",
      " 10  State          9994 non-null   object \n",
      " 11  Postal Code    9994 non-null   int64  \n",
      " 12  Region         9994 non-null   object \n",
      " 13  Product ID     9994 non-null   object \n",
      " 14  Category       9994 non-null   object \n",
      " 15  Sub-Category   9994 non-null   object \n",
      " 16  Product Name   9994 non-null   object \n",
      " 17  Sales          9994 non-null   float64\n",
      " 18  Quantity       9994 non-null   int64  \n",
      " 19  Discount       9994 non-null   float64\n",
      " 20  Profit         9994 non-null   float64\n",
      "dtypes: float64(3), int64(3), object(15)\n",
      "memory usage: 1.6+ MB\n"
     ]
    }
   ],
   "source": [
    "data.info()"
   ]
  },
  {
   "cell_type": "code",
   "execution_count": 5,
   "id": "b3596c33",
   "metadata": {},
   "outputs": [],
   "source": [
    "# Removing unnecessray columns\n",
    "data.drop(columns=['Row ID','Ship Date','Postal Code','Customer Name'],inplace=True)"
   ]
  },
  {
   "cell_type": "code",
   "execution_count": 6,
   "id": "f696d5fa",
   "metadata": {},
   "outputs": [
    {
     "data": {
      "text/html": [
       "<div>\n",
       "<style scoped>\n",
       "    .dataframe tbody tr th:only-of-type {\n",
       "        vertical-align: middle;\n",
       "    }\n",
       "\n",
       "    .dataframe tbody tr th {\n",
       "        vertical-align: top;\n",
       "    }\n",
       "\n",
       "    .dataframe thead th {\n",
       "        text-align: right;\n",
       "    }\n",
       "</style>\n",
       "<table border=\"1\" class=\"dataframe\">\n",
       "  <thead>\n",
       "    <tr style=\"text-align: right;\">\n",
       "      <th></th>\n",
       "      <th>Order ID</th>\n",
       "      <th>Order Date</th>\n",
       "      <th>Ship Mode</th>\n",
       "      <th>Customer ID</th>\n",
       "      <th>Segment</th>\n",
       "      <th>Country</th>\n",
       "      <th>City</th>\n",
       "      <th>State</th>\n",
       "      <th>Region</th>\n",
       "      <th>Product ID</th>\n",
       "      <th>Category</th>\n",
       "      <th>Sub-Category</th>\n",
       "      <th>Product Name</th>\n",
       "      <th>Sales</th>\n",
       "      <th>Quantity</th>\n",
       "      <th>Discount</th>\n",
       "      <th>Profit</th>\n",
       "    </tr>\n",
       "  </thead>\n",
       "  <tbody>\n",
       "    <tr>\n",
       "      <th>0</th>\n",
       "      <td>CA-2016-152156</td>\n",
       "      <td>11/8/2016</td>\n",
       "      <td>Second Class</td>\n",
       "      <td>CG-12520</td>\n",
       "      <td>Consumer</td>\n",
       "      <td>United States</td>\n",
       "      <td>Henderson</td>\n",
       "      <td>Kentucky</td>\n",
       "      <td>South</td>\n",
       "      <td>FUR-BO-10001798</td>\n",
       "      <td>Furniture</td>\n",
       "      <td>Bookcases</td>\n",
       "      <td>Bush Somerset Collection Bookcase</td>\n",
       "      <td>261.9600</td>\n",
       "      <td>2</td>\n",
       "      <td>0.00</td>\n",
       "      <td>41.9136</td>\n",
       "    </tr>\n",
       "    <tr>\n",
       "      <th>1</th>\n",
       "      <td>CA-2016-152156</td>\n",
       "      <td>11/8/2016</td>\n",
       "      <td>Second Class</td>\n",
       "      <td>CG-12520</td>\n",
       "      <td>Consumer</td>\n",
       "      <td>United States</td>\n",
       "      <td>Henderson</td>\n",
       "      <td>Kentucky</td>\n",
       "      <td>South</td>\n",
       "      <td>FUR-CH-10000454</td>\n",
       "      <td>Furniture</td>\n",
       "      <td>Chairs</td>\n",
       "      <td>Hon Deluxe Fabric Upholstered Stacking Chairs,...</td>\n",
       "      <td>731.9400</td>\n",
       "      <td>3</td>\n",
       "      <td>0.00</td>\n",
       "      <td>219.5820</td>\n",
       "    </tr>\n",
       "    <tr>\n",
       "      <th>2</th>\n",
       "      <td>CA-2016-138688</td>\n",
       "      <td>6/12/2016</td>\n",
       "      <td>Second Class</td>\n",
       "      <td>DV-13045</td>\n",
       "      <td>Corporate</td>\n",
       "      <td>United States</td>\n",
       "      <td>Los Angeles</td>\n",
       "      <td>California</td>\n",
       "      <td>West</td>\n",
       "      <td>OFF-LA-10000240</td>\n",
       "      <td>Office Supplies</td>\n",
       "      <td>Labels</td>\n",
       "      <td>Self-Adhesive Address Labels for Typewriters b...</td>\n",
       "      <td>14.6200</td>\n",
       "      <td>2</td>\n",
       "      <td>0.00</td>\n",
       "      <td>6.8714</td>\n",
       "    </tr>\n",
       "    <tr>\n",
       "      <th>3</th>\n",
       "      <td>US-2015-108966</td>\n",
       "      <td>10/11/2015</td>\n",
       "      <td>Standard Class</td>\n",
       "      <td>SO-20335</td>\n",
       "      <td>Consumer</td>\n",
       "      <td>United States</td>\n",
       "      <td>Fort Lauderdale</td>\n",
       "      <td>Florida</td>\n",
       "      <td>South</td>\n",
       "      <td>FUR-TA-10000577</td>\n",
       "      <td>Furniture</td>\n",
       "      <td>Tables</td>\n",
       "      <td>Bretford CR4500 Series Slim Rectangular Table</td>\n",
       "      <td>957.5775</td>\n",
       "      <td>5</td>\n",
       "      <td>0.45</td>\n",
       "      <td>-383.0310</td>\n",
       "    </tr>\n",
       "    <tr>\n",
       "      <th>4</th>\n",
       "      <td>US-2015-108966</td>\n",
       "      <td>10/11/2015</td>\n",
       "      <td>Standard Class</td>\n",
       "      <td>SO-20335</td>\n",
       "      <td>Consumer</td>\n",
       "      <td>United States</td>\n",
       "      <td>Fort Lauderdale</td>\n",
       "      <td>Florida</td>\n",
       "      <td>South</td>\n",
       "      <td>OFF-ST-10000760</td>\n",
       "      <td>Office Supplies</td>\n",
       "      <td>Storage</td>\n",
       "      <td>Eldon Fold 'N Roll Cart System</td>\n",
       "      <td>22.3680</td>\n",
       "      <td>2</td>\n",
       "      <td>0.20</td>\n",
       "      <td>2.5164</td>\n",
       "    </tr>\n",
       "  </tbody>\n",
       "</table>\n",
       "</div>"
      ],
      "text/plain": [
       "         Order ID  Order Date       Ship Mode Customer ID    Segment  \\\n",
       "0  CA-2016-152156   11/8/2016    Second Class    CG-12520   Consumer   \n",
       "1  CA-2016-152156   11/8/2016    Second Class    CG-12520   Consumer   \n",
       "2  CA-2016-138688   6/12/2016    Second Class    DV-13045  Corporate   \n",
       "3  US-2015-108966  10/11/2015  Standard Class    SO-20335   Consumer   \n",
       "4  US-2015-108966  10/11/2015  Standard Class    SO-20335   Consumer   \n",
       "\n",
       "         Country             City       State Region       Product ID  \\\n",
       "0  United States        Henderson    Kentucky  South  FUR-BO-10001798   \n",
       "1  United States        Henderson    Kentucky  South  FUR-CH-10000454   \n",
       "2  United States      Los Angeles  California   West  OFF-LA-10000240   \n",
       "3  United States  Fort Lauderdale     Florida  South  FUR-TA-10000577   \n",
       "4  United States  Fort Lauderdale     Florida  South  OFF-ST-10000760   \n",
       "\n",
       "          Category Sub-Category  \\\n",
       "0        Furniture    Bookcases   \n",
       "1        Furniture       Chairs   \n",
       "2  Office Supplies       Labels   \n",
       "3        Furniture       Tables   \n",
       "4  Office Supplies      Storage   \n",
       "\n",
       "                                        Product Name     Sales  Quantity  \\\n",
       "0                  Bush Somerset Collection Bookcase  261.9600         2   \n",
       "1  Hon Deluxe Fabric Upholstered Stacking Chairs,...  731.9400         3   \n",
       "2  Self-Adhesive Address Labels for Typewriters b...   14.6200         2   \n",
       "3      Bretford CR4500 Series Slim Rectangular Table  957.5775         5   \n",
       "4                     Eldon Fold 'N Roll Cart System   22.3680         2   \n",
       "\n",
       "   Discount    Profit  \n",
       "0      0.00   41.9136  \n",
       "1      0.00  219.5820  \n",
       "2      0.00    6.8714  \n",
       "3      0.45 -383.0310  \n",
       "4      0.20    2.5164  "
      ]
     },
     "execution_count": 6,
     "metadata": {},
     "output_type": "execute_result"
    }
   ],
   "source": [
    "data.head()"
   ]
  },
  {
   "cell_type": "code",
   "execution_count": 7,
   "id": "2d3211e8",
   "metadata": {},
   "outputs": [
    {
     "data": {
      "text/plain": [
       "Order ID        0.0\n",
       "Order Date      0.0\n",
       "Ship Mode       0.0\n",
       "Customer ID     0.0\n",
       "Segment         0.0\n",
       "Country         0.0\n",
       "City            0.0\n",
       "State           0.0\n",
       "Region          0.0\n",
       "Product ID      0.0\n",
       "Category        0.0\n",
       "Sub-Category    0.0\n",
       "Product Name    0.0\n",
       "Sales           0.0\n",
       "Quantity        0.0\n",
       "Discount        0.0\n",
       "Profit          0.0\n",
       "dtype: float64"
      ]
     },
     "execution_count": 7,
     "metadata": {},
     "output_type": "execute_result"
    }
   ],
   "source": [
    "# Checking the null values\n",
    "((data.isnull().sum()/len(data))*100).round(2)"
   ]
  },
  {
   "cell_type": "markdown",
   "id": "b6dc4667",
   "metadata": {},
   "source": [
    "There is no null valued columns"
   ]
  },
  {
   "cell_type": "code",
   "execution_count": 8,
   "id": "6ce8bc9a",
   "metadata": {},
   "outputs": [
    {
     "data": {
      "text/plain": [
       "np.int64(1)"
      ]
     },
     "execution_count": 8,
     "metadata": {},
     "output_type": "execute_result"
    }
   ],
   "source": [
    "# Checking if there are duplicate values or not\n",
    "data.duplicated().sum()"
   ]
  },
  {
   "cell_type": "markdown",
   "id": "f99dc348",
   "metadata": {},
   "source": [
    "There is one duplicate value"
   ]
  },
  {
   "cell_type": "code",
   "execution_count": 9,
   "id": "d0a15c86",
   "metadata": {},
   "outputs": [
    {
     "data": {
      "text/html": [
       "<div>\n",
       "<style scoped>\n",
       "    .dataframe tbody tr th:only-of-type {\n",
       "        vertical-align: middle;\n",
       "    }\n",
       "\n",
       "    .dataframe tbody tr th {\n",
       "        vertical-align: top;\n",
       "    }\n",
       "\n",
       "    .dataframe thead th {\n",
       "        text-align: right;\n",
       "    }\n",
       "</style>\n",
       "<table border=\"1\" class=\"dataframe\">\n",
       "  <thead>\n",
       "    <tr style=\"text-align: right;\">\n",
       "      <th></th>\n",
       "      <th>Order ID</th>\n",
       "      <th>Order Date</th>\n",
       "      <th>Ship Mode</th>\n",
       "      <th>Customer ID</th>\n",
       "      <th>Segment</th>\n",
       "      <th>Country</th>\n",
       "      <th>City</th>\n",
       "      <th>State</th>\n",
       "      <th>Region</th>\n",
       "      <th>Product ID</th>\n",
       "      <th>Category</th>\n",
       "      <th>Sub-Category</th>\n",
       "      <th>Product Name</th>\n",
       "      <th>Sales</th>\n",
       "      <th>Quantity</th>\n",
       "      <th>Discount</th>\n",
       "      <th>Profit</th>\n",
       "    </tr>\n",
       "  </thead>\n",
       "  <tbody>\n",
       "    <tr>\n",
       "      <th>3405</th>\n",
       "      <td>US-2014-150119</td>\n",
       "      <td>4/23/2014</td>\n",
       "      <td>Standard Class</td>\n",
       "      <td>LB-16795</td>\n",
       "      <td>Home Office</td>\n",
       "      <td>United States</td>\n",
       "      <td>Columbus</td>\n",
       "      <td>Ohio</td>\n",
       "      <td>East</td>\n",
       "      <td>FUR-CH-10002965</td>\n",
       "      <td>Furniture</td>\n",
       "      <td>Chairs</td>\n",
       "      <td>Global Leather Highback Executive Chair with P...</td>\n",
       "      <td>281.372</td>\n",
       "      <td>2</td>\n",
       "      <td>0.3</td>\n",
       "      <td>-12.0588</td>\n",
       "    </tr>\n",
       "    <tr>\n",
       "      <th>3406</th>\n",
       "      <td>US-2014-150119</td>\n",
       "      <td>4/23/2014</td>\n",
       "      <td>Standard Class</td>\n",
       "      <td>LB-16795</td>\n",
       "      <td>Home Office</td>\n",
       "      <td>United States</td>\n",
       "      <td>Columbus</td>\n",
       "      <td>Ohio</td>\n",
       "      <td>East</td>\n",
       "      <td>FUR-CH-10002965</td>\n",
       "      <td>Furniture</td>\n",
       "      <td>Chairs</td>\n",
       "      <td>Global Leather Highback Executive Chair with P...</td>\n",
       "      <td>281.372</td>\n",
       "      <td>2</td>\n",
       "      <td>0.3</td>\n",
       "      <td>-12.0588</td>\n",
       "    </tr>\n",
       "  </tbody>\n",
       "</table>\n",
       "</div>"
      ],
      "text/plain": [
       "            Order ID Order Date       Ship Mode Customer ID      Segment  \\\n",
       "3405  US-2014-150119  4/23/2014  Standard Class    LB-16795  Home Office   \n",
       "3406  US-2014-150119  4/23/2014  Standard Class    LB-16795  Home Office   \n",
       "\n",
       "            Country      City State Region       Product ID   Category  \\\n",
       "3405  United States  Columbus  Ohio   East  FUR-CH-10002965  Furniture   \n",
       "3406  United States  Columbus  Ohio   East  FUR-CH-10002965  Furniture   \n",
       "\n",
       "     Sub-Category                                       Product Name    Sales  \\\n",
       "3405       Chairs  Global Leather Highback Executive Chair with P...  281.372   \n",
       "3406       Chairs  Global Leather Highback Executive Chair with P...  281.372   \n",
       "\n",
       "      Quantity  Discount   Profit  \n",
       "3405         2       0.3 -12.0588  \n",
       "3406         2       0.3 -12.0588  "
      ]
     },
     "execution_count": 9,
     "metadata": {},
     "output_type": "execute_result"
    }
   ],
   "source": [
    "# Checking the duplicate rows\n",
    "data[data.duplicated(keep=False)]"
   ]
  },
  {
   "cell_type": "code",
   "execution_count": 10,
   "id": "0849dca5",
   "metadata": {},
   "outputs": [],
   "source": [
    "# Removing the duplicate column\n",
    "data=data[~data.duplicated()]"
   ]
  },
  {
   "cell_type": "code",
   "execution_count": 11,
   "id": "9da25e1b",
   "metadata": {},
   "outputs": [
    {
     "data": {
      "text/plain": [
       "Order ID        5009\n",
       "Order Date      1237\n",
       "Ship Mode          4\n",
       "Customer ID      793\n",
       "Segment            3\n",
       "Country            1\n",
       "City             531\n",
       "State             49\n",
       "Region             4\n",
       "Product ID      1862\n",
       "Category           3\n",
       "Sub-Category      17\n",
       "Product Name    1850\n",
       "dtype: int64"
      ]
     },
     "execution_count": 11,
     "metadata": {},
     "output_type": "execute_result"
    }
   ],
   "source": [
    "# Checking single valued columns\n",
    "data.select_dtypes(exclude='number').nunique()"
   ]
  },
  {
   "cell_type": "markdown",
   "id": "c2e9bed4",
   "metadata": {},
   "source": [
    "Country column have only one value and city column have too many values so I will remove thos columns"
   ]
  },
  {
   "cell_type": "code",
   "execution_count": 12,
   "id": "65ca88e7",
   "metadata": {},
   "outputs": [],
   "source": [
    "# Dropping the country column\n",
    "data.drop(columns=['Country','City',],inplace=True)"
   ]
  },
  {
   "cell_type": "code",
   "execution_count": 13,
   "id": "daa5691f",
   "metadata": {},
   "outputs": [],
   "source": [
    "# Lower casing columns and renaming\n",
    "data.columns=data.columns.str.replace(\"-\",\" \").str.lower()"
   ]
  },
  {
   "cell_type": "code",
   "execution_count": 14,
   "id": "62bcf37b",
   "metadata": {},
   "outputs": [
    {
     "data": {
      "text/html": [
       "<div>\n",
       "<style scoped>\n",
       "    .dataframe tbody tr th:only-of-type {\n",
       "        vertical-align: middle;\n",
       "    }\n",
       "\n",
       "    .dataframe tbody tr th {\n",
       "        vertical-align: top;\n",
       "    }\n",
       "\n",
       "    .dataframe thead th {\n",
       "        text-align: right;\n",
       "    }\n",
       "</style>\n",
       "<table border=\"1\" class=\"dataframe\">\n",
       "  <thead>\n",
       "    <tr style=\"text-align: right;\">\n",
       "      <th></th>\n",
       "      <th>order id</th>\n",
       "      <th>order date</th>\n",
       "      <th>ship mode</th>\n",
       "      <th>customer id</th>\n",
       "      <th>segment</th>\n",
       "      <th>state</th>\n",
       "      <th>region</th>\n",
       "      <th>product id</th>\n",
       "      <th>category</th>\n",
       "      <th>sub category</th>\n",
       "      <th>product name</th>\n",
       "      <th>sales</th>\n",
       "      <th>quantity</th>\n",
       "      <th>discount</th>\n",
       "      <th>profit</th>\n",
       "    </tr>\n",
       "  </thead>\n",
       "  <tbody>\n",
       "    <tr>\n",
       "      <th>0</th>\n",
       "      <td>CA-2016-152156</td>\n",
       "      <td>11/8/2016</td>\n",
       "      <td>Second Class</td>\n",
       "      <td>CG-12520</td>\n",
       "      <td>Consumer</td>\n",
       "      <td>Kentucky</td>\n",
       "      <td>South</td>\n",
       "      <td>FUR-BO-10001798</td>\n",
       "      <td>Furniture</td>\n",
       "      <td>Bookcases</td>\n",
       "      <td>Bush Somerset Collection Bookcase</td>\n",
       "      <td>261.9600</td>\n",
       "      <td>2</td>\n",
       "      <td>0.00</td>\n",
       "      <td>41.9136</td>\n",
       "    </tr>\n",
       "    <tr>\n",
       "      <th>1</th>\n",
       "      <td>CA-2016-152156</td>\n",
       "      <td>11/8/2016</td>\n",
       "      <td>Second Class</td>\n",
       "      <td>CG-12520</td>\n",
       "      <td>Consumer</td>\n",
       "      <td>Kentucky</td>\n",
       "      <td>South</td>\n",
       "      <td>FUR-CH-10000454</td>\n",
       "      <td>Furniture</td>\n",
       "      <td>Chairs</td>\n",
       "      <td>Hon Deluxe Fabric Upholstered Stacking Chairs,...</td>\n",
       "      <td>731.9400</td>\n",
       "      <td>3</td>\n",
       "      <td>0.00</td>\n",
       "      <td>219.5820</td>\n",
       "    </tr>\n",
       "    <tr>\n",
       "      <th>2</th>\n",
       "      <td>CA-2016-138688</td>\n",
       "      <td>6/12/2016</td>\n",
       "      <td>Second Class</td>\n",
       "      <td>DV-13045</td>\n",
       "      <td>Corporate</td>\n",
       "      <td>California</td>\n",
       "      <td>West</td>\n",
       "      <td>OFF-LA-10000240</td>\n",
       "      <td>Office Supplies</td>\n",
       "      <td>Labels</td>\n",
       "      <td>Self-Adhesive Address Labels for Typewriters b...</td>\n",
       "      <td>14.6200</td>\n",
       "      <td>2</td>\n",
       "      <td>0.00</td>\n",
       "      <td>6.8714</td>\n",
       "    </tr>\n",
       "    <tr>\n",
       "      <th>3</th>\n",
       "      <td>US-2015-108966</td>\n",
       "      <td>10/11/2015</td>\n",
       "      <td>Standard Class</td>\n",
       "      <td>SO-20335</td>\n",
       "      <td>Consumer</td>\n",
       "      <td>Florida</td>\n",
       "      <td>South</td>\n",
       "      <td>FUR-TA-10000577</td>\n",
       "      <td>Furniture</td>\n",
       "      <td>Tables</td>\n",
       "      <td>Bretford CR4500 Series Slim Rectangular Table</td>\n",
       "      <td>957.5775</td>\n",
       "      <td>5</td>\n",
       "      <td>0.45</td>\n",
       "      <td>-383.0310</td>\n",
       "    </tr>\n",
       "    <tr>\n",
       "      <th>4</th>\n",
       "      <td>US-2015-108966</td>\n",
       "      <td>10/11/2015</td>\n",
       "      <td>Standard Class</td>\n",
       "      <td>SO-20335</td>\n",
       "      <td>Consumer</td>\n",
       "      <td>Florida</td>\n",
       "      <td>South</td>\n",
       "      <td>OFF-ST-10000760</td>\n",
       "      <td>Office Supplies</td>\n",
       "      <td>Storage</td>\n",
       "      <td>Eldon Fold 'N Roll Cart System</td>\n",
       "      <td>22.3680</td>\n",
       "      <td>2</td>\n",
       "      <td>0.20</td>\n",
       "      <td>2.5164</td>\n",
       "    </tr>\n",
       "  </tbody>\n",
       "</table>\n",
       "</div>"
      ],
      "text/plain": [
       "         order id  order date       ship mode customer id    segment  \\\n",
       "0  CA-2016-152156   11/8/2016    Second Class    CG-12520   Consumer   \n",
       "1  CA-2016-152156   11/8/2016    Second Class    CG-12520   Consumer   \n",
       "2  CA-2016-138688   6/12/2016    Second Class    DV-13045  Corporate   \n",
       "3  US-2015-108966  10/11/2015  Standard Class    SO-20335   Consumer   \n",
       "4  US-2015-108966  10/11/2015  Standard Class    SO-20335   Consumer   \n",
       "\n",
       "        state region       product id         category sub category  \\\n",
       "0    Kentucky  South  FUR-BO-10001798        Furniture    Bookcases   \n",
       "1    Kentucky  South  FUR-CH-10000454        Furniture       Chairs   \n",
       "2  California   West  OFF-LA-10000240  Office Supplies       Labels   \n",
       "3     Florida  South  FUR-TA-10000577        Furniture       Tables   \n",
       "4     Florida  South  OFF-ST-10000760  Office Supplies      Storage   \n",
       "\n",
       "                                        product name     sales  quantity  \\\n",
       "0                  Bush Somerset Collection Bookcase  261.9600         2   \n",
       "1  Hon Deluxe Fabric Upholstered Stacking Chairs,...  731.9400         3   \n",
       "2  Self-Adhesive Address Labels for Typewriters b...   14.6200         2   \n",
       "3      Bretford CR4500 Series Slim Rectangular Table  957.5775         5   \n",
       "4                     Eldon Fold 'N Roll Cart System   22.3680         2   \n",
       "\n",
       "   discount    profit  \n",
       "0      0.00   41.9136  \n",
       "1      0.00  219.5820  \n",
       "2      0.00    6.8714  \n",
       "3      0.45 -383.0310  \n",
       "4      0.20    2.5164  "
      ]
     },
     "execution_count": 14,
     "metadata": {},
     "output_type": "execute_result"
    }
   ],
   "source": [
    "data.head()"
   ]
  },
  {
   "cell_type": "code",
   "execution_count": 15,
   "id": "2707466b",
   "metadata": {},
   "outputs": [],
   "source": [
    "# I will work with sub category column, so removing the category column\n",
    "data.drop(columns=['category'],inplace=True)"
   ]
  },
  {
   "cell_type": "code",
   "execution_count": 16,
   "id": "a153bbc2",
   "metadata": {},
   "outputs": [
    {
     "data": {
      "text/html": [
       "<div>\n",
       "<style scoped>\n",
       "    .dataframe tbody tr th:only-of-type {\n",
       "        vertical-align: middle;\n",
       "    }\n",
       "\n",
       "    .dataframe tbody tr th {\n",
       "        vertical-align: top;\n",
       "    }\n",
       "\n",
       "    .dataframe thead th {\n",
       "        text-align: right;\n",
       "    }\n",
       "</style>\n",
       "<table border=\"1\" class=\"dataframe\">\n",
       "  <thead>\n",
       "    <tr style=\"text-align: right;\">\n",
       "      <th></th>\n",
       "      <th>order id</th>\n",
       "      <th>order date</th>\n",
       "      <th>ship mode</th>\n",
       "      <th>customer id</th>\n",
       "      <th>segment</th>\n",
       "      <th>state</th>\n",
       "      <th>region</th>\n",
       "      <th>product id</th>\n",
       "      <th>sub category</th>\n",
       "      <th>product name</th>\n",
       "      <th>sales</th>\n",
       "      <th>quantity</th>\n",
       "      <th>discount</th>\n",
       "      <th>profit</th>\n",
       "    </tr>\n",
       "  </thead>\n",
       "  <tbody>\n",
       "    <tr>\n",
       "      <th>0</th>\n",
       "      <td>CA-2016-152156</td>\n",
       "      <td>11/8/2016</td>\n",
       "      <td>Second Class</td>\n",
       "      <td>CG-12520</td>\n",
       "      <td>Consumer</td>\n",
       "      <td>Kentucky</td>\n",
       "      <td>South</td>\n",
       "      <td>FUR-BO-10001798</td>\n",
       "      <td>Bookcases</td>\n",
       "      <td>Bush Somerset Collection Bookcase</td>\n",
       "      <td>261.9600</td>\n",
       "      <td>2</td>\n",
       "      <td>0.00</td>\n",
       "      <td>41.9136</td>\n",
       "    </tr>\n",
       "    <tr>\n",
       "      <th>1</th>\n",
       "      <td>CA-2016-152156</td>\n",
       "      <td>11/8/2016</td>\n",
       "      <td>Second Class</td>\n",
       "      <td>CG-12520</td>\n",
       "      <td>Consumer</td>\n",
       "      <td>Kentucky</td>\n",
       "      <td>South</td>\n",
       "      <td>FUR-CH-10000454</td>\n",
       "      <td>Chairs</td>\n",
       "      <td>Hon Deluxe Fabric Upholstered Stacking Chairs,...</td>\n",
       "      <td>731.9400</td>\n",
       "      <td>3</td>\n",
       "      <td>0.00</td>\n",
       "      <td>219.5820</td>\n",
       "    </tr>\n",
       "    <tr>\n",
       "      <th>2</th>\n",
       "      <td>CA-2016-138688</td>\n",
       "      <td>6/12/2016</td>\n",
       "      <td>Second Class</td>\n",
       "      <td>DV-13045</td>\n",
       "      <td>Corporate</td>\n",
       "      <td>California</td>\n",
       "      <td>West</td>\n",
       "      <td>OFF-LA-10000240</td>\n",
       "      <td>Labels</td>\n",
       "      <td>Self-Adhesive Address Labels for Typewriters b...</td>\n",
       "      <td>14.6200</td>\n",
       "      <td>2</td>\n",
       "      <td>0.00</td>\n",
       "      <td>6.8714</td>\n",
       "    </tr>\n",
       "    <tr>\n",
       "      <th>3</th>\n",
       "      <td>US-2015-108966</td>\n",
       "      <td>10/11/2015</td>\n",
       "      <td>Standard Class</td>\n",
       "      <td>SO-20335</td>\n",
       "      <td>Consumer</td>\n",
       "      <td>Florida</td>\n",
       "      <td>South</td>\n",
       "      <td>FUR-TA-10000577</td>\n",
       "      <td>Tables</td>\n",
       "      <td>Bretford CR4500 Series Slim Rectangular Table</td>\n",
       "      <td>957.5775</td>\n",
       "      <td>5</td>\n",
       "      <td>0.45</td>\n",
       "      <td>-383.0310</td>\n",
       "    </tr>\n",
       "    <tr>\n",
       "      <th>4</th>\n",
       "      <td>US-2015-108966</td>\n",
       "      <td>10/11/2015</td>\n",
       "      <td>Standard Class</td>\n",
       "      <td>SO-20335</td>\n",
       "      <td>Consumer</td>\n",
       "      <td>Florida</td>\n",
       "      <td>South</td>\n",
       "      <td>OFF-ST-10000760</td>\n",
       "      <td>Storage</td>\n",
       "      <td>Eldon Fold 'N Roll Cart System</td>\n",
       "      <td>22.3680</td>\n",
       "      <td>2</td>\n",
       "      <td>0.20</td>\n",
       "      <td>2.5164</td>\n",
       "    </tr>\n",
       "  </tbody>\n",
       "</table>\n",
       "</div>"
      ],
      "text/plain": [
       "         order id  order date       ship mode customer id    segment  \\\n",
       "0  CA-2016-152156   11/8/2016    Second Class    CG-12520   Consumer   \n",
       "1  CA-2016-152156   11/8/2016    Second Class    CG-12520   Consumer   \n",
       "2  CA-2016-138688   6/12/2016    Second Class    DV-13045  Corporate   \n",
       "3  US-2015-108966  10/11/2015  Standard Class    SO-20335   Consumer   \n",
       "4  US-2015-108966  10/11/2015  Standard Class    SO-20335   Consumer   \n",
       "\n",
       "        state region       product id sub category  \\\n",
       "0    Kentucky  South  FUR-BO-10001798    Bookcases   \n",
       "1    Kentucky  South  FUR-CH-10000454       Chairs   \n",
       "2  California   West  OFF-LA-10000240       Labels   \n",
       "3     Florida  South  FUR-TA-10000577       Tables   \n",
       "4     Florida  South  OFF-ST-10000760      Storage   \n",
       "\n",
       "                                        product name     sales  quantity  \\\n",
       "0                  Bush Somerset Collection Bookcase  261.9600         2   \n",
       "1  Hon Deluxe Fabric Upholstered Stacking Chairs,...  731.9400         3   \n",
       "2  Self-Adhesive Address Labels for Typewriters b...   14.6200         2   \n",
       "3      Bretford CR4500 Series Slim Rectangular Table  957.5775         5   \n",
       "4                     Eldon Fold 'N Roll Cart System   22.3680         2   \n",
       "\n",
       "   discount    profit  \n",
       "0      0.00   41.9136  \n",
       "1      0.00  219.5820  \n",
       "2      0.00    6.8714  \n",
       "3      0.45 -383.0310  \n",
       "4      0.20    2.5164  "
      ]
     },
     "execution_count": 16,
     "metadata": {},
     "output_type": "execute_result"
    }
   ],
   "source": [
    "data.head()"
   ]
  },
  {
   "cell_type": "code",
   "execution_count": 17,
   "id": "7082977d",
   "metadata": {},
   "outputs": [
    {
     "name": "stdout",
     "output_type": "stream",
     "text": [
      "<class 'pandas.core.frame.DataFrame'>\n",
      "Index: 9993 entries, 0 to 9993\n",
      "Data columns (total 14 columns):\n",
      " #   Column        Non-Null Count  Dtype  \n",
      "---  ------        --------------  -----  \n",
      " 0   order id      9993 non-null   object \n",
      " 1   order date    9993 non-null   object \n",
      " 2   ship mode     9993 non-null   object \n",
      " 3   customer id   9993 non-null   object \n",
      " 4   segment       9993 non-null   object \n",
      " 5   state         9993 non-null   object \n",
      " 6   region        9993 non-null   object \n",
      " 7   product id    9993 non-null   object \n",
      " 8   sub category  9993 non-null   object \n",
      " 9   product name  9993 non-null   object \n",
      " 10  sales         9993 non-null   float64\n",
      " 11  quantity      9993 non-null   int64  \n",
      " 12  discount      9993 non-null   float64\n",
      " 13  profit        9993 non-null   float64\n",
      "dtypes: float64(3), int64(1), object(10)\n",
      "memory usage: 1.1+ MB\n"
     ]
    }
   ],
   "source": [
    "data.info()"
   ]
  },
  {
   "cell_type": "code",
   "execution_count": 18,
   "id": "4d0fe520",
   "metadata": {},
   "outputs": [],
   "source": [
    "# Changing the data type of order date column\n",
    "data['order date']=pd.to_datetime(data['order date'],errors='coerce')"
   ]
  },
  {
   "cell_type": "code",
   "execution_count": 19,
   "id": "ef5ac6e0",
   "metadata": {},
   "outputs": [
    {
     "name": "stdout",
     "output_type": "stream",
     "text": [
      "order id\n",
      "CA-2017-100111    0.140098\n",
      "CA-2017-157987    0.120084\n",
      "CA-2016-165330    0.110077\n",
      "US-2016-108504    0.110077\n",
      "CA-2016-105732    0.100070\n",
      "                    ...   \n",
      "CA-2014-110422    0.010007\n",
      "CA-2016-125794    0.010007\n",
      "CA-2017-163566    0.010007\n",
      "US-2015-151435    0.010007\n",
      "CA-2016-130225    0.010007\n",
      "Name: proportion, Length: 5009, dtype: float64\n",
      "__________________________________________________\n",
      "order date\n",
      "2016-09-05    0.380266\n",
      "2017-09-02    0.360252\n",
      "2016-11-10    0.350245\n",
      "2017-12-01    0.340238\n",
      "2017-12-02    0.340238\n",
      "                ...   \n",
      "2014-11-06    0.010007\n",
      "2015-12-29    0.010007\n",
      "2016-06-03    0.010007\n",
      "2015-04-12    0.010007\n",
      "2014-01-21    0.010007\n",
      "Name: proportion, Length: 1237, dtype: float64\n",
      "__________________________________________________\n",
      "ship mode\n",
      "Standard Class    59.711798\n",
      "Second Class      19.463625\n",
      "First Class       15.390774\n",
      "Same Day           5.433804\n",
      "Name: proportion, dtype: float64\n",
      "__________________________________________________\n",
      "customer id\n",
      "WB-21850    0.370259\n",
      "MA-17560    0.340238\n",
      "JL-15835    0.340238\n",
      "PP-18955    0.340238\n",
      "CK-12205    0.320224\n",
      "              ...   \n",
      "AO-10810    0.010007\n",
      "LD-16855    0.010007\n",
      "JR-15700    0.010007\n",
      "CJ-11875    0.010007\n",
      "RE-19405    0.010007\n",
      "Name: proportion, Length: 793, dtype: float64\n",
      "__________________________________________________\n",
      "segment\n",
      "Consumer       51.946362\n",
      "Corporate      30.221155\n",
      "Home Office    17.832483\n",
      "Name: proportion, dtype: float64\n",
      "__________________________________________________\n",
      "state\n",
      "California              20.024017\n",
      "New York                11.287902\n",
      "Texas                    9.856900\n",
      "Pennsylvania             5.874112\n",
      "Washington               5.063544\n",
      "Illinois                 4.923446\n",
      "Ohio                     4.683278\n",
      "Florida                  3.832683\n",
      "Michigan                 2.551786\n",
      "North Carolina           2.491744\n",
      "Arizona                  2.241569\n",
      "Virginia                 2.241569\n",
      "Georgia                  1.841289\n",
      "Tennessee                1.831282\n",
      "Colorado                 1.821275\n",
      "Indiana                  1.491044\n",
      "Kentucky                 1.390974\n",
      "Massachusetts            1.350946\n",
      "New Jersey               1.300911\n",
      "Oregon                   1.240869\n",
      "Wisconsin                1.100771\n",
      "Maryland                 1.050736\n",
      "Delaware                 0.960672\n",
      "Minnesota                0.890623\n",
      "Connecticut              0.820574\n",
      "Missouri                 0.660462\n",
      "Oklahoma                 0.660462\n",
      "Alabama                  0.610427\n",
      "Arkansas                 0.600420\n",
      "Rhode Island             0.560392\n",
      "Utah                     0.530371\n",
      "Mississippi              0.530371\n",
      "South Carolina           0.420294\n",
      "Louisiana                0.420294\n",
      "Nevada                   0.390273\n",
      "Nebraska                 0.380266\n",
      "New Mexico               0.370259\n",
      "Iowa                     0.300210\n",
      "New Hampshire            0.270189\n",
      "Kansas                   0.240168\n",
      "Idaho                    0.210147\n",
      "Montana                  0.150105\n",
      "South Dakota             0.120084\n",
      "Vermont                  0.110077\n",
      "District of Columbia     0.100070\n",
      "Maine                    0.080056\n",
      "North Dakota             0.070049\n",
      "West Virginia            0.040028\n",
      "Wyoming                  0.010007\n",
      "Name: proportion, dtype: float64\n",
      "__________________________________________________\n",
      "region\n",
      "West       32.052437\n",
      "East       28.489943\n",
      "Central    23.246272\n",
      "South      16.211348\n",
      "Name: proportion, dtype: float64\n",
      "__________________________________________________\n",
      "product id\n",
      "OFF-PA-10001970    0.190133\n",
      "TEC-AC-10003832    0.180126\n",
      "FUR-FU-10004270    0.160112\n",
      "FUR-CH-10002647    0.150105\n",
      "FUR-CH-10001146    0.150105\n",
      "                     ...   \n",
      "TEC-MA-10004552    0.010007\n",
      "TEC-MA-10003589    0.010007\n",
      "OFF-AP-10003099    0.010007\n",
      "TEC-PH-10002645    0.010007\n",
      "OFF-ST-10001627    0.010007\n",
      "Name: proportion, Length: 1862, dtype: float64\n",
      "__________________________________________________\n",
      "sub category\n",
      "Binders        15.240668\n",
      "Paper          13.709597\n",
      "Furnishings     9.576704\n",
      "Phones          8.896227\n",
      "Storage         8.465926\n",
      "Art             7.965576\n",
      "Accessories     7.755429\n",
      "Chairs          6.164315\n",
      "Appliances      4.663264\n",
      "Labels          3.642550\n",
      "Tables          3.192235\n",
      "Envelopes       2.541779\n",
      "Bookcases       2.281597\n",
      "Fasteners       2.171520\n",
      "Supplies        1.901331\n",
      "Machines        1.150806\n",
      "Copiers         0.680476\n",
      "Name: proportion, dtype: float64\n",
      "__________________________________________________\n",
      "product name\n",
      "Staple envelope                                                            0.480336\n",
      "Staples                                                                    0.460322\n",
      "Easy-staple paper                                                          0.460322\n",
      "Avery Non-Stick Binders                                                    0.200140\n",
      "Staples in misc. colors                                                    0.190133\n",
      "                                                                             ...   \n",
      "Xiaomi Mi3                                                                 0.010007\n",
      "Sanitaire Vibra Groomer IR Commercial Upright Vacuum, Replacement Belts    0.010007\n",
      "Holmes Harmony HEPA Air Purifier for 17 x 20 Room                          0.010007\n",
      "Avery Hi-Liter Pen Style Six-Color Fluorescent Set                         0.010007\n",
      "Eldon Jumbo ProFile Portable File Boxes Graphite/Black                     0.010007\n",
      "Name: proportion, Length: 1850, dtype: float64\n",
      "__________________________________________________\n"
     ]
    }
   ],
   "source": [
    "# Checking the value counts of each categorical column so there will not be any extra wrong input\n",
    "for i in data.select_dtypes(exclude='number').columns:\n",
    "    print(data[i].value_counts(normalize=True)*100)\n",
    "    print(\"_\"*50)"
   ]
  },
  {
   "cell_type": "code",
   "execution_count": 20,
   "id": "2276d5c5",
   "metadata": {},
   "outputs": [
    {
     "data": {
      "text/html": [
       "<div>\n",
       "<style scoped>\n",
       "    .dataframe tbody tr th:only-of-type {\n",
       "        vertical-align: middle;\n",
       "    }\n",
       "\n",
       "    .dataframe tbody tr th {\n",
       "        vertical-align: top;\n",
       "    }\n",
       "\n",
       "    .dataframe thead th {\n",
       "        text-align: right;\n",
       "    }\n",
       "</style>\n",
       "<table border=\"1\" class=\"dataframe\">\n",
       "  <thead>\n",
       "    <tr style=\"text-align: right;\">\n",
       "      <th></th>\n",
       "      <th>order id</th>\n",
       "      <th>order date</th>\n",
       "      <th>ship mode</th>\n",
       "      <th>customer id</th>\n",
       "      <th>segment</th>\n",
       "      <th>state</th>\n",
       "      <th>region</th>\n",
       "      <th>product id</th>\n",
       "      <th>sub category</th>\n",
       "      <th>product name</th>\n",
       "      <th>sales</th>\n",
       "      <th>quantity</th>\n",
       "      <th>discount</th>\n",
       "      <th>profit</th>\n",
       "    </tr>\n",
       "  </thead>\n",
       "  <tbody>\n",
       "    <tr>\n",
       "      <th>0</th>\n",
       "      <td>CA-2016-152156</td>\n",
       "      <td>2016-11-08</td>\n",
       "      <td>Second Class</td>\n",
       "      <td>CG-12520</td>\n",
       "      <td>Consumer</td>\n",
       "      <td>Kentucky</td>\n",
       "      <td>South</td>\n",
       "      <td>FUR-BO-10001798</td>\n",
       "      <td>Bookcases</td>\n",
       "      <td>Bush Somerset Collection Bookcase</td>\n",
       "      <td>261.96</td>\n",
       "      <td>2</td>\n",
       "      <td>0.0</td>\n",
       "      <td>41.9136</td>\n",
       "    </tr>\n",
       "  </tbody>\n",
       "</table>\n",
       "</div>"
      ],
      "text/plain": [
       "         order id order date     ship mode customer id   segment     state  \\\n",
       "0  CA-2016-152156 2016-11-08  Second Class    CG-12520  Consumer  Kentucky   \n",
       "\n",
       "  region       product id sub category                       product name  \\\n",
       "0  South  FUR-BO-10001798    Bookcases  Bush Somerset Collection Bookcase   \n",
       "\n",
       "    sales  quantity  discount   profit  \n",
       "0  261.96         2       0.0  41.9136  "
      ]
     },
     "execution_count": 20,
     "metadata": {},
     "output_type": "execute_result"
    }
   ],
   "source": [
    "data.head(1)"
   ]
  },
  {
   "cell_type": "markdown",
   "id": "b3b67480",
   "metadata": {},
   "source": [
    "### Creating new data frame for customers"
   ]
  },
  {
   "cell_type": "code",
   "execution_count": 21,
   "id": "466c81fe",
   "metadata": {},
   "outputs": [],
   "source": [
    "# Creating a dataset of customer level\n",
    "customer=data.groupby('customer id').agg({\n",
    "    'sales': 'sum',\n",
    "    'discount': 'mean',\n",
    "    'quantity': 'sum',\n",
    "    'order id': 'nunique',\n",
    "    'product id': 'nunique',\n",
    "    'sub category': pd.Series.nunique,\n",
    "    'ship mode':lambda x: x.mode().iloc[0] if not x.mode().empty else None,\n",
    "    'segment':lambda x: x.mode().iloc[0] if not x.mode().empty else None\n",
    "}).reset_index()"
   ]
  },
  {
   "cell_type": "code",
   "execution_count": 22,
   "id": "ff72a806",
   "metadata": {},
   "outputs": [
    {
     "data": {
      "text/html": [
       "<div>\n",
       "<style scoped>\n",
       "    .dataframe tbody tr th:only-of-type {\n",
       "        vertical-align: middle;\n",
       "    }\n",
       "\n",
       "    .dataframe tbody tr th {\n",
       "        vertical-align: top;\n",
       "    }\n",
       "\n",
       "    .dataframe thead th {\n",
       "        text-align: right;\n",
       "    }\n",
       "</style>\n",
       "<table border=\"1\" class=\"dataframe\">\n",
       "  <thead>\n",
       "    <tr style=\"text-align: right;\">\n",
       "      <th></th>\n",
       "      <th>customer id</th>\n",
       "      <th>sales</th>\n",
       "      <th>discount</th>\n",
       "      <th>quantity</th>\n",
       "      <th>order id</th>\n",
       "      <th>product id</th>\n",
       "      <th>sub category</th>\n",
       "      <th>ship mode</th>\n",
       "      <th>segment</th>\n",
       "    </tr>\n",
       "  </thead>\n",
       "  <tbody>\n",
       "    <tr>\n",
       "      <th>0</th>\n",
       "      <td>AA-10315</td>\n",
       "      <td>5563.560</td>\n",
       "      <td>0.090909</td>\n",
       "      <td>30</td>\n",
       "      <td>5</td>\n",
       "      <td>11</td>\n",
       "      <td>9</td>\n",
       "      <td>Standard Class</td>\n",
       "      <td>Consumer</td>\n",
       "    </tr>\n",
       "    <tr>\n",
       "      <th>1</th>\n",
       "      <td>AA-10375</td>\n",
       "      <td>1056.390</td>\n",
       "      <td>0.080000</td>\n",
       "      <td>41</td>\n",
       "      <td>9</td>\n",
       "      <td>15</td>\n",
       "      <td>7</td>\n",
       "      <td>Standard Class</td>\n",
       "      <td>Consumer</td>\n",
       "    </tr>\n",
       "    <tr>\n",
       "      <th>2</th>\n",
       "      <td>AA-10480</td>\n",
       "      <td>1790.512</td>\n",
       "      <td>0.016667</td>\n",
       "      <td>36</td>\n",
       "      <td>4</td>\n",
       "      <td>12</td>\n",
       "      <td>7</td>\n",
       "      <td>Standard Class</td>\n",
       "      <td>Consumer</td>\n",
       "    </tr>\n",
       "    <tr>\n",
       "      <th>3</th>\n",
       "      <td>AA-10645</td>\n",
       "      <td>5086.935</td>\n",
       "      <td>0.063889</td>\n",
       "      <td>64</td>\n",
       "      <td>6</td>\n",
       "      <td>18</td>\n",
       "      <td>9</td>\n",
       "      <td>Standard Class</td>\n",
       "      <td>Consumer</td>\n",
       "    </tr>\n",
       "    <tr>\n",
       "      <th>4</th>\n",
       "      <td>AB-10015</td>\n",
       "      <td>886.156</td>\n",
       "      <td>0.066667</td>\n",
       "      <td>13</td>\n",
       "      <td>3</td>\n",
       "      <td>6</td>\n",
       "      <td>5</td>\n",
       "      <td>First Class</td>\n",
       "      <td>Consumer</td>\n",
       "    </tr>\n",
       "  </tbody>\n",
       "</table>\n",
       "</div>"
      ],
      "text/plain": [
       "  customer id     sales  discount  quantity  order id  product id  \\\n",
       "0    AA-10315  5563.560  0.090909        30         5          11   \n",
       "1    AA-10375  1056.390  0.080000        41         9          15   \n",
       "2    AA-10480  1790.512  0.016667        36         4          12   \n",
       "3    AA-10645  5086.935  0.063889        64         6          18   \n",
       "4    AB-10015   886.156  0.066667        13         3           6   \n",
       "\n",
       "   sub category       ship mode   segment  \n",
       "0             9  Standard Class  Consumer  \n",
       "1             7  Standard Class  Consumer  \n",
       "2             7  Standard Class  Consumer  \n",
       "3             9  Standard Class  Consumer  \n",
       "4             5     First Class  Consumer  "
      ]
     },
     "execution_count": 22,
     "metadata": {},
     "output_type": "execute_result"
    }
   ],
   "source": [
    "customer.head()"
   ]
  },
  {
   "cell_type": "markdown",
   "id": "9c923871",
   "metadata": {},
   "source": [
    "### Creating a model for customer segmentation"
   ]
  },
  {
   "cell_type": "code",
   "execution_count": 23,
   "id": "42a41e73",
   "metadata": {},
   "outputs": [],
   "source": [
    "processor=ColumnTransformer(transformers=[\n",
    "    ('ohe',OneHotEncoder(sparse_output=False,drop='first',handle_unknown='ignore'),[0,7,8]),\n",
    "    ('scaling',StandardScaler(),[1,2,3,4,5,6])\n",
    "],remainder='passthrough')"
   ]
  },
  {
   "cell_type": "code",
   "execution_count": 24,
   "id": "be12e118",
   "metadata": {},
   "outputs": [],
   "source": [
    "customer_scaled=processor.fit_transform(customer)"
   ]
  },
  {
   "cell_type": "code",
   "execution_count": 25,
   "id": "8309932b",
   "metadata": {},
   "outputs": [
    {
     "name": "stdout",
     "output_type": "stream",
     "text": [
      "[4131.472513048215, 3604.183231360335, 3285.6063881909377, 3073.2225969840374, 2855.7256709508465, 2732.828724986988, 2643.373843237425, 2565.557835992054]\n"
     ]
    },
    {
     "data": {
      "image/png": "[encoded data removed]",
      "text/plain": [
       "<Figure size 640x480 with 1 Axes>"
      ]
     },
     "metadata": {},
     "output_type": "display_data"
    }
   ],
   "source": [
    "\n",
    "scores = []\n",
    "for k in range(2, 10):\n",
    "    model = KMeans(n_clusters=k, random_state=42)\n",
    "    model.fit(customer_scaled)\n",
    "    scores.append(model.inertia_)\n",
    "print(scores)\n",
    "\n",
    "plt.plot(range(2, 10), scores, marker='o')\n",
    "plt.title(\"Silhouette Score vs K\")\n",
    "plt.xlabel(\"No. of Clusters\")\n",
    "plt.ylabel(\"Silhouette Score\")\n",
    "plt.show()"
   ]
  },
  {
   "cell_type": "markdown",
   "id": "f564a21a",
   "metadata": {},
   "source": [
    "We can assume 6 is the best number for k"
   ]
  },
  {
   "cell_type": "code",
   "execution_count": 26,
   "id": "397f5ed4",
   "metadata": {},
   "outputs": [],
   "source": [
    "k = 6  # example\n",
    "kmeans = KMeans(n_clusters=k, random_state=42)\n",
    "clusters = kmeans.fit_predict(customer_scaled)\n",
    "\n",
    "customer['class'] = clusters"
   ]
  },
  {
   "cell_type": "code",
   "execution_count": 27,
   "id": "a3059e0e",
   "metadata": {},
   "outputs": [
    {
     "data": {
      "text/html": [
       "<div>\n",
       "<style scoped>\n",
       "    .dataframe tbody tr th:only-of-type {\n",
       "        vertical-align: middle;\n",
       "    }\n",
       "\n",
       "    .dataframe tbody tr th {\n",
       "        vertical-align: top;\n",
       "    }\n",
       "\n",
       "    .dataframe thead th {\n",
       "        text-align: right;\n",
       "    }\n",
       "</style>\n",
       "<table border=\"1\" class=\"dataframe\">\n",
       "  <thead>\n",
       "    <tr style=\"text-align: right;\">\n",
       "      <th></th>\n",
       "      <th>customer id</th>\n",
       "      <th>sales</th>\n",
       "      <th>discount</th>\n",
       "      <th>quantity</th>\n",
       "      <th>order id</th>\n",
       "      <th>product id</th>\n",
       "      <th>sub category</th>\n",
       "      <th>ship mode</th>\n",
       "      <th>segment</th>\n",
       "      <th>class</th>\n",
       "    </tr>\n",
       "  </thead>\n",
       "  <tbody>\n",
       "    <tr>\n",
       "      <th>0</th>\n",
       "      <td>AA-10315</td>\n",
       "      <td>5563.560</td>\n",
       "      <td>0.090909</td>\n",
       "      <td>30</td>\n",
       "      <td>5</td>\n",
       "      <td>11</td>\n",
       "      <td>9</td>\n",
       "      <td>Standard Class</td>\n",
       "      <td>Consumer</td>\n",
       "      <td>3</td>\n",
       "    </tr>\n",
       "    <tr>\n",
       "      <th>1</th>\n",
       "      <td>AA-10375</td>\n",
       "      <td>1056.390</td>\n",
       "      <td>0.080000</td>\n",
       "      <td>41</td>\n",
       "      <td>9</td>\n",
       "      <td>15</td>\n",
       "      <td>7</td>\n",
       "      <td>Standard Class</td>\n",
       "      <td>Consumer</td>\n",
       "      <td>3</td>\n",
       "    </tr>\n",
       "    <tr>\n",
       "      <th>2</th>\n",
       "      <td>AA-10480</td>\n",
       "      <td>1790.512</td>\n",
       "      <td>0.016667</td>\n",
       "      <td>36</td>\n",
       "      <td>4</td>\n",
       "      <td>12</td>\n",
       "      <td>7</td>\n",
       "      <td>Standard Class</td>\n",
       "      <td>Consumer</td>\n",
       "      <td>3</td>\n",
       "    </tr>\n",
       "    <tr>\n",
       "      <th>3</th>\n",
       "      <td>AA-10645</td>\n",
       "      <td>5086.935</td>\n",
       "      <td>0.063889</td>\n",
       "      <td>64</td>\n",
       "      <td>6</td>\n",
       "      <td>18</td>\n",
       "      <td>9</td>\n",
       "      <td>Standard Class</td>\n",
       "      <td>Consumer</td>\n",
       "      <td>2</td>\n",
       "    </tr>\n",
       "    <tr>\n",
       "      <th>4</th>\n",
       "      <td>AB-10015</td>\n",
       "      <td>886.156</td>\n",
       "      <td>0.066667</td>\n",
       "      <td>13</td>\n",
       "      <td>3</td>\n",
       "      <td>6</td>\n",
       "      <td>5</td>\n",
       "      <td>First Class</td>\n",
       "      <td>Consumer</td>\n",
       "      <td>1</td>\n",
       "    </tr>\n",
       "  </tbody>\n",
       "</table>\n",
       "</div>"
      ],
      "text/plain": [
       "  customer id     sales  discount  quantity  order id  product id  \\\n",
       "0    AA-10315  5563.560  0.090909        30         5          11   \n",
       "1    AA-10375  1056.390  0.080000        41         9          15   \n",
       "2    AA-10480  1790.512  0.016667        36         4          12   \n",
       "3    AA-10645  5086.935  0.063889        64         6          18   \n",
       "4    AB-10015   886.156  0.066667        13         3           6   \n",
       "\n",
       "   sub category       ship mode   segment  class  \n",
       "0             9  Standard Class  Consumer      3  \n",
       "1             7  Standard Class  Consumer      3  \n",
       "2             7  Standard Class  Consumer      3  \n",
       "3             9  Standard Class  Consumer      2  \n",
       "4             5     First Class  Consumer      1  "
      ]
     },
     "execution_count": 27,
     "metadata": {},
     "output_type": "execute_result"
    }
   ],
   "source": [
    "customer.head()"
   ]
  },
  {
   "cell_type": "code",
   "execution_count": 28,
   "id": "57397703",
   "metadata": {},
   "outputs": [],
   "source": [
    "from sklearn.decomposition import PCA\n",
    "pca=PCA(n_components=2)\n",
    "pca_data=pca.fit_transform(customer_scaled)\n",
    "pca_data = pd.DataFrame(data=pca_data, columns=['PC1', 'PC2'])\n",
    "pca_data['segment'] = customer['segment'].values"
   ]
  },
  {
   "cell_type": "code",
   "execution_count": 29,
   "id": "354ada01",
   "metadata": {},
   "outputs": [
    {
     "data": {
      "application/vnd.plotly.v1+json": {
       "config": {
        "plotlyServerURL": "https://plot.ly"
       },
       "data": [
        {
         "hovertemplate": "Principal Component 1=%{x}<br>Principal Component 2=%{y}<br>Principal Component 3=%{z}<br>segment=%{marker.color}<extra></extra>",
         "legendgroup": "",
         "marker": {
          "color": {
           "bdata": "AwAAAAMAAAADAAAAAgAAAAEAAAAEAAAABAAAAAMAAAADAAAAAgAAAAUAAAAFAAAAAwAAAAIAAAABAAAAAwAAAAIAAAAFAAAAAwAAAAEAAAAFAAAABQAAAAIAAAADAAAAAgAAAAUAAAAAAAAAAwAAAAIAAAACAAAABQAAAAIAAAADAAAAAQAAAAAAAAACAAAAAgAAAAAAAAADAAAAAQAAAAMAAAAAAAAAAQAAAAIAAAAAAAAABQAAAAMAAAAFAAAAAwAAAAEAAAACAAAABQAAAAAAAAABAAAAAwAAAAUAAAAFAAAAAwAAAAMAAAACAAAABQAAAAIAAAADAAAAAwAAAAUAAAAAAAAAAgAAAAAAAAADAAAAAQAAAAIAAAADAAAAAQAAAAMAAAADAAAAAwAAAAEAAAADAAAAAwAAAAUAAAACAAAAAQAAAAAAAAADAAAAAQAAAAIAAAADAAAAAwAAAAAAAAACAAAABAAAAAMAAAAAAAAAAgAAAAEAAAADAAAABQAAAAEAAAADAAAAAgAAAAMAAAACAAAAAQAAAAIAAAAEAAAAAgAAAAUAAAADAAAAAgAAAAEAAAADAAAAAwAAAAEAAAABAAAAAwAAAAIAAAADAAAAAQAAAAIAAAADAAAAAwAAAAUAAAACAAAAAwAAAAIAAAAAAAAABQAAAAIAAAADAAAAAwAAAAAAAAAEAAAAAgAAAAIAAAABAAAAAgAAAAMAAAAFAAAAAwAAAAUAAAADAAAAAwAAAAMAAAABAAAAAQAAAAEAAAAEAAAAAAAAAAMAAAAAAAAAAgAAAAMAAAAAAAAABQAAAAMAAAABAAAAAQAAAAUAAAABAAAAAwAAAAQAAAADAAAAAwAAAAUAAAACAAAAAgAAAAMAAAABAAAABQAAAAEAAAAFAAAABQAAAAIAAAABAAAAAwAAAAAAAAAAAAAAAgAAAAEAAAAFAAAAAwAAAAIAAAADAAAAAgAAAAMAAAADAAAAAwAAAAEAAAADAAAAAwAAAAIAAAACAAAAAgAAAAIAAAABAAAAAwAAAAIAAAADAAAAAwAAAAIAAAADAAAABQAAAAMAAAAFAAAAAwAAAAIAAAADAAAAAQAAAAMAAAADAAAAAAAAAAIAAAADAAAAAwAAAAEAAAACAAAAAgAAAAIAAAADAAAAAgAAAAEAAAADAAAAAwAAAAIAAAACAAAAAwAAAAMAAAACAAAAAwAAAAIAAAACAAAAAQAAAAIAAAAAAAAABAAAAAIAAAACAAAAAwAAAAIAAAAFAAAAAwAAAAMAAAADAAAABQAAAAAAAAAAAAAAAgAAAAAAAAADAAAABQAAAAUAAAAFAAAAAwAAAAUAAAADAAAAAgAAAAMAAAAAAAAAAgAAAAMAAAADAAAAAgAAAAUAAAADAAAAAwAAAAEAAAABAAAAAQAAAAIAAAAFAAAABQAAAAMAAAACAAAAAQAAAAMAAAAAAAAAAQAAAAMAAAACAAAAAgAAAAIAAAADAAAAAwAAAAIAAAADAAAABAAAAAIAAAACAAAAAgAAAAIAAAACAAAAAQAAAAMAAAAAAAAAAgAAAAMAAAABAAAAAAAAAAIAAAADAAAABQAAAAEAAAACAAAAAwAAAAMAAAACAAAAAwAAAAMAAAABAAAAAQAAAAUAAAAAAAAABQAAAAMAAAACAAAAAQAAAAMAAAACAAAABQAAAAMAAAACAAAABQAAAAIAAAADAAAAAQAAAAEAAAACAAAABAAAAAAAAAABAAAABQAAAAMAAAACAAAABAAAAAUAAAABAAAAAgAAAAEAAAAAAAAAAAAAAAIAAAAFAAAAAwAAAAUAAAAFAAAAAQAAAAIAAAADAAAABQAAAAAAAAAFAAAAAQAAAAQAAAADAAAABAAAAAAAAAAAAAAAAQAAAAIAAAADAAAAAwAAAAMAAAACAAAAAgAAAAUAAAACAAAABQAAAAMAAAAFAAAAAwAAAAMAAAAEAAAABQAAAAEAAAABAAAAAgAAAAEAAAACAAAAAwAAAAMAAAAAAAAABQAAAAIAAAAFAAAABQAAAAMAAAACAAAAAAAAAAUAAAACAAAAAwAAAAMAAAADAAAAAwAAAAQAAAACAAAAAgAAAAMAAAAFAAAAAgAAAAIAAAADAAAABQAAAAEAAAAFAAAABQAAAAUAAAADAAAABQAAAAIAAAAEAAAAAwAAAAUAAAADAAAAAwAAAAIAAAABAAAAAAAAAAUAAAADAAAABQAAAAEAAAAEAAAAAwAAAAAAAAADAAAAAgAAAAQAAAACAAAAAwAAAAAAAAACAAAAAgAAAAIAAAAAAAAAAgAAAAIAAAADAAAAAAAAAAIAAAAFAAAAAgAAAAUAAAACAAAAAgAAAAMAAAABAAAAAAAAAAUAAAACAAAAAAAAAAAAAAACAAAABQAAAAUAAAACAAAAAQAAAAEAAAAFAAAAAgAAAAUAAAACAAAABQAAAAIAAAADAAAAAQAAAAUAAAADAAAAAgAAAAIAAAAFAAAABQAAAAIAAAADAAAAAQAAAAMAAAABAAAAAgAAAAIAAAADAAAAAQAAAAIAAAAAAAAAAwAAAAIAAAADAAAAAgAAAAMAAAAFAAAAAgAAAAIAAAAFAAAAAgAAAAIAAAADAAAAAgAAAAUAAAAAAAAAAgAAAAEAAAADAAAAAwAAAAIAAAAFAAAABQAAAAUAAAACAAAAAwAAAAUAAAACAAAAAQAAAAMAAAAFAAAAAwAAAAMAAAAAAAAAAgAAAAIAAAADAAAAAgAAAAIAAAADAAAABQAAAAEAAAABAAAAAgAAAAIAAAADAAAABQAAAAUAAAADAAAABQAAAAIAAAACAAAAAgAAAAUAAAAAAAAAAQAAAAIAAAACAAAAAQAAAAMAAAADAAAABQAAAAIAAAADAAAAAwAAAAEAAAAFAAAAAAAAAAEAAAAFAAAAAQAAAAIAAAADAAAABQAAAAQAAAAFAAAAAgAAAAMAAAAEAAAABQAAAAMAAAADAAAAAwAAAAMAAAADAAAAAwAAAAQAAAACAAAAAgAAAAMAAAAFAAAABAAAAAMAAAACAAAAAAAAAAAAAAACAAAAAgAAAAMAAAAFAAAAAQAAAAEAAAADAAAAAQAAAAUAAAABAAAABAAAAAMAAAADAAAAAAAAAAIAAAABAAAAAwAAAAMAAAAFAAAAAAAAAAUAAAABAAAAAwAAAAIAAAAAAAAAAwAAAAIAAAAFAAAAAAAAAAMAAAACAAAAAwAAAAQAAAAFAAAAAwAAAAIAAAADAAAAAgAAAAIAAAACAAAAAgAAAAUAAAAFAAAABAAAAAIAAAAAAAAAAwAAAAMAAAABAAAAAgAAAAMAAAADAAAAAgAAAAIAAAABAAAAAgAAAAIAAAACAAAABQAAAAEAAAADAAAAAgAAAAMAAAADAAAAAwAAAAQAAAAFAAAAAwAAAAEAAAAAAAAAAwAAAAMAAAABAAAAAgAAAAUAAAAAAAAAAgAAAAUAAAADAAAAAwAAAAIAAAABAAAAAAAAAAIAAAADAAAAAgAAAAUAAAAEAAAABAAAAAIAAAACAAAABAAAAAMAAAACAAAAAgAAAAAAAAAFAAAABQAAAAMAAAACAAAAAAAAAAIAAAABAAAAAQAAAAAAAAAEAAAAAwAAAAIAAAACAAAAAwAAAAIAAAADAAAABQAAAAAAAAACAAAAAQAAAAAAAAAFAAAAAwAAAAUAAAADAAAABQAAAAQAAAAFAAAAAAAAAAIAAAACAAAAAgAAAAUAAAAAAAAAAgAAAAAAAAACAAAABQAAAAMAAAACAAAABQAAAAEAAAADAAAAAwAAAAMAAAACAAAAAAAAAAAAAAAFAAAAAgAAAAUAAAADAAAABQAAAAMAAAABAAAAAgAAAAQAAAACAAAAAwAAAAEAAAACAAAAAwAAAAMAAAAEAAAAAgAAAAUAAAACAAAABAAAAAEAAAACAAAAAgAAAAMAAAACAAAAAwAAAAMAAAADAAAABQAAAAIAAAADAAAAAgAAAAEAAAACAAAAAgAAAAUAAAAFAAAAAQAAAAUAAAACAAAAAgAAAAUAAAAEAAAAAwAAAAIAAAAFAAAAAwAAAAIAAAACAAAAAQAAAAIAAAADAAAAAwAAAAMAAAAEAAAAAwAAAAMAAAABAAAAAwAAAAMAAAABAAAAAgAAAAUAAAAFAAAAAAAAAAAAAAAAAAAAAwAAAAQAAAAAAAAAAwAAAA==",
           "dtype": "i4"
          },
          "coloraxis": "coloraxis",
          "opacity": 0.7,
          "symbol": "circle"
         },
         "mode": "markers",
         "name": "",
         "scene": "scene",
         "showlegend": false,
         "type": "scatter3d",
         "x": {
          "bdata": "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",
          "dtype": "f8"
         },
         "y": {
          "bdata": "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",
          "dtype": "f8"
         },
         "z": {
          "bdata": "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",
          "dtype": "f8"
         }
        }
       ],
       "layout": {
        "coloraxis": {
         "colorbar": {
          "title": {
           "text": "segment"
          }
         },
         "colorscale": [
          [
           0,
           "#0d0887"
          ],
          [
           0.1111111111111111,
           "#46039f"
          ],
          [
           0.2222222222222222,
           "#7201a8"
          ],
          [
           0.3333333333333333,
           "#9c179e"
          ],
          [
           0.4444444444444444,
           "#bd3786"
          ],
          [
           0.5555555555555556,
           "#d8576b"
          ],
          [
           0.6666666666666666,
           "#ed7953"
          ],
          [
           0.7777777777777778,
           "#fb9f3a"
          ],
          [
           0.8888888888888888,
           "#fdca26"
          ],
          [
           1,
           "#f0f921"
          ]
         ]
        },
        "height": 600,
        "legend": {
         "tracegroupgap": 0
        },
        "scene": {
         "domain": {
          "x": [
           0,
           1
          ],
          "y": [
           0,
           1
          ]
         },
         "xaxis": {
          "title": {
           "text": "Principal Component 1"
          }
         },
         "yaxis": {
          "title": {
           "text": "Principal Component 2"
          }
         },
         "zaxis": {
          "title": {
           "text": "Principal Component 3"
          }
         }
        },
        "template": {
         "data": {
          "bar": [
           {
            "error_x": {
             "color": "#2a3f5f"
            },
            "error_y": {
             "color": "#2a3f5f"
            },
            "marker": {
             "line": {
              "color": "#E5ECF6",
              "width": 0.5
             },
             "pattern": {
              "fillmode": "overlay",
              "size": 10,
              "solidity": 0.2
             }
            },
            "type": "bar"
           }
          ],
          "barpolar": [
           {
            "marker": {
             "line": {
              "color": "#E5ECF6",
              "width": 0.5
             },
             "pattern": {
              "fillmode": "overlay",
              "size": 10,
              "solidity": 0.2
             }
            },
            "type": "barpolar"
           }
          ],
          "carpet": [
           {
            "aaxis": {
             "endlinecolor": "#2a3f5f",
             "gridcolor": "white",
             "linecolor": "white",
             "minorgridcolor": "white",
             "startlinecolor": "#2a3f5f"
            },
            "baxis": {
             "endlinecolor": "#2a3f5f",
             "gridcolor": "white",
             "linecolor": "white",
             "minorgridcolor": "white",
             "startlinecolor": "#2a3f5f"
            },
            "type": "carpet"
           }
          ],
          "choropleth": [
           {
            "colorbar": {
             "outlinewidth": 0,
             "ticks": ""
            },
            "type": "choropleth"
           }
          ],
          "contour": [
           {
            "colorbar": {
             "outlinewidth": 0,
             "ticks": ""
            },
            "colorscale": [
             [
              0,
              "#0d0887"
             ],
             [
              0.1111111111111111,
              "#46039f"
             ],
             [
              0.2222222222222222,
              "#7201a8"
             ],
             [
              0.3333333333333333,
              "#9c179e"
             ],
             [
              0.4444444444444444,
              "#bd3786"
             ],
             [
              0.5555555555555556,
              "#d8576b"
             ],
             [
              0.6666666666666666,
              "#ed7953"
             ],
             [
              0.7777777777777778,
              "#fb9f3a"
             ],
             [
              0.8888888888888888,
              "#fdca26"
             ],
             [
              1,
              "#f0f921"
             ]
            ],
            "type": "contour"
           }
          ],
          "contourcarpet": [
           {
            "colorbar": {
             "outlinewidth": 0,
             "ticks": ""
            },
            "type": "contourcarpet"
           }
          ],
          "heatmap": [
           {
            "colorbar": {
             "outlinewidth": 0,
             "ticks": ""
            },
            "colorscale": [
             [
              0,
              "#0d0887"
             ],
             [
              0.1111111111111111,
              "#46039f"
             ],
             [
              0.2222222222222222,
              "#7201a8"
             ],
             [
              0.3333333333333333,
              "#9c179e"
             ],
             [
              0.4444444444444444,
              "#bd3786"
             ],
             [
              0.5555555555555556,
              "#d8576b"
             ],
             [
              0.6666666666666666,
              "#ed7953"
             ],
             [
              0.7777777777777778,
              "#fb9f3a"
             ],
             [
              0.8888888888888888,
              "#fdca26"
             ],
             [
              1,
              "#f0f921"
             ]
            ],
            "type": "heatmap"
           }
          ],
          "histogram": [
           {
            "marker": {
             "pattern": {
              "fillmode": "overlay",
              "size": 10,
              "solidity": 0.2
             }
            },
            "type": "histogram"
           }
          ],
          "histogram2d": [
           {
            "colorbar": {
             "outlinewidth": 0,
             "ticks": ""
            },
            "colorscale": [
             [
              0,
              "#0d0887"
             ],
             [
              0.1111111111111111,
              "#46039f"
             ],
             [
              0.2222222222222222,
              "#7201a8"
             ],
             [
              0.3333333333333333,
              "#9c179e"
             ],
             [
              0.4444444444444444,
              "#bd3786"
             ],
             [
              0.5555555555555556,
              "#d8576b"
             ],
             [
              0.6666666666666666,
              "#ed7953"
             ],
             [
              0.7777777777777778,
              "#fb9f3a"
             ],
             [
              0.8888888888888888,
              "#fdca26"
             ],
             [
              1,
              "#f0f921"
             ]
            ],
            "type": "histogram2d"
           }
          ],
          "histogram2dcontour": [
           {
            "colorbar": {
             "outlinewidth": 0,
             "ticks": ""
            },
            "colorscale": [
             [
              0,
              "#0d0887"
             ],
             [
              0.1111111111111111,
              "#46039f"
             ],
             [
              0.2222222222222222,
              "#7201a8"
             ],
             [
              0.3333333333333333,
              "#9c179e"
             ],
             [
              0.4444444444444444,
              "#bd3786"
             ],
             [
              0.5555555555555556,
              "#d8576b"
             ],
             [
              0.6666666666666666,
              "#ed7953"
             ],
             [
              0.7777777777777778,
              "#fb9f3a"
             ],
             [
              0.8888888888888888,
              "#fdca26"
             ],
             [
              1,
              "#f0f921"
             ]
            ],
            "type": "histogram2dcontour"
           }
          ],
          "mesh3d": [
           {
            "colorbar": {
             "outlinewidth": 0,
             "ticks": ""
            },
            "type": "mesh3d"
           }
          ],
          "parcoords": [
           {
            "line": {
             "colorbar": {
              "outlinewidth": 0,
              "ticks": ""
             }
            },
            "type": "parcoords"
           }
          ],
          "pie": [
           {
            "automargin": true,
            "type": "pie"
           }
          ],
          "scatter": [
           {
            "fillpattern": {
             "fillmode": "overlay",
             "size": 10,
             "solidity": 0.2
            },
            "type": "scatter"
           }
          ],
          "scatter3d": [
           {
            "line": {
             "colorbar": {
              "outlinewidth": 0,
              "ticks": ""
             }
            },
            "marker": {
             "colorbar": {
              "outlinewidth": 0,
              "ticks": ""
             }
            },
            "type": "scatter3d"
           }
          ],
          "scattercarpet": [
           {
            "marker": {
             "colorbar": {
              "outlinewidth": 0,
              "ticks": ""
             }
            },
            "type": "scattercarpet"
           }
          ],
          "scattergeo": [
           {
            "marker": {
             "colorbar": {
              "outlinewidth": 0,
              "ticks": ""
             }
            },
            "type": "scattergeo"
           }
          ],
          "scattergl": [
           {
            "marker": {
             "colorbar": {
              "outlinewidth": 0,
              "ticks": ""
             }
            },
            "type": "scattergl"
           }
          ],
          "scattermap": [
           {
            "marker": {
             "colorbar": {
              "outlinewidth": 0,
              "ticks": ""
             }
            },
            "type": "scattermap"
           }
          ],
          "scattermapbox": [
           {
            "marker": {
             "colorbar": {
              "outlinewidth": 0,
              "ticks": ""
             }
            },
            "type": "scattermapbox"
           }
          ],
          "scatterpolar": [
           {
            "marker": {
             "colorbar": {
              "outlinewidth": 0,
              "ticks": ""
             }
            },
            "type": "scatterpolar"
           }
          ],
          "scatterpolargl": [
           {
            "marker": {
             "colorbar": {
              "outlinewidth": 0,
              "ticks": ""
             }
            },
            "type": "scatterpolargl"
           }
          ],
          "scatterternary": [
           {
            "marker": {
             "colorbar": {
              "outlinewidth": 0,
              "ticks": ""
             }
            },
            "type": "scatterternary"
           }
          ],
          "surface": [
           {
            "colorbar": {
             "outlinewidth": 0,
             "ticks": ""
            },
            "colorscale": [
             [
              0,
              "#0d0887"
             ],
             [
              0.1111111111111111,
              "#46039f"
             ],
             [
              0.2222222222222222,
              "#7201a8"
             ],
             [
              0.3333333333333333,
              "#9c179e"
             ],
             [
              0.4444444444444444,
              "#bd3786"
             ],
             [
              0.5555555555555556,
              "#d8576b"
             ],
             [
              0.6666666666666666,
              "#ed7953"
             ],
             [
              0.7777777777777778,
              "#fb9f3a"
             ],
             [
              0.8888888888888888,
              "#fdca26"
             ],
             [
              1,
              "#f0f921"
             ]
            ],
            "type": "surface"
           }
          ],
          "table": [
           {
            "cells": {
             "fill": {
              "color": "#EBF0F8"
             },
             "line": {
              "color": "white"
             }
            },
            "header": {
             "fill": {
              "color": "#C8D4E3"
             },
             "line": {
              "color": "white"
             }
            },
            "type": "table"
           }
          ]
         },
         "layout": {
          "annotationdefaults": {
           "arrowcolor": "#2a3f5f",
           "arrowhead": 0,
           "arrowwidth": 1
          },
          "autotypenumbers": "strict",
          "coloraxis": {
           "colorbar": {
            "outlinewidth": 0,
            "ticks": ""
           }
          },
          "colorscale": {
           "diverging": [
            [
             0,
             "#8e0152"
            ],
            [
             0.1,
             "#c51b7d"
            ],
            [
             0.2,
             "#de77ae"
            ],
            [
             0.3,
             "#f1b6da"
            ],
            [
             0.4,
             "#fde0ef"
            ],
            [
             0.5,
             "#f7f7f7"
            ],
            [
             0.6,
             "#e6f5d0"
            ],
            [
             0.7,
             "#b8e186"
            ],
            [
             0.8,
             "#7fbc41"
            ],
            [
             0.9,
             "#4d9221"
            ],
            [
             1,
             "#276419"
            ]
           ],
           "sequential": [
            [
             0,
             "#0d0887"
            ],
            [
             0.1111111111111111,
             "#46039f"
            ],
            [
             0.2222222222222222,
             "#7201a8"
            ],
            [
             0.3333333333333333,
             "#9c179e"
            ],
            [
             0.4444444444444444,
             "#bd3786"
            ],
            [
             0.5555555555555556,
             "#d8576b"
            ],
            [
             0.6666666666666666,
             "#ed7953"
            ],
            [
             0.7777777777777778,
             "#fb9f3a"
            ],
            [
             0.8888888888888888,
             "#fdca26"
            ],
            [
             1,
             "#f0f921"
            ]
           ],
           "sequentialminus": [
            [
             0,
             "#0d0887"
            ],
            [
             0.1111111111111111,
             "#46039f"
            ],
            [
             0.2222222222222222,
             "#7201a8"
            ],
            [
             0.3333333333333333,
             "#9c179e"
            ],
            [
             0.4444444444444444,
             "#bd3786"
            ],
            [
             0.5555555555555556,
             "#d8576b"
            ],
            [
             0.6666666666666666,
             "#ed7953"
            ],
            [
             0.7777777777777778,
             "#fb9f3a"
            ],
            [
             0.8888888888888888,
             "#fdca26"
            ],
            [
             1,
             "#f0f921"
            ]
           ]
          },
          "colorway": [
           "#636efa",
           "#EF553B",
           "#00cc96",
           "#ab63fa",
           "#FFA15A",
           "#19d3f3",
           "#FF6692",
           "#B6E880",
           "#FF97FF",
           "#FECB52"
          ],
          "font": {
           "color": "#2a3f5f"
          },
          "geo": {
           "bgcolor": "white",
           "lakecolor": "white",
           "landcolor": "#E5ECF6",
           "showlakes": true,
           "showland": true,
           "subunitcolor": "white"
          },
          "hoverlabel": {
           "align": "left"
          },
          "hovermode": "closest",
          "mapbox": {
           "style": "light"
          },
          "paper_bgcolor": "white",
          "plot_bgcolor": "#E5ECF6",
          "polar": {
           "angularaxis": {
            "gridcolor": "white",
            "linecolor": "white",
            "ticks": ""
           },
           "bgcolor": "#E5ECF6",
           "radialaxis": {
            "gridcolor": "white",
            "linecolor": "white",
            "ticks": ""
           }
          },
          "scene": {
           "xaxis": {
            "backgroundcolor": "#E5ECF6",
            "gridcolor": "white",
            "gridwidth": 2,
            "linecolor": "white",
            "showbackground": true,
            "ticks": "",
            "zerolinecolor": "white"
           },
           "yaxis": {
            "backgroundcolor": "#E5ECF6",
            "gridcolor": "white",
            "gridwidth": 2,
            "linecolor": "white",
            "showbackground": true,
            "ticks": "",
            "zerolinecolor": "white"
           },
           "zaxis": {
            "backgroundcolor": "#E5ECF6",
            "gridcolor": "white",
            "gridwidth": 2,
            "linecolor": "white",
            "showbackground": true,
            "ticks": "",
            "zerolinecolor": "white"
           }
          },
          "shapedefaults": {
           "line": {
            "color": "#2a3f5f"
           }
          },
          "ternary": {
           "aaxis": {
            "gridcolor": "white",
            "linecolor": "white",
            "ticks": ""
           },
           "baxis": {
            "gridcolor": "white",
            "linecolor": "white",
            "ticks": ""
           },
           "bgcolor": "#E5ECF6",
           "caxis": {
            "gridcolor": "white",
            "linecolor": "white",
            "ticks": ""
           }
          },
          "title": {
           "x": 0.05
          },
          "xaxis": {
           "automargin": true,
           "gridcolor": "white",
           "linecolor": "white",
           "ticks": "",
           "title": {
            "standoff": 15
           },
           "zerolinecolor": "white",
           "zerolinewidth": 2
          },
          "yaxis": {
           "automargin": true,
           "gridcolor": "white",
           "linecolor": "white",
           "ticks": "",
           "title": {
            "standoff": 15
           },
           "zerolinecolor": "white",
           "zerolinewidth": 2
          }
         }
        },
        "title": {
         "text": "3D PCA Scatter Plot (Interactive)"
        },
        "width": 900
       }
      }
     },
     "metadata": {},
     "output_type": "display_data"
    }
   ],
   "source": [
    "import plotly.express as px\n",
    "\n",
    "# ----------------------------\n",
    "# 1. Prepare Your Data\n",
    "# ----------------------------\n",
    "# Assume df is your DataFrame and 'segment' is the label column\n",
    "X = customer.drop(columns=['class'])  # Remove the segment column\n",
    "y = customer['class']                 # Store the labels separately\n",
    "\n",
    "# Standardize the data\n",
    "X_scaled = processor.fit_transform(X)\n",
    "\n",
    "# ----------------------------\n",
    "# 2. Apply PCA (3 Components)\n",
    "# ----------------------------\n",
    "pca = PCA(n_components=3)\n",
    "X_pca = pca.fit_transform(X_scaled)\n",
    "\n",
    "# Combine PCA results with segment for plotting\n",
    "pca_df = pd.DataFrame(X_pca, columns=['PC1', 'PC2', 'PC3'])\n",
    "pca_df['segment'] = y.values\n",
    "\n",
    "# ----------------------------\n",
    "# 3. Plot Using Plotly\n",
    "# ----------------------------\n",
    "fig = px.scatter_3d(\n",
    "    pca_df,\n",
    "    x='PC1',\n",
    "    y='PC2',\n",
    "    z='PC3',\n",
    "    color='segment',\n",
    "    title='3D PCA Scatter Plot (Interactive)',\n",
    "    labels={'PC1': 'Principal Component 1', 'PC2': 'Principal Component 2', 'PC3': 'Principal Component 3'},\n",
    "    opacity=0.7,\n",
    "    width=900,\n",
    "    height=600\n",
    ")\n",
    "\n",
    "fig.show()"
   ]
  },
  {
   "cell_type": "markdown",
   "id": "511739e8",
   "metadata": {},
   "source": [
    "### Merge class to the main dataframe"
   ]
  },
  {
   "cell_type": "code",
   "execution_count": 32,
   "id": "93b70b64",
   "metadata": {},
   "outputs": [],
   "source": [
    "data=data.merge(customer[['class','customer id']],on='customer id')"
   ]
  },
  {
   "cell_type": "code",
   "execution_count": 33,
   "id": "972a9dfa",
   "metadata": {},
   "outputs": [
    {
     "data": {
      "text/html": [
       "<div>\n",
       "<style scoped>\n",
       "    .dataframe tbody tr th:only-of-type {\n",
       "        vertical-align: middle;\n",
       "    }\n",
       "\n",
       "    .dataframe tbody tr th {\n",
       "        vertical-align: top;\n",
       "    }\n",
       "\n",
       "    .dataframe thead th {\n",
       "        text-align: right;\n",
       "    }\n",
       "</style>\n",
       "<table border=\"1\" class=\"dataframe\">\n",
       "  <thead>\n",
       "    <tr style=\"text-align: right;\">\n",
       "      <th></th>\n",
       "      <th>order id</th>\n",
       "      <th>order date</th>\n",
       "      <th>ship mode</th>\n",
       "      <th>customer id</th>\n",
       "      <th>segment</th>\n",
       "      <th>state</th>\n",
       "      <th>region</th>\n",
       "      <th>product id</th>\n",
       "      <th>sub category</th>\n",
       "      <th>product name</th>\n",
       "      <th>sales</th>\n",
       "      <th>quantity</th>\n",
       "      <th>discount</th>\n",
       "      <th>profit</th>\n",
       "      <th>class</th>\n",
       "    </tr>\n",
       "  </thead>\n",
       "  <tbody>\n",
       "    <tr>\n",
       "      <th>0</th>\n",
       "      <td>CA-2016-152156</td>\n",
       "      <td>2016-11-08</td>\n",
       "      <td>Second Class</td>\n",
       "      <td>CG-12520</td>\n",
       "      <td>Consumer</td>\n",
       "      <td>Kentucky</td>\n",
       "      <td>South</td>\n",
       "      <td>FUR-BO-10001798</td>\n",
       "      <td>Bookcases</td>\n",
       "      <td>Bush Somerset Collection Bookcase</td>\n",
       "      <td>261.9600</td>\n",
       "      <td>2</td>\n",
       "      <td>0.00</td>\n",
       "      <td>41.9136</td>\n",
       "      <td>1</td>\n",
       "    </tr>\n",
       "    <tr>\n",
       "      <th>1</th>\n",
       "      <td>CA-2016-152156</td>\n",
       "      <td>2016-11-08</td>\n",
       "      <td>Second Class</td>\n",
       "      <td>CG-12520</td>\n",
       "      <td>Consumer</td>\n",
       "      <td>Kentucky</td>\n",
       "      <td>South</td>\n",
       "      <td>FUR-CH-10000454</td>\n",
       "      <td>Chairs</td>\n",
       "      <td>Hon Deluxe Fabric Upholstered Stacking Chairs,...</td>\n",
       "      <td>731.9400</td>\n",
       "      <td>3</td>\n",
       "      <td>0.00</td>\n",
       "      <td>219.5820</td>\n",
       "      <td>1</td>\n",
       "    </tr>\n",
       "    <tr>\n",
       "      <th>2</th>\n",
       "      <td>CA-2016-138688</td>\n",
       "      <td>2016-06-12</td>\n",
       "      <td>Second Class</td>\n",
       "      <td>DV-13045</td>\n",
       "      <td>Corporate</td>\n",
       "      <td>California</td>\n",
       "      <td>West</td>\n",
       "      <td>OFF-LA-10000240</td>\n",
       "      <td>Labels</td>\n",
       "      <td>Self-Adhesive Address Labels for Typewriters b...</td>\n",
       "      <td>14.6200</td>\n",
       "      <td>2</td>\n",
       "      <td>0.00</td>\n",
       "      <td>6.8714</td>\n",
       "      <td>3</td>\n",
       "    </tr>\n",
       "    <tr>\n",
       "      <th>3</th>\n",
       "      <td>US-2015-108966</td>\n",
       "      <td>2015-10-11</td>\n",
       "      <td>Standard Class</td>\n",
       "      <td>SO-20335</td>\n",
       "      <td>Consumer</td>\n",
       "      <td>Florida</td>\n",
       "      <td>South</td>\n",
       "      <td>FUR-TA-10000577</td>\n",
       "      <td>Tables</td>\n",
       "      <td>Bretford CR4500 Series Slim Rectangular Table</td>\n",
       "      <td>957.5775</td>\n",
       "      <td>5</td>\n",
       "      <td>0.45</td>\n",
       "      <td>-383.0310</td>\n",
       "      <td>2</td>\n",
       "    </tr>\n",
       "    <tr>\n",
       "      <th>4</th>\n",
       "      <td>US-2015-108966</td>\n",
       "      <td>2015-10-11</td>\n",
       "      <td>Standard Class</td>\n",
       "      <td>SO-20335</td>\n",
       "      <td>Consumer</td>\n",
       "      <td>Florida</td>\n",
       "      <td>South</td>\n",
       "      <td>OFF-ST-10000760</td>\n",
       "      <td>Storage</td>\n",
       "      <td>Eldon Fold 'N Roll Cart System</td>\n",
       "      <td>22.3680</td>\n",
       "      <td>2</td>\n",
       "      <td>0.20</td>\n",
       "      <td>2.5164</td>\n",
       "      <td>2</td>\n",
       "    </tr>\n",
       "  </tbody>\n",
       "</table>\n",
       "</div>"
      ],
      "text/plain": [
       "         order id order date       ship mode customer id    segment  \\\n",
       "0  CA-2016-152156 2016-11-08    Second Class    CG-12520   Consumer   \n",
       "1  CA-2016-152156 2016-11-08    Second Class    CG-12520   Consumer   \n",
       "2  CA-2016-138688 2016-06-12    Second Class    DV-13045  Corporate   \n",
       "3  US-2015-108966 2015-10-11  Standard Class    SO-20335   Consumer   \n",
       "4  US-2015-108966 2015-10-11  Standard Class    SO-20335   Consumer   \n",
       "\n",
       "        state region       product id sub category  \\\n",
       "0    Kentucky  South  FUR-BO-10001798    Bookcases   \n",
       "1    Kentucky  South  FUR-CH-10000454       Chairs   \n",
       "2  California   West  OFF-LA-10000240       Labels   \n",
       "3     Florida  South  FUR-TA-10000577       Tables   \n",
       "4     Florida  South  OFF-ST-10000760      Storage   \n",
       "\n",
       "                                        product name     sales  quantity  \\\n",
       "0                  Bush Somerset Collection Bookcase  261.9600         2   \n",
       "1  Hon Deluxe Fabric Upholstered Stacking Chairs,...  731.9400         3   \n",
       "2  Self-Adhesive Address Labels for Typewriters b...   14.6200         2   \n",
       "3      Bretford CR4500 Series Slim Rectangular Table  957.5775         5   \n",
       "4                     Eldon Fold 'N Roll Cart System   22.3680         2   \n",
       "\n",
       "   discount    profit  class  \n",
       "0      0.00   41.9136      1  \n",
       "1      0.00  219.5820      1  \n",
       "2      0.00    6.8714      3  \n",
       "3      0.45 -383.0310      2  \n",
       "4      0.20    2.5164      2  "
      ]
     },
     "execution_count": 33,
     "metadata": {},
     "output_type": "execute_result"
    }
   ],
   "source": [
    "data.head()"
   ]
  },
  {
   "cell_type": "markdown",
   "id": "3d30505a",
   "metadata": {},
   "source": [
    "### Creating the knn model"
   ]
  },
  {
   "cell_type": "code",
   "execution_count": 46,
   "id": "3411d161",
   "metadata": {},
   "outputs": [],
   "source": [
    "X=data.drop(columns=['product name','product id'],axis=1)\n",
    "y=data['product name']"
   ]
  },
  {
   "cell_type": "code",
   "execution_count": 47,
   "id": "08c57d2b",
   "metadata": {},
   "outputs": [
    {
     "data": {
      "text/html": [
       "<div>\n",
       "<style scoped>\n",
       "    .dataframe tbody tr th:only-of-type {\n",
       "        vertical-align: middle;\n",
       "    }\n",
       "\n",
       "    .dataframe tbody tr th {\n",
       "        vertical-align: top;\n",
       "    }\n",
       "\n",
       "    .dataframe thead th {\n",
       "        text-align: right;\n",
       "    }\n",
       "</style>\n",
       "<table border=\"1\" class=\"dataframe\">\n",
       "  <thead>\n",
       "    <tr style=\"text-align: right;\">\n",
       "      <th></th>\n",
       "      <th>order id</th>\n",
       "      <th>order date</th>\n",
       "      <th>ship mode</th>\n",
       "      <th>customer id</th>\n",
       "      <th>segment</th>\n",
       "      <th>state</th>\n",
       "      <th>region</th>\n",
       "      <th>sub category</th>\n",
       "      <th>sales</th>\n",
       "      <th>quantity</th>\n",
       "      <th>discount</th>\n",
       "      <th>profit</th>\n",
       "      <th>class</th>\n",
       "    </tr>\n",
       "  </thead>\n",
       "  <tbody>\n",
       "    <tr>\n",
       "      <th>0</th>\n",
       "      <td>CA-2016-152156</td>\n",
       "      <td>2016-11-08</td>\n",
       "      <td>Second Class</td>\n",
       "      <td>CG-12520</td>\n",
       "      <td>Consumer</td>\n",
       "      <td>Kentucky</td>\n",
       "      <td>South</td>\n",
       "      <td>Bookcases</td>\n",
       "      <td>261.96</td>\n",
       "      <td>2</td>\n",
       "      <td>0.0</td>\n",
       "      <td>41.9136</td>\n",
       "      <td>1</td>\n",
       "    </tr>\n",
       "  </tbody>\n",
       "</table>\n",
       "</div>"
      ],
      "text/plain": [
       "         order id order date     ship mode customer id   segment     state  \\\n",
       "0  CA-2016-152156 2016-11-08  Second Class    CG-12520  Consumer  Kentucky   \n",
       "\n",
       "  region sub category   sales  quantity  discount   profit  class  \n",
       "0  South    Bookcases  261.96         2       0.0  41.9136      1  "
      ]
     },
     "execution_count": 47,
     "metadata": {},
     "output_type": "execute_result"
    }
   ],
   "source": [
    "X.head(1)"
   ]
  },
  {
   "cell_type": "code",
   "execution_count": 51,
   "id": "01b63a8c",
   "metadata": {},
   "outputs": [],
   "source": [
    "processing=ColumnTransformer(transformers=[\n",
    "    ('ohe',OneHotEncoder(sparse_output=False,drop='first',handle_unknown='ignore'),[0,1,2,3,4,5,6,7]),\n",
    "    ('scaling',StandardScaler(),[8,9,10,11,12])\n",
    "],remainder='passthrough')"
   ]
  },
  {
   "cell_type": "code",
   "execution_count": 59,
   "id": "b46bcca7",
   "metadata": {},
   "outputs": [],
   "source": [
    "user_input=pd.DataFrame([['CA-2016-152156','2016-11-08','Second Class','CG-12520','Consumer','Kentucky','South','Bookcases',261.96,2,0.0,41.9136,1]],columns=X.columns)"
   ]
  },
  {
   "cell_type": "code",
   "execution_count": 71,
   "id": "0f877a7d",
   "metadata": {},
   "outputs": [],
   "source": [
    "# Fit the model\n",
    "processed_data = processing.fit_transform(X)\n",
    "knn = NearestNeighbors(\n",
    "    n_neighbors=5,\n",
    "    metric='cosine',\n",
    "    algorithm='brute',\n",
    "    n_jobs=-1\n",
    ")\n",
    "knn.fit(processed_data)\n",
    "\n",
    "# Transform the user input\n",
    "user_processed = processing.transform(user_input)\n",
    "\n",
    "# Get nearest neighbors\n",
    "distances, indices = knn.kneighbors(user_processed)\n",
    "\n",
    "# ✅ Correct way to get recommended product names\n",
    "recommended_products = data.iloc[indices[0]]['product name'].values\n"
   ]
  },
  {
   "cell_type": "code",
   "execution_count": 72,
   "id": "6f742806",
   "metadata": {},
   "outputs": [
    {
     "name": "stdout",
     "output_type": "stream",
     "text": [
      "Bush Somerset Collection Bookcase\n",
      "--------------------\n",
      "Hon Deluxe Fabric Upholstered Stacking Chairs, Rounded Back\n",
      "--------------------\n",
      "Clarity 53712\n",
      "--------------------\n",
      "Eldon Gobal File Keepers\n",
      "--------------------\n",
      "Boston 16750 Black Compact Battery Pencil Sharpener\n",
      "--------------------\n"
     ]
    }
   ],
   "source": [
    "for i in recommended_products:\n",
    "    print(i)\n",
    "    print(\"-\"*20)"
   ]
  },
  {
   "cell_type": "code",
   "execution_count": null,
   "id": "cafb34b6",
   "metadata": {},
   "outputs": [],
   "source": []
  }
 ],
 "metadata": {
  "kernelspec": {
   "display_name": "Python 3 (ipykernel)",
   "language": "python",
   "name": "python3"
  },
  "language_info": {
   "codemirror_mode": {
    "name": "ipython",
    "version": 3
   },
   "file_extension": ".py",
   "mimetype": "text/x-python",
   "name": "python",
   "nbconvert_exporter": "python",
   "pygments_lexer": "ipython3",
   "version": "3.12.9"
  }
 },
 "nbformat": 4,
 "nbformat_minor": 5
}
