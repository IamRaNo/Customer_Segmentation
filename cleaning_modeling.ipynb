{
 "cells": [
  {
   "cell_type": "markdown",
   "id": "b114de8d",
   "metadata": {},
   "source": [
    "# Customer Segmentation and Product Recommendation"
   ]
  },
  {
   "cell_type": "markdown",
   "id": "333b888f",
   "metadata": {},
   "source": [
    "### Importing of libraries, data - getting information about the data and cleaning"
   ]
  },
  {
   "cell_type": "code",
   "execution_count": 1,
   "id": "fbd4a4c7",
   "metadata": {},
   "outputs": [],
   "source": [
    "import pandas as pd\n",
    "import numpy as np\n",
    "import matplotlib.pyplot as plt\n",
    "import seaborn as sns\n",
    "\n",
    "import warnings\n",
    "warnings.filterwarnings('ignore')\n",
    "\n",
    "from sklearn.preprocessing import OneHotEncoder,StandardScaler\n",
    "from sklearn.cluster import KMeans\n",
    "from sklearn.neighbors import NearestNeighbors\n",
    "from sklearn.compose import ColumnTransformer\n",
    "from sklearn.pipeline import Pipeline\n",
    "from sklearn.metrics import silhouette_score\n",
    "\n",
    "plt.style.use('seaborn-v0_8-dark')"
   ]
  },
  {
   "cell_type": "code",
   "execution_count": 2,
   "id": "cb9daf20",
   "metadata": {},
   "outputs": [],
   "source": [
    "data=pd.read_csv(r\"C:\\Users\\Rano's PC\\Machine\\data-science-projects\\Customer_Segmentation\\Sample - Superstore.csv\",encoding_errors='ignore')"
   ]
  },
  {
   "cell_type": "code",
   "execution_count": 3,
   "id": "887c7833",
   "metadata": {},
   "outputs": [
    {
     "data": {
      "text/html": [
       "<div>\n",
       "<style scoped>\n",
       "    .dataframe tbody tr th:only-of-type {\n",
       "        vertical-align: middle;\n",
       "    }\n",
       "\n",
       "    .dataframe tbody tr th {\n",
       "        vertical-align: top;\n",
       "    }\n",
       "\n",
       "    .dataframe thead th {\n",
       "        text-align: right;\n",
       "    }\n",
       "</style>\n",
       "<table border=\"1\" class=\"dataframe\">\n",
       "  <thead>\n",
       "    <tr style=\"text-align: right;\">\n",
       "      <th></th>\n",
       "      <th>Row ID</th>\n",
       "      <th>Order ID</th>\n",
       "      <th>Order Date</th>\n",
       "      <th>Ship Date</th>\n",
       "      <th>Ship Mode</th>\n",
       "      <th>Customer ID</th>\n",
       "      <th>Customer Name</th>\n",
       "      <th>Segment</th>\n",
       "      <th>Country</th>\n",
       "      <th>City</th>\n",
       "      <th>...</th>\n",
       "      <th>Postal Code</th>\n",
       "      <th>Region</th>\n",
       "      <th>Product ID</th>\n",
       "      <th>Category</th>\n",
       "      <th>Sub-Category</th>\n",
       "      <th>Product Name</th>\n",
       "      <th>Sales</th>\n",
       "      <th>Quantity</th>\n",
       "      <th>Discount</th>\n",
       "      <th>Profit</th>\n",
       "    </tr>\n",
       "  </thead>\n",
       "  <tbody>\n",
       "    <tr>\n",
       "      <th>0</th>\n",
       "      <td>1</td>\n",
       "      <td>CA-2016-152156</td>\n",
       "      <td>11/8/2016</td>\n",
       "      <td>11/11/2016</td>\n",
       "      <td>Second Class</td>\n",
       "      <td>CG-12520</td>\n",
       "      <td>Claire Gute</td>\n",
       "      <td>Consumer</td>\n",
       "      <td>United States</td>\n",
       "      <td>Henderson</td>\n",
       "      <td>...</td>\n",
       "      <td>42420</td>\n",
       "      <td>South</td>\n",
       "      <td>FUR-BO-10001798</td>\n",
       "      <td>Furniture</td>\n",
       "      <td>Bookcases</td>\n",
       "      <td>Bush Somerset Collection Bookcase</td>\n",
       "      <td>261.9600</td>\n",
       "      <td>2</td>\n",
       "      <td>0.00</td>\n",
       "      <td>41.9136</td>\n",
       "    </tr>\n",
       "    <tr>\n",
       "      <th>1</th>\n",
       "      <td>2</td>\n",
       "      <td>CA-2016-152156</td>\n",
       "      <td>11/8/2016</td>\n",
       "      <td>11/11/2016</td>\n",
       "      <td>Second Class</td>\n",
       "      <td>CG-12520</td>\n",
       "      <td>Claire Gute</td>\n",
       "      <td>Consumer</td>\n",
       "      <td>United States</td>\n",
       "      <td>Henderson</td>\n",
       "      <td>...</td>\n",
       "      <td>42420</td>\n",
       "      <td>South</td>\n",
       "      <td>FUR-CH-10000454</td>\n",
       "      <td>Furniture</td>\n",
       "      <td>Chairs</td>\n",
       "      <td>Hon Deluxe Fabric Upholstered Stacking Chairs,...</td>\n",
       "      <td>731.9400</td>\n",
       "      <td>3</td>\n",
       "      <td>0.00</td>\n",
       "      <td>219.5820</td>\n",
       "    </tr>\n",
       "    <tr>\n",
       "      <th>2</th>\n",
       "      <td>3</td>\n",
       "      <td>CA-2016-138688</td>\n",
       "      <td>6/12/2016</td>\n",
       "      <td>6/16/2016</td>\n",
       "      <td>Second Class</td>\n",
       "      <td>DV-13045</td>\n",
       "      <td>Darrin Van Huff</td>\n",
       "      <td>Corporate</td>\n",
       "      <td>United States</td>\n",
       "      <td>Los Angeles</td>\n",
       "      <td>...</td>\n",
       "      <td>90036</td>\n",
       "      <td>West</td>\n",
       "      <td>OFF-LA-10000240</td>\n",
       "      <td>Office Supplies</td>\n",
       "      <td>Labels</td>\n",
       "      <td>Self-Adhesive Address Labels for Typewriters b...</td>\n",
       "      <td>14.6200</td>\n",
       "      <td>2</td>\n",
       "      <td>0.00</td>\n",
       "      <td>6.8714</td>\n",
       "    </tr>\n",
       "    <tr>\n",
       "      <th>3</th>\n",
       "      <td>4</td>\n",
       "      <td>US-2015-108966</td>\n",
       "      <td>10/11/2015</td>\n",
       "      <td>10/18/2015</td>\n",
       "      <td>Standard Class</td>\n",
       "      <td>SO-20335</td>\n",
       "      <td>Sean O'Donnell</td>\n",
       "      <td>Consumer</td>\n",
       "      <td>United States</td>\n",
       "      <td>Fort Lauderdale</td>\n",
       "      <td>...</td>\n",
       "      <td>33311</td>\n",
       "      <td>South</td>\n",
       "      <td>FUR-TA-10000577</td>\n",
       "      <td>Furniture</td>\n",
       "      <td>Tables</td>\n",
       "      <td>Bretford CR4500 Series Slim Rectangular Table</td>\n",
       "      <td>957.5775</td>\n",
       "      <td>5</td>\n",
       "      <td>0.45</td>\n",
       "      <td>-383.0310</td>\n",
       "    </tr>\n",
       "    <tr>\n",
       "      <th>4</th>\n",
       "      <td>5</td>\n",
       "      <td>US-2015-108966</td>\n",
       "      <td>10/11/2015</td>\n",
       "      <td>10/18/2015</td>\n",
       "      <td>Standard Class</td>\n",
       "      <td>SO-20335</td>\n",
       "      <td>Sean O'Donnell</td>\n",
       "      <td>Consumer</td>\n",
       "      <td>United States</td>\n",
       "      <td>Fort Lauderdale</td>\n",
       "      <td>...</td>\n",
       "      <td>33311</td>\n",
       "      <td>South</td>\n",
       "      <td>OFF-ST-10000760</td>\n",
       "      <td>Office Supplies</td>\n",
       "      <td>Storage</td>\n",
       "      <td>Eldon Fold 'N Roll Cart System</td>\n",
       "      <td>22.3680</td>\n",
       "      <td>2</td>\n",
       "      <td>0.20</td>\n",
       "      <td>2.5164</td>\n",
       "    </tr>\n",
       "  </tbody>\n",
       "</table>\n",
       "<p>5 rows × 21 columns</p>\n",
       "</div>"
      ],
      "text/plain": [
       "   Row ID        Order ID  Order Date   Ship Date       Ship Mode Customer ID  \\\n",
       "0       1  CA-2016-152156   11/8/2016  11/11/2016    Second Class    CG-12520   \n",
       "1       2  CA-2016-152156   11/8/2016  11/11/2016    Second Class    CG-12520   \n",
       "2       3  CA-2016-138688   6/12/2016   6/16/2016    Second Class    DV-13045   \n",
       "3       4  US-2015-108966  10/11/2015  10/18/2015  Standard Class    SO-20335   \n",
       "4       5  US-2015-108966  10/11/2015  10/18/2015  Standard Class    SO-20335   \n",
       "\n",
       "     Customer Name    Segment        Country             City  ...  \\\n",
       "0      Claire Gute   Consumer  United States        Henderson  ...   \n",
       "1      Claire Gute   Consumer  United States        Henderson  ...   \n",
       "2  Darrin Van Huff  Corporate  United States      Los Angeles  ...   \n",
       "3   Sean O'Donnell   Consumer  United States  Fort Lauderdale  ...   \n",
       "4   Sean O'Donnell   Consumer  United States  Fort Lauderdale  ...   \n",
       "\n",
       "  Postal Code  Region       Product ID         Category Sub-Category  \\\n",
       "0       42420   South  FUR-BO-10001798        Furniture    Bookcases   \n",
       "1       42420   South  FUR-CH-10000454        Furniture       Chairs   \n",
       "2       90036    West  OFF-LA-10000240  Office Supplies       Labels   \n",
       "3       33311   South  FUR-TA-10000577        Furniture       Tables   \n",
       "4       33311   South  OFF-ST-10000760  Office Supplies      Storage   \n",
       "\n",
       "                                        Product Name     Sales  Quantity  \\\n",
       "0                  Bush Somerset Collection Bookcase  261.9600         2   \n",
       "1  Hon Deluxe Fabric Upholstered Stacking Chairs,...  731.9400         3   \n",
       "2  Self-Adhesive Address Labels for Typewriters b...   14.6200         2   \n",
       "3      Bretford CR4500 Series Slim Rectangular Table  957.5775         5   \n",
       "4                     Eldon Fold 'N Roll Cart System   22.3680         2   \n",
       "\n",
       "   Discount    Profit  \n",
       "0      0.00   41.9136  \n",
       "1      0.00  219.5820  \n",
       "2      0.00    6.8714  \n",
       "3      0.45 -383.0310  \n",
       "4      0.20    2.5164  \n",
       "\n",
       "[5 rows x 21 columns]"
      ]
     },
     "execution_count": 3,
     "metadata": {},
     "output_type": "execute_result"
    }
   ],
   "source": [
    "data.head()"
   ]
  },
  {
   "cell_type": "code",
   "execution_count": 4,
   "id": "fef49b35",
   "metadata": {},
   "outputs": [
    {
     "name": "stdout",
     "output_type": "stream",
     "text": [
      "<class 'pandas.core.frame.DataFrame'>\n",
      "RangeIndex: 9994 entries, 0 to 9993\n",
      "Data columns (total 21 columns):\n",
      " #   Column         Non-Null Count  Dtype  \n",
      "---  ------         --------------  -----  \n",
      " 0   Row ID         9994 non-null   int64  \n",
      " 1   Order ID       9994 non-null   object \n",
      " 2   Order Date     9994 non-null   object \n",
      " 3   Ship Date      9994 non-null   object \n",
      " 4   Ship Mode      9994 non-null   object \n",
      " 5   Customer ID    9994 non-null   object \n",
      " 6   Customer Name  9994 non-null   object \n",
      " 7   Segment        9994 non-null   object \n",
      " 8   Country        9994 non-null   object \n",
      " 9   City           9994 non-null   object \n",
      " 10  State          9994 non-null   object \n",
      " 11  Postal Code    9994 non-null   int64  \n",
      " 12  Region         9994 non-null   object \n",
      " 13  Product ID     9994 non-null   object \n",
      " 14  Category       9994 non-null   object \n",
      " 15  Sub-Category   9994 non-null   object \n",
      " 16  Product Name   9994 non-null   object \n",
      " 17  Sales          9994 non-null   float64\n",
      " 18  Quantity       9994 non-null   int64  \n",
      " 19  Discount       9994 non-null   float64\n",
      " 20  Profit         9994 non-null   float64\n",
      "dtypes: float64(3), int64(3), object(15)\n",
      "memory usage: 1.6+ MB\n"
     ]
    }
   ],
   "source": [
    "data.info()"
   ]
  },
  {
   "cell_type": "code",
   "execution_count": 5,
   "id": "b3596c33",
   "metadata": {},
   "outputs": [],
   "source": [
    "# Removing unnecessray columns\n",
    "data.drop(columns=['Row ID','Ship Date','Postal Code','Customer Name'],inplace=True)"
   ]
  },
  {
   "cell_type": "code",
   "execution_count": 6,
   "id": "f696d5fa",
   "metadata": {},
   "outputs": [
    {
     "data": {
      "text/html": [
       "<div>\n",
       "<style scoped>\n",
       "    .dataframe tbody tr th:only-of-type {\n",
       "        vertical-align: middle;\n",
       "    }\n",
       "\n",
       "    .dataframe tbody tr th {\n",
       "        vertical-align: top;\n",
       "    }\n",
       "\n",
       "    .dataframe thead th {\n",
       "        text-align: right;\n",
       "    }\n",
       "</style>\n",
       "<table border=\"1\" class=\"dataframe\">\n",
       "  <thead>\n",
       "    <tr style=\"text-align: right;\">\n",
       "      <th></th>\n",
       "      <th>Order ID</th>\n",
       "      <th>Order Date</th>\n",
       "      <th>Ship Mode</th>\n",
       "      <th>Customer ID</th>\n",
       "      <th>Segment</th>\n",
       "      <th>Country</th>\n",
       "      <th>City</th>\n",
       "      <th>State</th>\n",
       "      <th>Region</th>\n",
       "      <th>Product ID</th>\n",
       "      <th>Category</th>\n",
       "      <th>Sub-Category</th>\n",
       "      <th>Product Name</th>\n",
       "      <th>Sales</th>\n",
       "      <th>Quantity</th>\n",
       "      <th>Discount</th>\n",
       "      <th>Profit</th>\n",
       "    </tr>\n",
       "  </thead>\n",
       "  <tbody>\n",
       "    <tr>\n",
       "      <th>0</th>\n",
       "      <td>CA-2016-152156</td>\n",
       "      <td>11/8/2016</td>\n",
       "      <td>Second Class</td>\n",
       "      <td>CG-12520</td>\n",
       "      <td>Consumer</td>\n",
       "      <td>United States</td>\n",
       "      <td>Henderson</td>\n",
       "      <td>Kentucky</td>\n",
       "      <td>South</td>\n",
       "      <td>FUR-BO-10001798</td>\n",
       "      <td>Furniture</td>\n",
       "      <td>Bookcases</td>\n",
       "      <td>Bush Somerset Collection Bookcase</td>\n",
       "      <td>261.9600</td>\n",
       "      <td>2</td>\n",
       "      <td>0.00</td>\n",
       "      <td>41.9136</td>\n",
       "    </tr>\n",
       "    <tr>\n",
       "      <th>1</th>\n",
       "      <td>CA-2016-152156</td>\n",
       "      <td>11/8/2016</td>\n",
       "      <td>Second Class</td>\n",
       "      <td>CG-12520</td>\n",
       "      <td>Consumer</td>\n",
       "      <td>United States</td>\n",
       "      <td>Henderson</td>\n",
       "      <td>Kentucky</td>\n",
       "      <td>South</td>\n",
       "      <td>FUR-CH-10000454</td>\n",
       "      <td>Furniture</td>\n",
       "      <td>Chairs</td>\n",
       "      <td>Hon Deluxe Fabric Upholstered Stacking Chairs,...</td>\n",
       "      <td>731.9400</td>\n",
       "      <td>3</td>\n",
       "      <td>0.00</td>\n",
       "      <td>219.5820</td>\n",
       "    </tr>\n",
       "    <tr>\n",
       "      <th>2</th>\n",
       "      <td>CA-2016-138688</td>\n",
       "      <td>6/12/2016</td>\n",
       "      <td>Second Class</td>\n",
       "      <td>DV-13045</td>\n",
       "      <td>Corporate</td>\n",
       "      <td>United States</td>\n",
       "      <td>Los Angeles</td>\n",
       "      <td>California</td>\n",
       "      <td>West</td>\n",
       "      <td>OFF-LA-10000240</td>\n",
       "      <td>Office Supplies</td>\n",
       "      <td>Labels</td>\n",
       "      <td>Self-Adhesive Address Labels for Typewriters b...</td>\n",
       "      <td>14.6200</td>\n",
       "      <td>2</td>\n",
       "      <td>0.00</td>\n",
       "      <td>6.8714</td>\n",
       "    </tr>\n",
       "    <tr>\n",
       "      <th>3</th>\n",
       "      <td>US-2015-108966</td>\n",
       "      <td>10/11/2015</td>\n",
       "      <td>Standard Class</td>\n",
       "      <td>SO-20335</td>\n",
       "      <td>Consumer</td>\n",
       "      <td>United States</td>\n",
       "      <td>Fort Lauderdale</td>\n",
       "      <td>Florida</td>\n",
       "      <td>South</td>\n",
       "      <td>FUR-TA-10000577</td>\n",
       "      <td>Furniture</td>\n",
       "      <td>Tables</td>\n",
       "      <td>Bretford CR4500 Series Slim Rectangular Table</td>\n",
       "      <td>957.5775</td>\n",
       "      <td>5</td>\n",
       "      <td>0.45</td>\n",
       "      <td>-383.0310</td>\n",
       "    </tr>\n",
       "    <tr>\n",
       "      <th>4</th>\n",
       "      <td>US-2015-108966</td>\n",
       "      <td>10/11/2015</td>\n",
       "      <td>Standard Class</td>\n",
       "      <td>SO-20335</td>\n",
       "      <td>Consumer</td>\n",
       "      <td>United States</td>\n",
       "      <td>Fort Lauderdale</td>\n",
       "      <td>Florida</td>\n",
       "      <td>South</td>\n",
       "      <td>OFF-ST-10000760</td>\n",
       "      <td>Office Supplies</td>\n",
       "      <td>Storage</td>\n",
       "      <td>Eldon Fold 'N Roll Cart System</td>\n",
       "      <td>22.3680</td>\n",
       "      <td>2</td>\n",
       "      <td>0.20</td>\n",
       "      <td>2.5164</td>\n",
       "    </tr>\n",
       "  </tbody>\n",
       "</table>\n",
       "</div>"
      ],
      "text/plain": [
       "         Order ID  Order Date       Ship Mode Customer ID    Segment  \\\n",
       "0  CA-2016-152156   11/8/2016    Second Class    CG-12520   Consumer   \n",
       "1  CA-2016-152156   11/8/2016    Second Class    CG-12520   Consumer   \n",
       "2  CA-2016-138688   6/12/2016    Second Class    DV-13045  Corporate   \n",
       "3  US-2015-108966  10/11/2015  Standard Class    SO-20335   Consumer   \n",
       "4  US-2015-108966  10/11/2015  Standard Class    SO-20335   Consumer   \n",
       "\n",
       "         Country             City       State Region       Product ID  \\\n",
       "0  United States        Henderson    Kentucky  South  FUR-BO-10001798   \n",
       "1  United States        Henderson    Kentucky  South  FUR-CH-10000454   \n",
       "2  United States      Los Angeles  California   West  OFF-LA-10000240   \n",
       "3  United States  Fort Lauderdale     Florida  South  FUR-TA-10000577   \n",
       "4  United States  Fort Lauderdale     Florida  South  OFF-ST-10000760   \n",
       "\n",
       "          Category Sub-Category  \\\n",
       "0        Furniture    Bookcases   \n",
       "1        Furniture       Chairs   \n",
       "2  Office Supplies       Labels   \n",
       "3        Furniture       Tables   \n",
       "4  Office Supplies      Storage   \n",
       "\n",
       "                                        Product Name     Sales  Quantity  \\\n",
       "0                  Bush Somerset Collection Bookcase  261.9600         2   \n",
       "1  Hon Deluxe Fabric Upholstered Stacking Chairs,...  731.9400         3   \n",
       "2  Self-Adhesive Address Labels for Typewriters b...   14.6200         2   \n",
       "3      Bretford CR4500 Series Slim Rectangular Table  957.5775         5   \n",
       "4                     Eldon Fold 'N Roll Cart System   22.3680         2   \n",
       "\n",
       "   Discount    Profit  \n",
       "0      0.00   41.9136  \n",
       "1      0.00  219.5820  \n",
       "2      0.00    6.8714  \n",
       "3      0.45 -383.0310  \n",
       "4      0.20    2.5164  "
      ]
     },
     "execution_count": 6,
     "metadata": {},
     "output_type": "execute_result"
    }
   ],
   "source": [
    "data.head()"
   ]
  },
  {
   "cell_type": "code",
   "execution_count": 7,
   "id": "2d3211e8",
   "metadata": {},
   "outputs": [
    {
     "data": {
      "text/plain": [
       "Order ID        0.0\n",
       "Order Date      0.0\n",
       "Ship Mode       0.0\n",
       "Customer ID     0.0\n",
       "Segment         0.0\n",
       "Country         0.0\n",
       "City            0.0\n",
       "State           0.0\n",
       "Region          0.0\n",
       "Product ID      0.0\n",
       "Category        0.0\n",
       "Sub-Category    0.0\n",
       "Product Name    0.0\n",
       "Sales           0.0\n",
       "Quantity        0.0\n",
       "Discount        0.0\n",
       "Profit          0.0\n",
       "dtype: float64"
      ]
     },
     "execution_count": 7,
     "metadata": {},
     "output_type": "execute_result"
    }
   ],
   "source": [
    "# Checking the null values\n",
    "((data.isnull().sum()/len(data))*100).round(2)"
   ]
  },
  {
   "cell_type": "markdown",
   "id": "b6dc4667",
   "metadata": {},
   "source": [
    "There is no null valued columns"
   ]
  },
  {
   "cell_type": "code",
   "execution_count": 8,
   "id": "6ce8bc9a",
   "metadata": {},
   "outputs": [
    {
     "data": {
      "text/plain": [
       "np.int64(1)"
      ]
     },
     "execution_count": 8,
     "metadata": {},
     "output_type": "execute_result"
    }
   ],
   "source": [
    "# Checking if there are duplicate values or not\n",
    "data.duplicated().sum()"
   ]
  },
  {
   "cell_type": "markdown",
   "id": "f99dc348",
   "metadata": {},
   "source": [
    "There is one duplicate value"
   ]
  },
  {
   "cell_type": "code",
   "execution_count": 9,
   "id": "d0a15c86",
   "metadata": {},
   "outputs": [
    {
     "data": {
      "text/html": [
       "<div>\n",
       "<style scoped>\n",
       "    .dataframe tbody tr th:only-of-type {\n",
       "        vertical-align: middle;\n",
       "    }\n",
       "\n",
       "    .dataframe tbody tr th {\n",
       "        vertical-align: top;\n",
       "    }\n",
       "\n",
       "    .dataframe thead th {\n",
       "        text-align: right;\n",
       "    }\n",
       "</style>\n",
       "<table border=\"1\" class=\"dataframe\">\n",
       "  <thead>\n",
       "    <tr style=\"text-align: right;\">\n",
       "      <th></th>\n",
       "      <th>Order ID</th>\n",
       "      <th>Order Date</th>\n",
       "      <th>Ship Mode</th>\n",
       "      <th>Customer ID</th>\n",
       "      <th>Segment</th>\n",
       "      <th>Country</th>\n",
       "      <th>City</th>\n",
       "      <th>State</th>\n",
       "      <th>Region</th>\n",
       "      <th>Product ID</th>\n",
       "      <th>Category</th>\n",
       "      <th>Sub-Category</th>\n",
       "      <th>Product Name</th>\n",
       "      <th>Sales</th>\n",
       "      <th>Quantity</th>\n",
       "      <th>Discount</th>\n",
       "      <th>Profit</th>\n",
       "    </tr>\n",
       "  </thead>\n",
       "  <tbody>\n",
       "    <tr>\n",
       "      <th>3405</th>\n",
       "      <td>US-2014-150119</td>\n",
       "      <td>4/23/2014</td>\n",
       "      <td>Standard Class</td>\n",
       "      <td>LB-16795</td>\n",
       "      <td>Home Office</td>\n",
       "      <td>United States</td>\n",
       "      <td>Columbus</td>\n",
       "      <td>Ohio</td>\n",
       "      <td>East</td>\n",
       "      <td>FUR-CH-10002965</td>\n",
       "      <td>Furniture</td>\n",
       "      <td>Chairs</td>\n",
       "      <td>Global Leather Highback Executive Chair with P...</td>\n",
       "      <td>281.372</td>\n",
       "      <td>2</td>\n",
       "      <td>0.3</td>\n",
       "      <td>-12.0588</td>\n",
       "    </tr>\n",
       "    <tr>\n",
       "      <th>3406</th>\n",
       "      <td>US-2014-150119</td>\n",
       "      <td>4/23/2014</td>\n",
       "      <td>Standard Class</td>\n",
       "      <td>LB-16795</td>\n",
       "      <td>Home Office</td>\n",
       "      <td>United States</td>\n",
       "      <td>Columbus</td>\n",
       "      <td>Ohio</td>\n",
       "      <td>East</td>\n",
       "      <td>FUR-CH-10002965</td>\n",
       "      <td>Furniture</td>\n",
       "      <td>Chairs</td>\n",
       "      <td>Global Leather Highback Executive Chair with P...</td>\n",
       "      <td>281.372</td>\n",
       "      <td>2</td>\n",
       "      <td>0.3</td>\n",
       "      <td>-12.0588</td>\n",
       "    </tr>\n",
       "  </tbody>\n",
       "</table>\n",
       "</div>"
      ],
      "text/plain": [
       "            Order ID Order Date       Ship Mode Customer ID      Segment  \\\n",
       "3405  US-2014-150119  4/23/2014  Standard Class    LB-16795  Home Office   \n",
       "3406  US-2014-150119  4/23/2014  Standard Class    LB-16795  Home Office   \n",
       "\n",
       "            Country      City State Region       Product ID   Category  \\\n",
       "3405  United States  Columbus  Ohio   East  FUR-CH-10002965  Furniture   \n",
       "3406  United States  Columbus  Ohio   East  FUR-CH-10002965  Furniture   \n",
       "\n",
       "     Sub-Category                                       Product Name    Sales  \\\n",
       "3405       Chairs  Global Leather Highback Executive Chair with P...  281.372   \n",
       "3406       Chairs  Global Leather Highback Executive Chair with P...  281.372   \n",
       "\n",
       "      Quantity  Discount   Profit  \n",
       "3405         2       0.3 -12.0588  \n",
       "3406         2       0.3 -12.0588  "
      ]
     },
     "execution_count": 9,
     "metadata": {},
     "output_type": "execute_result"
    }
   ],
   "source": [
    "# Checking the duplicate rows\n",
    "data[data.duplicated(keep=False)]"
   ]
  },
  {
   "cell_type": "code",
   "execution_count": 10,
   "id": "0849dca5",
   "metadata": {},
   "outputs": [],
   "source": [
    "# Removing the duplicate column\n",
    "data=data[~data.duplicated()]"
   ]
  },
  {
   "cell_type": "code",
   "execution_count": 11,
   "id": "9da25e1b",
   "metadata": {},
   "outputs": [
    {
     "data": {
      "text/plain": [
       "Order ID        5009\n",
       "Order Date      1237\n",
       "Ship Mode          4\n",
       "Customer ID      793\n",
       "Segment            3\n",
       "Country            1\n",
       "City             531\n",
       "State             49\n",
       "Region             4\n",
       "Product ID      1862\n",
       "Category           3\n",
       "Sub-Category      17\n",
       "Product Name    1850\n",
       "dtype: int64"
      ]
     },
     "execution_count": 11,
     "metadata": {},
     "output_type": "execute_result"
    }
   ],
   "source": [
    "# Checking single valued columns\n",
    "data.select_dtypes(exclude='number').nunique()"
   ]
  },
  {
   "cell_type": "markdown",
   "id": "c2e9bed4",
   "metadata": {},
   "source": [
    "Country column have only one value and city column have too many values so I will remove thos columns"
   ]
  },
  {
   "cell_type": "code",
   "execution_count": 12,
   "id": "65ca88e7",
   "metadata": {},
   "outputs": [],
   "source": [
    "# Dropping the country column\n",
    "data.drop(columns=['Country','City',],inplace=True)"
   ]
  },
  {
   "cell_type": "code",
   "execution_count": 13,
   "id": "daa5691f",
   "metadata": {},
   "outputs": [],
   "source": [
    "# Lower casing columns and renaming\n",
    "data.columns=data.columns.str.replace(\"-\",\" \").str.lower()"
   ]
  },
  {
   "cell_type": "code",
   "execution_count": 14,
   "id": "62bcf37b",
   "metadata": {},
   "outputs": [
    {
     "data": {
      "text/html": [
       "<div>\n",
       "<style scoped>\n",
       "    .dataframe tbody tr th:only-of-type {\n",
       "        vertical-align: middle;\n",
       "    }\n",
       "\n",
       "    .dataframe tbody tr th {\n",
       "        vertical-align: top;\n",
       "    }\n",
       "\n",
       "    .dataframe thead th {\n",
       "        text-align: right;\n",
       "    }\n",
       "</style>\n",
       "<table border=\"1\" class=\"dataframe\">\n",
       "  <thead>\n",
       "    <tr style=\"text-align: right;\">\n",
       "      <th></th>\n",
       "      <th>order id</th>\n",
       "      <th>order date</th>\n",
       "      <th>ship mode</th>\n",
       "      <th>customer id</th>\n",
       "      <th>segment</th>\n",
       "      <th>state</th>\n",
       "      <th>region</th>\n",
       "      <th>product id</th>\n",
       "      <th>category</th>\n",
       "      <th>sub category</th>\n",
       "      <th>product name</th>\n",
       "      <th>sales</th>\n",
       "      <th>quantity</th>\n",
       "      <th>discount</th>\n",
       "      <th>profit</th>\n",
       "    </tr>\n",
       "  </thead>\n",
       "  <tbody>\n",
       "    <tr>\n",
       "      <th>0</th>\n",
       "      <td>CA-2016-152156</td>\n",
       "      <td>11/8/2016</td>\n",
       "      <td>Second Class</td>\n",
       "      <td>CG-12520</td>\n",
       "      <td>Consumer</td>\n",
       "      <td>Kentucky</td>\n",
       "      <td>South</td>\n",
       "      <td>FUR-BO-10001798</td>\n",
       "      <td>Furniture</td>\n",
       "      <td>Bookcases</td>\n",
       "      <td>Bush Somerset Collection Bookcase</td>\n",
       "      <td>261.9600</td>\n",
       "      <td>2</td>\n",
       "      <td>0.00</td>\n",
       "      <td>41.9136</td>\n",
       "    </tr>\n",
       "    <tr>\n",
       "      <th>1</th>\n",
       "      <td>CA-2016-152156</td>\n",
       "      <td>11/8/2016</td>\n",
       "      <td>Second Class</td>\n",
       "      <td>CG-12520</td>\n",
       "      <td>Consumer</td>\n",
       "      <td>Kentucky</td>\n",
       "      <td>South</td>\n",
       "      <td>FUR-CH-10000454</td>\n",
       "      <td>Furniture</td>\n",
       "      <td>Chairs</td>\n",
       "      <td>Hon Deluxe Fabric Upholstered Stacking Chairs,...</td>\n",
       "      <td>731.9400</td>\n",
       "      <td>3</td>\n",
       "      <td>0.00</td>\n",
       "      <td>219.5820</td>\n",
       "    </tr>\n",
       "    <tr>\n",
       "      <th>2</th>\n",
       "      <td>CA-2016-138688</td>\n",
       "      <td>6/12/2016</td>\n",
       "      <td>Second Class</td>\n",
       "      <td>DV-13045</td>\n",
       "      <td>Corporate</td>\n",
       "      <td>California</td>\n",
       "      <td>West</td>\n",
       "      <td>OFF-LA-10000240</td>\n",
       "      <td>Office Supplies</td>\n",
       "      <td>Labels</td>\n",
       "      <td>Self-Adhesive Address Labels for Typewriters b...</td>\n",
       "      <td>14.6200</td>\n",
       "      <td>2</td>\n",
       "      <td>0.00</td>\n",
       "      <td>6.8714</td>\n",
       "    </tr>\n",
       "    <tr>\n",
       "      <th>3</th>\n",
       "      <td>US-2015-108966</td>\n",
       "      <td>10/11/2015</td>\n",
       "      <td>Standard Class</td>\n",
       "      <td>SO-20335</td>\n",
       "      <td>Consumer</td>\n",
       "      <td>Florida</td>\n",
       "      <td>South</td>\n",
       "      <td>FUR-TA-10000577</td>\n",
       "      <td>Furniture</td>\n",
       "      <td>Tables</td>\n",
       "      <td>Bretford CR4500 Series Slim Rectangular Table</td>\n",
       "      <td>957.5775</td>\n",
       "      <td>5</td>\n",
       "      <td>0.45</td>\n",
       "      <td>-383.0310</td>\n",
       "    </tr>\n",
       "    <tr>\n",
       "      <th>4</th>\n",
       "      <td>US-2015-108966</td>\n",
       "      <td>10/11/2015</td>\n",
       "      <td>Standard Class</td>\n",
       "      <td>SO-20335</td>\n",
       "      <td>Consumer</td>\n",
       "      <td>Florida</td>\n",
       "      <td>South</td>\n",
       "      <td>OFF-ST-10000760</td>\n",
       "      <td>Office Supplies</td>\n",
       "      <td>Storage</td>\n",
       "      <td>Eldon Fold 'N Roll Cart System</td>\n",
       "      <td>22.3680</td>\n",
       "      <td>2</td>\n",
       "      <td>0.20</td>\n",
       "      <td>2.5164</td>\n",
       "    </tr>\n",
       "  </tbody>\n",
       "</table>\n",
       "</div>"
      ],
      "text/plain": [
       "         order id  order date       ship mode customer id    segment  \\\n",
       "0  CA-2016-152156   11/8/2016    Second Class    CG-12520   Consumer   \n",
       "1  CA-2016-152156   11/8/2016    Second Class    CG-12520   Consumer   \n",
       "2  CA-2016-138688   6/12/2016    Second Class    DV-13045  Corporate   \n",
       "3  US-2015-108966  10/11/2015  Standard Class    SO-20335   Consumer   \n",
       "4  US-2015-108966  10/11/2015  Standard Class    SO-20335   Consumer   \n",
       "\n",
       "        state region       product id         category sub category  \\\n",
       "0    Kentucky  South  FUR-BO-10001798        Furniture    Bookcases   \n",
       "1    Kentucky  South  FUR-CH-10000454        Furniture       Chairs   \n",
       "2  California   West  OFF-LA-10000240  Office Supplies       Labels   \n",
       "3     Florida  South  FUR-TA-10000577        Furniture       Tables   \n",
       "4     Florida  South  OFF-ST-10000760  Office Supplies      Storage   \n",
       "\n",
       "                                        product name     sales  quantity  \\\n",
       "0                  Bush Somerset Collection Bookcase  261.9600         2   \n",
       "1  Hon Deluxe Fabric Upholstered Stacking Chairs,...  731.9400         3   \n",
       "2  Self-Adhesive Address Labels for Typewriters b...   14.6200         2   \n",
       "3      Bretford CR4500 Series Slim Rectangular Table  957.5775         5   \n",
       "4                     Eldon Fold 'N Roll Cart System   22.3680         2   \n",
       "\n",
       "   discount    profit  \n",
       "0      0.00   41.9136  \n",
       "1      0.00  219.5820  \n",
       "2      0.00    6.8714  \n",
       "3      0.45 -383.0310  \n",
       "4      0.20    2.5164  "
      ]
     },
     "execution_count": 14,
     "metadata": {},
     "output_type": "execute_result"
    }
   ],
   "source": [
    "data.head()"
   ]
  },
  {
   "cell_type": "code",
   "execution_count": 15,
   "id": "2707466b",
   "metadata": {},
   "outputs": [],
   "source": [
    "# I will work with sub category column, so removing the category column\n",
    "data.drop(columns=['category'],inplace=True)"
   ]
  },
  {
   "cell_type": "code",
   "execution_count": 16,
   "id": "a153bbc2",
   "metadata": {},
   "outputs": [
    {
     "data": {
      "text/html": [
       "<div>\n",
       "<style scoped>\n",
       "    .dataframe tbody tr th:only-of-type {\n",
       "        vertical-align: middle;\n",
       "    }\n",
       "\n",
       "    .dataframe tbody tr th {\n",
       "        vertical-align: top;\n",
       "    }\n",
       "\n",
       "    .dataframe thead th {\n",
       "        text-align: right;\n",
       "    }\n",
       "</style>\n",
       "<table border=\"1\" class=\"dataframe\">\n",
       "  <thead>\n",
       "    <tr style=\"text-align: right;\">\n",
       "      <th></th>\n",
       "      <th>order id</th>\n",
       "      <th>order date</th>\n",
       "      <th>ship mode</th>\n",
       "      <th>customer id</th>\n",
       "      <th>segment</th>\n",
       "      <th>state</th>\n",
       "      <th>region</th>\n",
       "      <th>product id</th>\n",
       "      <th>sub category</th>\n",
       "      <th>product name</th>\n",
       "      <th>sales</th>\n",
       "      <th>quantity</th>\n",
       "      <th>discount</th>\n",
       "      <th>profit</th>\n",
       "    </tr>\n",
       "  </thead>\n",
       "  <tbody>\n",
       "    <tr>\n",
       "      <th>0</th>\n",
       "      <td>CA-2016-152156</td>\n",
       "      <td>11/8/2016</td>\n",
       "      <td>Second Class</td>\n",
       "      <td>CG-12520</td>\n",
       "      <td>Consumer</td>\n",
       "      <td>Kentucky</td>\n",
       "      <td>South</td>\n",
       "      <td>FUR-BO-10001798</td>\n",
       "      <td>Bookcases</td>\n",
       "      <td>Bush Somerset Collection Bookcase</td>\n",
       "      <td>261.9600</td>\n",
       "      <td>2</td>\n",
       "      <td>0.00</td>\n",
       "      <td>41.9136</td>\n",
       "    </tr>\n",
       "    <tr>\n",
       "      <th>1</th>\n",
       "      <td>CA-2016-152156</td>\n",
       "      <td>11/8/2016</td>\n",
       "      <td>Second Class</td>\n",
       "      <td>CG-12520</td>\n",
       "      <td>Consumer</td>\n",
       "      <td>Kentucky</td>\n",
       "      <td>South</td>\n",
       "      <td>FUR-CH-10000454</td>\n",
       "      <td>Chairs</td>\n",
       "      <td>Hon Deluxe Fabric Upholstered Stacking Chairs,...</td>\n",
       "      <td>731.9400</td>\n",
       "      <td>3</td>\n",
       "      <td>0.00</td>\n",
       "      <td>219.5820</td>\n",
       "    </tr>\n",
       "    <tr>\n",
       "      <th>2</th>\n",
       "      <td>CA-2016-138688</td>\n",
       "      <td>6/12/2016</td>\n",
       "      <td>Second Class</td>\n",
       "      <td>DV-13045</td>\n",
       "      <td>Corporate</td>\n",
       "      <td>California</td>\n",
       "      <td>West</td>\n",
       "      <td>OFF-LA-10000240</td>\n",
       "      <td>Labels</td>\n",
       "      <td>Self-Adhesive Address Labels for Typewriters b...</td>\n",
       "      <td>14.6200</td>\n",
       "      <td>2</td>\n",
       "      <td>0.00</td>\n",
       "      <td>6.8714</td>\n",
       "    </tr>\n",
       "    <tr>\n",
       "      <th>3</th>\n",
       "      <td>US-2015-108966</td>\n",
       "      <td>10/11/2015</td>\n",
       "      <td>Standard Class</td>\n",
       "      <td>SO-20335</td>\n",
       "      <td>Consumer</td>\n",
       "      <td>Florida</td>\n",
       "      <td>South</td>\n",
       "      <td>FUR-TA-10000577</td>\n",
       "      <td>Tables</td>\n",
       "      <td>Bretford CR4500 Series Slim Rectangular Table</td>\n",
       "      <td>957.5775</td>\n",
       "      <td>5</td>\n",
       "      <td>0.45</td>\n",
       "      <td>-383.0310</td>\n",
       "    </tr>\n",
       "    <tr>\n",
       "      <th>4</th>\n",
       "      <td>US-2015-108966</td>\n",
       "      <td>10/11/2015</td>\n",
       "      <td>Standard Class</td>\n",
       "      <td>SO-20335</td>\n",
       "      <td>Consumer</td>\n",
       "      <td>Florida</td>\n",
       "      <td>South</td>\n",
       "      <td>OFF-ST-10000760</td>\n",
       "      <td>Storage</td>\n",
       "      <td>Eldon Fold 'N Roll Cart System</td>\n",
       "      <td>22.3680</td>\n",
       "      <td>2</td>\n",
       "      <td>0.20</td>\n",
       "      <td>2.5164</td>\n",
       "    </tr>\n",
       "  </tbody>\n",
       "</table>\n",
       "</div>"
      ],
      "text/plain": [
       "         order id  order date       ship mode customer id    segment  \\\n",
       "0  CA-2016-152156   11/8/2016    Second Class    CG-12520   Consumer   \n",
       "1  CA-2016-152156   11/8/2016    Second Class    CG-12520   Consumer   \n",
       "2  CA-2016-138688   6/12/2016    Second Class    DV-13045  Corporate   \n",
       "3  US-2015-108966  10/11/2015  Standard Class    SO-20335   Consumer   \n",
       "4  US-2015-108966  10/11/2015  Standard Class    SO-20335   Consumer   \n",
       "\n",
       "        state region       product id sub category  \\\n",
       "0    Kentucky  South  FUR-BO-10001798    Bookcases   \n",
       "1    Kentucky  South  FUR-CH-10000454       Chairs   \n",
       "2  California   West  OFF-LA-10000240       Labels   \n",
       "3     Florida  South  FUR-TA-10000577       Tables   \n",
       "4     Florida  South  OFF-ST-10000760      Storage   \n",
       "\n",
       "                                        product name     sales  quantity  \\\n",
       "0                  Bush Somerset Collection Bookcase  261.9600         2   \n",
       "1  Hon Deluxe Fabric Upholstered Stacking Chairs,...  731.9400         3   \n",
       "2  Self-Adhesive Address Labels for Typewriters b...   14.6200         2   \n",
       "3      Bretford CR4500 Series Slim Rectangular Table  957.5775         5   \n",
       "4                     Eldon Fold 'N Roll Cart System   22.3680         2   \n",
       "\n",
       "   discount    profit  \n",
       "0      0.00   41.9136  \n",
       "1      0.00  219.5820  \n",
       "2      0.00    6.8714  \n",
       "3      0.45 -383.0310  \n",
       "4      0.20    2.5164  "
      ]
     },
     "execution_count": 16,
     "metadata": {},
     "output_type": "execute_result"
    }
   ],
   "source": [
    "data.head()"
   ]
  },
  {
   "cell_type": "code",
   "execution_count": 17,
   "id": "7082977d",
   "metadata": {},
   "outputs": [
    {
     "name": "stdout",
     "output_type": "stream",
     "text": [
      "<class 'pandas.core.frame.DataFrame'>\n",
      "Index: 9993 entries, 0 to 9993\n",
      "Data columns (total 14 columns):\n",
      " #   Column        Non-Null Count  Dtype  \n",
      "---  ------        --------------  -----  \n",
      " 0   order id      9993 non-null   object \n",
      " 1   order date    9993 non-null   object \n",
      " 2   ship mode     9993 non-null   object \n",
      " 3   customer id   9993 non-null   object \n",
      " 4   segment       9993 non-null   object \n",
      " 5   state         9993 non-null   object \n",
      " 6   region        9993 non-null   object \n",
      " 7   product id    9993 non-null   object \n",
      " 8   sub category  9993 non-null   object \n",
      " 9   product name  9993 non-null   object \n",
      " 10  sales         9993 non-null   float64\n",
      " 11  quantity      9993 non-null   int64  \n",
      " 12  discount      9993 non-null   float64\n",
      " 13  profit        9993 non-null   float64\n",
      "dtypes: float64(3), int64(1), object(10)\n",
      "memory usage: 1.1+ MB\n"
     ]
    }
   ],
   "source": [
    "data.info()"
   ]
  },
  {
   "cell_type": "code",
   "execution_count": 18,
   "id": "4d0fe520",
   "metadata": {},
   "outputs": [],
   "source": [
    "# Changing the data type of order date column\n",
    "data['order date']=pd.to_datetime(data['order date'],errors='coerce')"
   ]
  },
  {
   "cell_type": "code",
   "execution_count": 19,
   "id": "ef5ac6e0",
   "metadata": {},
   "outputs": [
    {
     "name": "stdout",
     "output_type": "stream",
     "text": [
      "order id\n",
      "CA-2017-100111    0.140098\n",
      "CA-2017-157987    0.120084\n",
      "CA-2016-165330    0.110077\n",
      "US-2016-108504    0.110077\n",
      "CA-2016-105732    0.100070\n",
      "                    ...   \n",
      "CA-2014-110422    0.010007\n",
      "CA-2016-125794    0.010007\n",
      "CA-2017-163566    0.010007\n",
      "US-2015-151435    0.010007\n",
      "CA-2016-130225    0.010007\n",
      "Name: proportion, Length: 5009, dtype: float64\n",
      "__________________________________________________\n",
      "order date\n",
      "2016-09-05    0.380266\n",
      "2017-09-02    0.360252\n",
      "2016-11-10    0.350245\n",
      "2017-12-01    0.340238\n",
      "2017-12-02    0.340238\n",
      "                ...   \n",
      "2014-11-06    0.010007\n",
      "2015-12-29    0.010007\n",
      "2016-06-03    0.010007\n",
      "2015-04-12    0.010007\n",
      "2014-01-21    0.010007\n",
      "Name: proportion, Length: 1237, dtype: float64\n",
      "__________________________________________________\n",
      "ship mode\n",
      "Standard Class    59.711798\n",
      "Second Class      19.463625\n",
      "First Class       15.390774\n",
      "Same Day           5.433804\n",
      "Name: proportion, dtype: float64\n",
      "__________________________________________________\n",
      "customer id\n",
      "WB-21850    0.370259\n",
      "MA-17560    0.340238\n",
      "JL-15835    0.340238\n",
      "PP-18955    0.340238\n",
      "CK-12205    0.320224\n",
      "              ...   \n",
      "AO-10810    0.010007\n",
      "LD-16855    0.010007\n",
      "JR-15700    0.010007\n",
      "CJ-11875    0.010007\n",
      "RE-19405    0.010007\n",
      "Name: proportion, Length: 793, dtype: float64\n",
      "__________________________________________________\n",
      "segment\n",
      "Consumer       51.946362\n",
      "Corporate      30.221155\n",
      "Home Office    17.832483\n",
      "Name: proportion, dtype: float64\n",
      "__________________________________________________\n",
      "state\n",
      "California              20.024017\n",
      "New York                11.287902\n",
      "Texas                    9.856900\n",
      "Pennsylvania             5.874112\n",
      "Washington               5.063544\n",
      "Illinois                 4.923446\n",
      "Ohio                     4.683278\n",
      "Florida                  3.832683\n",
      "Michigan                 2.551786\n",
      "North Carolina           2.491744\n",
      "Arizona                  2.241569\n",
      "Virginia                 2.241569\n",
      "Georgia                  1.841289\n",
      "Tennessee                1.831282\n",
      "Colorado                 1.821275\n",
      "Indiana                  1.491044\n",
      "Kentucky                 1.390974\n",
      "Massachusetts            1.350946\n",
      "New Jersey               1.300911\n",
      "Oregon                   1.240869\n",
      "Wisconsin                1.100771\n",
      "Maryland                 1.050736\n",
      "Delaware                 0.960672\n",
      "Minnesota                0.890623\n",
      "Connecticut              0.820574\n",
      "Missouri                 0.660462\n",
      "Oklahoma                 0.660462\n",
      "Alabama                  0.610427\n",
      "Arkansas                 0.600420\n",
      "Rhode Island             0.560392\n",
      "Utah                     0.530371\n",
      "Mississippi              0.530371\n",
      "South Carolina           0.420294\n",
      "Louisiana                0.420294\n",
      "Nevada                   0.390273\n",
      "Nebraska                 0.380266\n",
      "New Mexico               0.370259\n",
      "Iowa                     0.300210\n",
      "New Hampshire            0.270189\n",
      "Kansas                   0.240168\n",
      "Idaho                    0.210147\n",
      "Montana                  0.150105\n",
      "South Dakota             0.120084\n",
      "Vermont                  0.110077\n",
      "District of Columbia     0.100070\n",
      "Maine                    0.080056\n",
      "North Dakota             0.070049\n",
      "West Virginia            0.040028\n",
      "Wyoming                  0.010007\n",
      "Name: proportion, dtype: float64\n",
      "__________________________________________________\n",
      "region\n",
      "West       32.052437\n",
      "East       28.489943\n",
      "Central    23.246272\n",
      "South      16.211348\n",
      "Name: proportion, dtype: float64\n",
      "__________________________________________________\n",
      "product id\n",
      "OFF-PA-10001970    0.190133\n",
      "TEC-AC-10003832    0.180126\n",
      "FUR-FU-10004270    0.160112\n",
      "FUR-CH-10002647    0.150105\n",
      "FUR-CH-10001146    0.150105\n",
      "                     ...   \n",
      "TEC-MA-10004552    0.010007\n",
      "TEC-MA-10003589    0.010007\n",
      "OFF-AP-10003099    0.010007\n",
      "TEC-PH-10002645    0.010007\n",
      "OFF-ST-10001627    0.010007\n",
      "Name: proportion, Length: 1862, dtype: float64\n",
      "__________________________________________________\n",
      "sub category\n",
      "Binders        15.240668\n",
      "Paper          13.709597\n",
      "Furnishings     9.576704\n",
      "Phones          8.896227\n",
      "Storage         8.465926\n",
      "Art             7.965576\n",
      "Accessories     7.755429\n",
      "Chairs          6.164315\n",
      "Appliances      4.663264\n",
      "Labels          3.642550\n",
      "Tables          3.192235\n",
      "Envelopes       2.541779\n",
      "Bookcases       2.281597\n",
      "Fasteners       2.171520\n",
      "Supplies        1.901331\n",
      "Machines        1.150806\n",
      "Copiers         0.680476\n",
      "Name: proportion, dtype: float64\n",
      "__________________________________________________\n",
      "product name\n",
      "Staple envelope                                                            0.480336\n",
      "Staples                                                                    0.460322\n",
      "Easy-staple paper                                                          0.460322\n",
      "Avery Non-Stick Binders                                                    0.200140\n",
      "Staples in misc. colors                                                    0.190133\n",
      "                                                                             ...   \n",
      "Xiaomi Mi3                                                                 0.010007\n",
      "Sanitaire Vibra Groomer IR Commercial Upright Vacuum, Replacement Belts    0.010007\n",
      "Holmes Harmony HEPA Air Purifier for 17 x 20 Room                          0.010007\n",
      "Avery Hi-Liter Pen Style Six-Color Fluorescent Set                         0.010007\n",
      "Eldon Jumbo ProFile Portable File Boxes Graphite/Black                     0.010007\n",
      "Name: proportion, Length: 1850, dtype: float64\n",
      "__________________________________________________\n"
     ]
    }
   ],
   "source": [
    "# Checking the value counts of each categorical column so there will not be any extra wrong input\n",
    "for i in data.select_dtypes(exclude='number').columns:\n",
    "    print(data[i].value_counts(normalize=True)*100)\n",
    "    print(\"_\"*50)"
   ]
  },
  {
   "cell_type": "code",
   "execution_count": 20,
   "id": "2276d5c5",
   "metadata": {},
   "outputs": [
    {
     "data": {
      "text/html": [
       "<div>\n",
       "<style scoped>\n",
       "    .dataframe tbody tr th:only-of-type {\n",
       "        vertical-align: middle;\n",
       "    }\n",
       "\n",
       "    .dataframe tbody tr th {\n",
       "        vertical-align: top;\n",
       "    }\n",
       "\n",
       "    .dataframe thead th {\n",
       "        text-align: right;\n",
       "    }\n",
       "</style>\n",
       "<table border=\"1\" class=\"dataframe\">\n",
       "  <thead>\n",
       "    <tr style=\"text-align: right;\">\n",
       "      <th></th>\n",
       "      <th>order id</th>\n",
       "      <th>order date</th>\n",
       "      <th>ship mode</th>\n",
       "      <th>customer id</th>\n",
       "      <th>segment</th>\n",
       "      <th>state</th>\n",
       "      <th>region</th>\n",
       "      <th>product id</th>\n",
       "      <th>sub category</th>\n",
       "      <th>product name</th>\n",
       "      <th>sales</th>\n",
       "      <th>quantity</th>\n",
       "      <th>discount</th>\n",
       "      <th>profit</th>\n",
       "    </tr>\n",
       "  </thead>\n",
       "  <tbody>\n",
       "    <tr>\n",
       "      <th>0</th>\n",
       "      <td>CA-2016-152156</td>\n",
       "      <td>2016-11-08</td>\n",
       "      <td>Second Class</td>\n",
       "      <td>CG-12520</td>\n",
       "      <td>Consumer</td>\n",
       "      <td>Kentucky</td>\n",
       "      <td>South</td>\n",
       "      <td>FUR-BO-10001798</td>\n",
       "      <td>Bookcases</td>\n",
       "      <td>Bush Somerset Collection Bookcase</td>\n",
       "      <td>261.96</td>\n",
       "      <td>2</td>\n",
       "      <td>0.0</td>\n",
       "      <td>41.9136</td>\n",
       "    </tr>\n",
       "  </tbody>\n",
       "</table>\n",
       "</div>"
      ],
      "text/plain": [
       "         order id order date     ship mode customer id   segment     state  \\\n",
       "0  CA-2016-152156 2016-11-08  Second Class    CG-12520  Consumer  Kentucky   \n",
       "\n",
       "  region       product id sub category                       product name  \\\n",
       "0  South  FUR-BO-10001798    Bookcases  Bush Somerset Collection Bookcase   \n",
       "\n",
       "    sales  quantity  discount   profit  \n",
       "0  261.96         2       0.0  41.9136  "
      ]
     },
     "execution_count": 20,
     "metadata": {},
     "output_type": "execute_result"
    }
   ],
   "source": [
    "data.head(1)"
   ]
  },
  {
   "cell_type": "markdown",
   "id": "b3b67480",
   "metadata": {},
   "source": [
    "### Creating new data frame for customers"
   ]
  },
  {
   "cell_type": "code",
   "execution_count": 21,
   "id": "466c81fe",
   "metadata": {},
   "outputs": [],
   "source": [
    "# Creating a dataset of customer level\n",
    "customer=data.groupby('customer id').agg({\n",
    "    'sales': 'sum',\n",
    "    'discount': 'mean',\n",
    "    'profit':'sum',\n",
    "    'quantity': 'sum',\n",
    "    'order id': 'nunique',\n",
    "    'product id': 'nunique',\n",
    "    'sub category': lambda x: x.mode().iloc[0] if not x.mode().empty else None,\n",
    "    'ship mode':lambda x: x.mode().iloc[0] if not x.mode().empty else None,\n",
    "    'segment':lambda x: x.mode().iloc[0] if not x.mode().empty else None,\n",
    "    'state':'first',\n",
    "    'region':'first'\n",
    "}).reset_index()"
   ]
  },
  {
   "cell_type": "code",
   "execution_count": 22,
   "id": "ff72a806",
   "metadata": {},
   "outputs": [
    {
     "data": {
      "text/html": [
       "<div>\n",
       "<style scoped>\n",
       "    .dataframe tbody tr th:only-of-type {\n",
       "        vertical-align: middle;\n",
       "    }\n",
       "\n",
       "    .dataframe tbody tr th {\n",
       "        vertical-align: top;\n",
       "    }\n",
       "\n",
       "    .dataframe thead th {\n",
       "        text-align: right;\n",
       "    }\n",
       "</style>\n",
       "<table border=\"1\" class=\"dataframe\">\n",
       "  <thead>\n",
       "    <tr style=\"text-align: right;\">\n",
       "      <th></th>\n",
       "      <th>customer id</th>\n",
       "      <th>sales</th>\n",
       "      <th>discount</th>\n",
       "      <th>profit</th>\n",
       "      <th>quantity</th>\n",
       "      <th>order id</th>\n",
       "      <th>product id</th>\n",
       "      <th>sub category</th>\n",
       "      <th>ship mode</th>\n",
       "      <th>segment</th>\n",
       "      <th>state</th>\n",
       "      <th>region</th>\n",
       "    </tr>\n",
       "  </thead>\n",
       "  <tbody>\n",
       "    <tr>\n",
       "      <th>0</th>\n",
       "      <td>AA-10315</td>\n",
       "      <td>5563.560</td>\n",
       "      <td>0.090909</td>\n",
       "      <td>-362.8825</td>\n",
       "      <td>30</td>\n",
       "      <td>5</td>\n",
       "      <td>11</td>\n",
       "      <td>Appliances</td>\n",
       "      <td>Standard Class</td>\n",
       "      <td>Consumer</td>\n",
       "      <td>Minnesota</td>\n",
       "      <td>Central</td>\n",
       "    </tr>\n",
       "    <tr>\n",
       "      <th>1</th>\n",
       "      <td>AA-10375</td>\n",
       "      <td>1056.390</td>\n",
       "      <td>0.080000</td>\n",
       "      <td>277.3824</td>\n",
       "      <td>41</td>\n",
       "      <td>9</td>\n",
       "      <td>15</td>\n",
       "      <td>Binders</td>\n",
       "      <td>Standard Class</td>\n",
       "      <td>Consumer</td>\n",
       "      <td>Arizona</td>\n",
       "      <td>West</td>\n",
       "    </tr>\n",
       "    <tr>\n",
       "      <th>2</th>\n",
       "      <td>AA-10480</td>\n",
       "      <td>1790.512</td>\n",
       "      <td>0.016667</td>\n",
       "      <td>435.8274</td>\n",
       "      <td>36</td>\n",
       "      <td>4</td>\n",
       "      <td>12</td>\n",
       "      <td>Paper</td>\n",
       "      <td>Standard Class</td>\n",
       "      <td>Consumer</td>\n",
       "      <td>North Carolina</td>\n",
       "      <td>South</td>\n",
       "    </tr>\n",
       "    <tr>\n",
       "      <th>3</th>\n",
       "      <td>AA-10645</td>\n",
       "      <td>5086.935</td>\n",
       "      <td>0.063889</td>\n",
       "      <td>857.8033</td>\n",
       "      <td>64</td>\n",
       "      <td>6</td>\n",
       "      <td>18</td>\n",
       "      <td>Furnishings</td>\n",
       "      <td>Standard Class</td>\n",
       "      <td>Consumer</td>\n",
       "      <td>Pennsylvania</td>\n",
       "      <td>East</td>\n",
       "    </tr>\n",
       "    <tr>\n",
       "      <th>4</th>\n",
       "      <td>AB-10015</td>\n",
       "      <td>886.156</td>\n",
       "      <td>0.066667</td>\n",
       "      <td>129.3465</td>\n",
       "      <td>13</td>\n",
       "      <td>3</td>\n",
       "      <td>6</td>\n",
       "      <td>Storage</td>\n",
       "      <td>First Class</td>\n",
       "      <td>Consumer</td>\n",
       "      <td>Washington</td>\n",
       "      <td>West</td>\n",
       "    </tr>\n",
       "  </tbody>\n",
       "</table>\n",
       "</div>"
      ],
      "text/plain": [
       "  customer id     sales  discount    profit  quantity  order id  product id  \\\n",
       "0    AA-10315  5563.560  0.090909 -362.8825        30         5          11   \n",
       "1    AA-10375  1056.390  0.080000  277.3824        41         9          15   \n",
       "2    AA-10480  1790.512  0.016667  435.8274        36         4          12   \n",
       "3    AA-10645  5086.935  0.063889  857.8033        64         6          18   \n",
       "4    AB-10015   886.156  0.066667  129.3465        13         3           6   \n",
       "\n",
       "  sub category       ship mode   segment           state   region  \n",
       "0   Appliances  Standard Class  Consumer       Minnesota  Central  \n",
       "1      Binders  Standard Class  Consumer         Arizona     West  \n",
       "2        Paper  Standard Class  Consumer  North Carolina    South  \n",
       "3  Furnishings  Standard Class  Consumer    Pennsylvania     East  \n",
       "4      Storage     First Class  Consumer      Washington     West  "
      ]
     },
     "execution_count": 22,
     "metadata": {},
     "output_type": "execute_result"
    }
   ],
   "source": [
    "customer.head()"
   ]
  },
  {
   "cell_type": "code",
   "execution_count": 23,
   "id": "74f3d0de",
   "metadata": {},
   "outputs": [],
   "source": [
    "# X will be used for segmentation, customer id have no role it so removing it and assigning to X\n",
    "X=customer.drop('customer id',axis=1)"
   ]
  },
  {
   "cell_type": "code",
   "execution_count": 24,
   "id": "f009a8c2",
   "metadata": {},
   "outputs": [
    {
     "data": {
      "text/html": [
       "<div>\n",
       "<style scoped>\n",
       "    .dataframe tbody tr th:only-of-type {\n",
       "        vertical-align: middle;\n",
       "    }\n",
       "\n",
       "    .dataframe tbody tr th {\n",
       "        vertical-align: top;\n",
       "    }\n",
       "\n",
       "    .dataframe thead th {\n",
       "        text-align: right;\n",
       "    }\n",
       "</style>\n",
       "<table border=\"1\" class=\"dataframe\">\n",
       "  <thead>\n",
       "    <tr style=\"text-align: right;\">\n",
       "      <th></th>\n",
       "      <th>sales</th>\n",
       "      <th>discount</th>\n",
       "      <th>profit</th>\n",
       "      <th>quantity</th>\n",
       "      <th>order id</th>\n",
       "      <th>product id</th>\n",
       "      <th>sub category</th>\n",
       "      <th>ship mode</th>\n",
       "      <th>segment</th>\n",
       "      <th>state</th>\n",
       "      <th>region</th>\n",
       "    </tr>\n",
       "  </thead>\n",
       "  <tbody>\n",
       "    <tr>\n",
       "      <th>224</th>\n",
       "      <td>4074.472</td>\n",
       "      <td>0.1</td>\n",
       "      <td>1319.0586</td>\n",
       "      <td>41</td>\n",
       "      <td>8</td>\n",
       "      <td>13</td>\n",
       "      <td>Binders</td>\n",
       "      <td>Standard Class</td>\n",
       "      <td>Corporate</td>\n",
       "      <td>Georgia</td>\n",
       "      <td>South</td>\n",
       "    </tr>\n",
       "  </tbody>\n",
       "</table>\n",
       "</div>"
      ],
      "text/plain": [
       "        sales  discount     profit  quantity  order id  product id  \\\n",
       "224  4074.472       0.1  1319.0586        41         8          13   \n",
       "\n",
       "    sub category       ship mode    segment    state region  \n",
       "224      Binders  Standard Class  Corporate  Georgia  South  "
      ]
     },
     "execution_count": 24,
     "metadata": {},
     "output_type": "execute_result"
    }
   ],
   "source": [
    "X.sample(1)"
   ]
  },
  {
   "cell_type": "markdown",
   "id": "9c923871",
   "metadata": {},
   "source": [
    "### Creating a model for customer segmentation"
   ]
  },
  {
   "cell_type": "code",
   "execution_count": 25,
   "id": "42a41e73",
   "metadata": {},
   "outputs": [],
   "source": [
    "#Defining the preprocessor\n",
    "processor=ColumnTransformer(transformers=[\n",
    "    ('ohe',OneHotEncoder(sparse_output=False,drop='first',handle_unknown='ignore'),[6,7,8,9,10]),\n",
    "    ('scaling',StandardScaler(),[0,1,2,3,4,5])\n",
    "],remainder='passthrough')"
   ]
  },
  {
   "cell_type": "code",
   "execution_count": 26,
   "id": "be12e118",
   "metadata": {},
   "outputs": [],
   "source": [
    "# Scaling the X for further model trainning\n",
    "customer_scaled=processor.fit_transform(X)"
   ]
  },
  {
   "cell_type": "code",
   "execution_count": 27,
   "id": "8309932b",
   "metadata": {},
   "outputs": [
    {
     "name": "stdout",
     "output_type": "stream",
     "text": [
      "[5416.135159246582, 4940.727743622576, 4543.706862956473, 4229.284058663905, 4069.5967982625807, 3925.5447240081076, 3802.155465455093, 3636.2183618873823]\n"
     ]
    },
    {
     "data": {
      "image/png": "[encoded data removed]",
      "text/plain": [
       "<Figure size 640x480 with 1 Axes>"
      ]
     },
     "metadata": {},
     "output_type": "display_data"
    }
   ],
   "source": [
    "# Checking the WCSS value\n",
    "scores = []\n",
    "for k in range(2, 10):\n",
    "    model = KMeans(n_clusters=k, random_state=42)\n",
    "    model.fit(customer_scaled)\n",
    "    scores.append(model.inertia_)\n",
    "print(scores)\n",
    "\n",
    "plt.plot(range(2, 10), scores, marker='o')\n",
    "plt.title(\"Silhouette Score vs K\")\n",
    "plt.xlabel(\"No. of Clusters\")\n",
    "plt.ylabel(\"Silhouette Score\")\n",
    "plt.show()"
   ]
  },
  {
   "cell_type": "markdown",
   "id": "f564a21a",
   "metadata": {},
   "source": [
    "We can assume 5 is the best number for k"
   ]
  },
  {
   "cell_type": "code",
   "execution_count": 28,
   "id": "bd857012",
   "metadata": {},
   "outputs": [],
   "source": [
    "# Applying values to the k means model\n",
    "k = 5 \n",
    "kmeans = KMeans(n_clusters=k, random_state=42)\n",
    "clusters = kmeans.fit_predict(customer_scaled)\n",
    "customer['class'] = clusters"
   ]
  },
  {
   "cell_type": "code",
   "execution_count": 29,
   "id": "a3059e0e",
   "metadata": {},
   "outputs": [
    {
     "data": {
      "text/html": [
       "<div>\n",
       "<style scoped>\n",
       "    .dataframe tbody tr th:only-of-type {\n",
       "        vertical-align: middle;\n",
       "    }\n",
       "\n",
       "    .dataframe tbody tr th {\n",
       "        vertical-align: top;\n",
       "    }\n",
       "\n",
       "    .dataframe thead th {\n",
       "        text-align: right;\n",
       "    }\n",
       "</style>\n",
       "<table border=\"1\" class=\"dataframe\">\n",
       "  <thead>\n",
       "    <tr style=\"text-align: right;\">\n",
       "      <th></th>\n",
       "      <th>customer id</th>\n",
       "      <th>sales</th>\n",
       "      <th>discount</th>\n",
       "      <th>profit</th>\n",
       "      <th>quantity</th>\n",
       "      <th>order id</th>\n",
       "      <th>product id</th>\n",
       "      <th>sub category</th>\n",
       "      <th>ship mode</th>\n",
       "      <th>segment</th>\n",
       "      <th>state</th>\n",
       "      <th>region</th>\n",
       "      <th>class</th>\n",
       "    </tr>\n",
       "  </thead>\n",
       "  <tbody>\n",
       "    <tr>\n",
       "      <th>0</th>\n",
       "      <td>AA-10315</td>\n",
       "      <td>5563.560</td>\n",
       "      <td>0.090909</td>\n",
       "      <td>-362.8825</td>\n",
       "      <td>30</td>\n",
       "      <td>5</td>\n",
       "      <td>11</td>\n",
       "      <td>Appliances</td>\n",
       "      <td>Standard Class</td>\n",
       "      <td>Consumer</td>\n",
       "      <td>Minnesota</td>\n",
       "      <td>Central</td>\n",
       "      <td>3</td>\n",
       "    </tr>\n",
       "    <tr>\n",
       "      <th>1</th>\n",
       "      <td>AA-10375</td>\n",
       "      <td>1056.390</td>\n",
       "      <td>0.080000</td>\n",
       "      <td>277.3824</td>\n",
       "      <td>41</td>\n",
       "      <td>9</td>\n",
       "      <td>15</td>\n",
       "      <td>Binders</td>\n",
       "      <td>Standard Class</td>\n",
       "      <td>Consumer</td>\n",
       "      <td>Arizona</td>\n",
       "      <td>West</td>\n",
       "      <td>1</td>\n",
       "    </tr>\n",
       "    <tr>\n",
       "      <th>2</th>\n",
       "      <td>AA-10480</td>\n",
       "      <td>1790.512</td>\n",
       "      <td>0.016667</td>\n",
       "      <td>435.8274</td>\n",
       "      <td>36</td>\n",
       "      <td>4</td>\n",
       "      <td>12</td>\n",
       "      <td>Paper</td>\n",
       "      <td>Standard Class</td>\n",
       "      <td>Consumer</td>\n",
       "      <td>North Carolina</td>\n",
       "      <td>South</td>\n",
       "      <td>3</td>\n",
       "    </tr>\n",
       "    <tr>\n",
       "      <th>3</th>\n",
       "      <td>AA-10645</td>\n",
       "      <td>5086.935</td>\n",
       "      <td>0.063889</td>\n",
       "      <td>857.8033</td>\n",
       "      <td>64</td>\n",
       "      <td>6</td>\n",
       "      <td>18</td>\n",
       "      <td>Furnishings</td>\n",
       "      <td>Standard Class</td>\n",
       "      <td>Consumer</td>\n",
       "      <td>Pennsylvania</td>\n",
       "      <td>East</td>\n",
       "      <td>1</td>\n",
       "    </tr>\n",
       "    <tr>\n",
       "      <th>4</th>\n",
       "      <td>AB-10015</td>\n",
       "      <td>886.156</td>\n",
       "      <td>0.066667</td>\n",
       "      <td>129.3465</td>\n",
       "      <td>13</td>\n",
       "      <td>3</td>\n",
       "      <td>6</td>\n",
       "      <td>Storage</td>\n",
       "      <td>First Class</td>\n",
       "      <td>Consumer</td>\n",
       "      <td>Washington</td>\n",
       "      <td>West</td>\n",
       "      <td>3</td>\n",
       "    </tr>\n",
       "  </tbody>\n",
       "</table>\n",
       "</div>"
      ],
      "text/plain": [
       "  customer id     sales  discount    profit  quantity  order id  product id  \\\n",
       "0    AA-10315  5563.560  0.090909 -362.8825        30         5          11   \n",
       "1    AA-10375  1056.390  0.080000  277.3824        41         9          15   \n",
       "2    AA-10480  1790.512  0.016667  435.8274        36         4          12   \n",
       "3    AA-10645  5086.935  0.063889  857.8033        64         6          18   \n",
       "4    AB-10015   886.156  0.066667  129.3465        13         3           6   \n",
       "\n",
       "  sub category       ship mode   segment           state   region  class  \n",
       "0   Appliances  Standard Class  Consumer       Minnesota  Central      3  \n",
       "1      Binders  Standard Class  Consumer         Arizona     West      1  \n",
       "2        Paper  Standard Class  Consumer  North Carolina    South      3  \n",
       "3  Furnishings  Standard Class  Consumer    Pennsylvania     East      1  \n",
       "4      Storage     First Class  Consumer      Washington     West      3  "
      ]
     },
     "execution_count": 29,
     "metadata": {},
     "output_type": "execute_result"
    }
   ],
   "source": [
    "customer.head()"
   ]
  },
  {
   "cell_type": "code",
   "execution_count": 30,
   "id": "57397703",
   "metadata": {},
   "outputs": [],
   "source": [
    "# Using PCA to plot my clusters, changin it to a 3D model\n",
    "from sklearn.decomposition import PCA\n",
    "pca=PCA(n_components=2)\n",
    "pca_data=pca.fit_transform(customer_scaled)\n",
    "pca_data = pd.DataFrame(data=pca_data, columns=['PC1', 'PC2'])\n",
    "pca_data['class'] = customer['class'].values"
   ]
  },
  {
   "cell_type": "code",
   "execution_count": 31,
   "id": "354ada01",
   "metadata": {},
   "outputs": [
    {
     "data": {
      "application/vnd.plotly.v1+json": {
       "config": {
        "plotlyServerURL": "https://plot.ly"
       },
       "data": [
        {
         "hovertemplate": "Principal Component 1=%{x}<br>Principal Component 2=%{y}<br>Principal Component 3=%{z}<br>segment=%{marker.color}<extra></extra>",
         "legendgroup": "",
         "marker": {
          "color": {
           "bdata": "AwAAAAEAAAADAAAAAQAAAAMAAAAEAAAABAAAAAMAAAABAAAAAQAAAAIAAAACAAAAAQAAAAEAAAACAAAABAAAAAEAAAACAAAAAwAAAAMAAAACAAAAAgAAAAAAAAACAAAAAQAAAAIAAAAAAAAAAQAAAAAAAAABAAAAAgAAAAEAAAADAAAAAwAAAAAAAAAAAAAAAQAAAAAAAAADAAAAAwAAAAMAAAAAAAAAAgAAAAEAAAAAAAAAAgAAAAMAAAACAAAABAAAAAMAAAABAAAAAgAAAAAAAAADAAAAAwAAAAIAAAACAAAAAgAAAAMAAAABAAAAAgAAAAEAAAADAAAAAwAAAAIAAAAAAAAAAQAAAAAAAAABAAAAAwAAAAEAAAADAAAAAwAAAAMAAAADAAAAAwAAAAMAAAABAAAAAQAAAAMAAAAAAAAAAwAAAAAAAAADAAAAAwAAAAEAAAADAAAAAwAAAAAAAAABAAAAAQAAAAIAAAAAAAAAAQAAAAMAAAABAAAAAgAAAAMAAAADAAAAAAAAAAMAAAABAAAAAwAAAAEAAAAEAAAAAgAAAAIAAAACAAAAAQAAAAMAAAADAAAAAQAAAAMAAAADAAAAAwAAAAEAAAABAAAAAwAAAAEAAAABAAAAAwAAAAIAAAABAAAAAwAAAAEAAAAAAAAAAgAAAAEAAAABAAAAAwAAAAAAAAAEAAAAAQAAAAEAAAADAAAAAgAAAAEAAAACAAAAAwAAAAIAAAADAAAAAwAAAAIAAAACAAAAAwAAAAIAAAAAAAAAAAAAAAEAAAAAAAAAAQAAAAMAAAAAAAAAAgAAAAMAAAACAAAAAwAAAAIAAAADAAAAAwAAAAQAAAADAAAABAAAAAIAAAABAAAAAQAAAAMAAAADAAAAAgAAAAMAAAACAAAAAgAAAAAAAAADAAAAAgAAAAAAAAAAAAAAAQAAAAMAAAACAAAAAgAAAAEAAAABAAAAAQAAAAMAAAABAAAAAgAAAAMAAAABAAAAAQAAAAEAAAABAAAAAAAAAAEAAAADAAAAAwAAAAEAAAABAAAAAQAAAAEAAAADAAAAAgAAAAMAAAACAAAAAwAAAAAAAAADAAAAAwAAAAEAAAADAAAAAAAAAAEAAAADAAAAAQAAAAMAAAAAAAAAAAAAAAEAAAADAAAAAQAAAAMAAAABAAAAAwAAAAAAAAABAAAAAwAAAAMAAAABAAAAAwAAAAEAAAABAAAAAwAAAAEAAAAAAAAABAAAAAEAAAABAAAAAwAAAAEAAAACAAAAAwAAAAMAAAABAAAAAgAAAAAAAAAAAAAAAQAAAAAAAAADAAAAAQAAAAMAAAACAAAAAgAAAAIAAAADAAAAAQAAAAIAAAAAAAAAAQAAAAMAAAABAAAAAQAAAAIAAAADAAAAAwAAAAMAAAADAAAAAwAAAAEAAAACAAAAAgAAAAMAAAABAAAAAwAAAAMAAAAAAAAAAgAAAAMAAAAAAAAAAQAAAAEAAAABAAAAAQAAAAAAAAADAAAABAAAAAEAAAAAAAAAAQAAAAEAAAABAAAAAwAAAAEAAAAAAAAAAQAAAAEAAAADAAAAAAAAAAEAAAABAAAAAgAAAAIAAAABAAAAAQAAAAEAAAABAAAAAwAAAAMAAAADAAAAAwAAAAIAAAAAAAAAAgAAAAEAAAABAAAAAwAAAAEAAAABAAAAAgAAAAMAAAABAAAAAgAAAAEAAAABAAAAAwAAAAMAAAABAAAABAAAAAQAAAACAAAAAgAAAAMAAAABAAAABAAAAAIAAAADAAAAAQAAAAMAAAAAAAAAAAAAAAEAAAACAAAAAwAAAAIAAAACAAAAAwAAAAEAAAADAAAAAgAAAAAAAAACAAAAAwAAAAQAAAABAAAABAAAAAAAAAAAAAAAAwAAAAEAAAADAAAAAQAAAAEAAAABAAAAAQAAAAIAAAAAAAAAAgAAAAMAAAACAAAAAwAAAAMAAAABAAAAAgAAAAMAAAADAAAAAQAAAAMAAAABAAAAAQAAAAEAAAAAAAAAAgAAAAEAAAACAAAAAgAAAAIAAAABAAAAAAAAAAIAAAABAAAAAQAAAAEAAAADAAAAAwAAAAQAAAABAAAAAQAAAAMAAAACAAAAAQAAAAEAAAABAAAAAgAAAAIAAAACAAAAAgAAAAIAAAADAAAAAgAAAAEAAAAEAAAAAwAAAAIAAAABAAAAAQAAAAEAAAADAAAAAAAAAAIAAAADAAAAAwAAAAMAAAAEAAAAAwAAAAQAAAABAAAAAQAAAAQAAAABAAAAAQAAAAAAAAAAAAAAAQAAAAAAAAAAAAAAAQAAAAAAAAADAAAAAAAAAAEAAAACAAAAAQAAAAIAAAABAAAAAQAAAAMAAAADAAAAAAAAAAIAAAAAAAAAAAAAAAAAAAABAAAAAgAAAAIAAAABAAAAAgAAAAMAAAACAAAAAgAAAAIAAAABAAAAAgAAAAEAAAADAAAAAwAAAAIAAAADAAAAAQAAAAEAAAACAAAAAgAAAAEAAAABAAAAAwAAAAMAAAADAAAAAQAAAAEAAAADAAAAAwAAAAEAAAAAAAAAAwAAAAEAAAACAAAAAQAAAAEAAAACAAAAAQAAAAEAAAACAAAAAQAAAAEAAAADAAAAAQAAAAIAAAAEAAAAAQAAAAMAAAADAAAAAwAAAAEAAAACAAAAAgAAAAIAAAABAAAAAgAAAAIAAAABAAAAAwAAAAEAAAACAAAAAwAAAAMAAAAAAAAAAQAAAAEAAAADAAAAAQAAAAEAAAABAAAAAgAAAAMAAAADAAAAAQAAAAEAAAABAAAAAgAAAAIAAAABAAAAAgAAAAEAAAABAAAAAAAAAAIAAAAAAAAAAwAAAAEAAAABAAAAAgAAAAEAAAADAAAAAgAAAAEAAAADAAAAAQAAAAMAAAACAAAAAAAAAAMAAAACAAAAAwAAAAEAAAABAAAAAgAAAAQAAAACAAAAAQAAAAMAAAABAAAAAgAAAAEAAAABAAAAAwAAAAEAAAABAAAAAwAAAAQAAAABAAAAAQAAAAMAAAACAAAAAQAAAAIAAAACAAAAAAAAAAAAAAABAAAAAQAAAAEAAAACAAAAAwAAAAMAAAABAAAAAwAAAAIAAAADAAAAAQAAAAMAAAADAAAAAAAAAAEAAAACAAAAAQAAAAMAAAACAAAAAAAAAAIAAAADAAAAAwAAAAEAAAAAAAAAAQAAAAEAAAACAAAAAAAAAAMAAAABAAAAAQAAAAQAAAACAAAAAQAAAAEAAAABAAAAAQAAAAEAAAABAAAAAAAAAAIAAAACAAAABAAAAAEAAAAAAAAAAwAAAAMAAAADAAAAAAAAAAMAAAADAAAAAQAAAAEAAAADAAAAAQAAAAEAAAAAAAAAAgAAAAIAAAADAAAAAQAAAAEAAAABAAAAAwAAAAQAAAACAAAAAwAAAAMAAAAAAAAAAwAAAAQAAAADAAAAAgAAAAIAAAAAAAAAAQAAAAIAAAADAAAAAwAAAAEAAAADAAAAAAAAAAEAAAABAAAAAAAAAAIAAAABAAAAAAAAAAEAAAABAAAABAAAAAMAAAABAAAAAQAAAAAAAAACAAAAAgAAAAMAAAABAAAAAAAAAAEAAAADAAAAAgAAAAQAAAAEAAAAAwAAAAEAAAABAAAAAwAAAAEAAAABAAAAAgAAAAAAAAABAAAAAgAAAAAAAAACAAAAAwAAAAIAAAABAAAAAgAAAAQAAAACAAAAAAAAAAEAAAABAAAAAQAAAAIAAAAAAAAAAQAAAAAAAAABAAAAAgAAAAQAAAABAAAAAgAAAAMAAAADAAAAAgAAAAIAAAABAAAAAAAAAAAAAAACAAAAAQAAAAIAAAADAAAAAgAAAAMAAAADAAAAAAAAAAQAAAABAAAAAwAAAAMAAAABAAAAAwAAAAMAAAAEAAAAAAAAAAIAAAABAAAABAAAAAMAAAABAAAAAQAAAAMAAAABAAAAAgAAAAMAAAADAAAAAgAAAAEAAAABAAAAAQAAAAMAAAABAAAAAQAAAAIAAAACAAAAAwAAAAIAAAABAAAAAQAAAAIAAAAEAAAAAwAAAAEAAAACAAAAAQAAAAEAAAABAAAAAwAAAAEAAAABAAAAAwAAAAMAAAAEAAAAAwAAAAMAAAADAAAAAwAAAAMAAAADAAAAAQAAAAIAAAACAAAAAAAAAAAAAAAAAAAAAwAAAAQAAAAAAAAAAwAAAA==",
           "dtype": "i4"
          },
          "coloraxis": "coloraxis",
          "opacity": 0.7,
          "symbol": "circle"
         },
         "mode": "markers",
         "name": "",
         "scene": "scene",
         "showlegend": false,
         "type": "scatter3d",
         "x": {
          "bdata": "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",
          "dtype": "f8"
         },
         "y": {
          "bdata": "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",
          "dtype": "f8"
         },
         "z": {
          "bdata": "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",
          "dtype": "f8"
         }
        }
       ],
       "layout": {
        "coloraxis": {
         "colorbar": {
          "title": {
           "text": "segment"
          }
         },
         "colorscale": [
          [
           0,
           "#0d0887"
          ],
          [
           0.1111111111111111,
           "#46039f"
          ],
          [
           0.2222222222222222,
           "#7201a8"
          ],
          [
           0.3333333333333333,
           "#9c179e"
          ],
          [
           0.4444444444444444,
           "#bd3786"
          ],
          [
           0.5555555555555556,
           "#d8576b"
          ],
          [
           0.6666666666666666,
           "#ed7953"
          ],
          [
           0.7777777777777778,
           "#fb9f3a"
          ],
          [
           0.8888888888888888,
           "#fdca26"
          ],
          [
           1,
           "#f0f921"
          ]
         ]
        },
        "height": 600,
        "legend": {
         "tracegroupgap": 0
        },
        "scene": {
         "domain": {
          "x": [
           0,
           1
          ],
          "y": [
           0,
           1
          ]
         },
         "xaxis": {
          "title": {
           "text": "Principal Component 1"
          }
         },
         "yaxis": {
          "title": {
           "text": "Principal Component 2"
          }
         },
         "zaxis": {
          "title": {
           "text": "Principal Component 3"
          }
         }
        },
        "template": {
         "data": {
          "bar": [
           {
            "error_x": {
             "color": "#2a3f5f"
            },
            "error_y": {
             "color": "#2a3f5f"
            },
            "marker": {
             "line": {
              "color": "#E5ECF6",
              "width": 0.5
             },
             "pattern": {
              "fillmode": "overlay",
              "size": 10,
              "solidity": 0.2
             }
            },
            "type": "bar"
           }
          ],
          "barpolar": [
           {
            "marker": {
             "line": {
              "color": "#E5ECF6",
              "width": 0.5
             },
             "pattern": {
              "fillmode": "overlay",
              "size": 10,
              "solidity": 0.2
             }
            },
            "type": "barpolar"
           }
          ],
          "carpet": [
           {
            "aaxis": {
             "endlinecolor": "#2a3f5f",
             "gridcolor": "white",
             "linecolor": "white",
             "minorgridcolor": "white",
             "startlinecolor": "#2a3f5f"
            },
            "baxis": {
             "endlinecolor": "#2a3f5f",
             "gridcolor": "white",
             "linecolor": "white",
             "minorgridcolor": "white",
             "startlinecolor": "#2a3f5f"
            },
            "type": "carpet"
           }
          ],
          "choropleth": [
           {
            "colorbar": {
             "outlinewidth": 0,
             "ticks": ""
            },
            "type": "choropleth"
           }
          ],
          "contour": [
           {
            "colorbar": {
             "outlinewidth": 0,
             "ticks": ""
            },
            "colorscale": [
             [
              0,
              "#0d0887"
             ],
             [
              0.1111111111111111,
              "#46039f"
             ],
             [
              0.2222222222222222,
              "#7201a8"
             ],
             [
              0.3333333333333333,
              "#9c179e"
             ],
             [
              0.4444444444444444,
              "#bd3786"
             ],
             [
              0.5555555555555556,
              "#d8576b"
             ],
             [
              0.6666666666666666,
              "#ed7953"
             ],
             [
              0.7777777777777778,
              "#fb9f3a"
             ],
             [
              0.8888888888888888,
              "#fdca26"
             ],
             [
              1,
              "#f0f921"
             ]
            ],
            "type": "contour"
           }
          ],
          "contourcarpet": [
           {
            "colorbar": {
             "outlinewidth": 0,
             "ticks": ""
            },
            "type": "contourcarpet"
           }
          ],
          "heatmap": [
           {
            "colorbar": {
             "outlinewidth": 0,
             "ticks": ""
            },
            "colorscale": [
             [
              0,
              "#0d0887"
             ],
             [
              0.1111111111111111,
              "#46039f"
             ],
             [
              0.2222222222222222,
              "#7201a8"
             ],
             [
              0.3333333333333333,
              "#9c179e"
             ],
             [
              0.4444444444444444,
              "#bd3786"
             ],
             [
              0.5555555555555556,
              "#d8576b"
             ],
             [
              0.6666666666666666,
              "#ed7953"
             ],
             [
              0.7777777777777778,
              "#fb9f3a"
             ],
             [
              0.8888888888888888,
              "#fdca26"
             ],
             [
              1,
              "#f0f921"
             ]
            ],
            "type": "heatmap"
           }
          ],
          "histogram": [
           {
            "marker": {
             "pattern": {
              "fillmode": "overlay",
              "size": 10,
              "solidity": 0.2
             }
            },
            "type": "histogram"
           }
          ],
          "histogram2d": [
           {
            "colorbar": {
             "outlinewidth": 0,
             "ticks": ""
            },
            "colorscale": [
             [
              0,
              "#0d0887"
             ],
             [
              0.1111111111111111,
              "#46039f"
             ],
             [
              0.2222222222222222,
              "#7201a8"
             ],
             [
              0.3333333333333333,
              "#9c179e"
             ],
             [
              0.4444444444444444,
              "#bd3786"
             ],
             [
              0.5555555555555556,
              "#d8576b"
             ],
             [
              0.6666666666666666,
              "#ed7953"
             ],
             [
              0.7777777777777778,
              "#fb9f3a"
             ],
             [
              0.8888888888888888,
              "#fdca26"
             ],
             [
              1,
              "#f0f921"
             ]
            ],
            "type": "histogram2d"
           }
          ],
          "histogram2dcontour": [
           {
            "colorbar": {
             "outlinewidth": 0,
             "ticks": ""
            },
            "colorscale": [
             [
              0,
              "#0d0887"
             ],
             [
              0.1111111111111111,
              "#46039f"
             ],
             [
              0.2222222222222222,
              "#7201a8"
             ],
             [
              0.3333333333333333,
              "#9c179e"
             ],
             [
              0.4444444444444444,
              "#bd3786"
             ],
             [
              0.5555555555555556,
              "#d8576b"
             ],
             [
              0.6666666666666666,
              "#ed7953"
             ],
             [
              0.7777777777777778,
              "#fb9f3a"
             ],
             [
              0.8888888888888888,
              "#fdca26"
             ],
             [
              1,
              "#f0f921"
             ]
            ],
            "type": "histogram2dcontour"
           }
          ],
          "mesh3d": [
           {
            "colorbar": {
             "outlinewidth": 0,
             "ticks": ""
            },
            "type": "mesh3d"
           }
          ],
          "parcoords": [
           {
            "line": {
             "colorbar": {
              "outlinewidth": 0,
              "ticks": ""
             }
            },
            "type": "parcoords"
           }
          ],
          "pie": [
           {
            "automargin": true,
            "type": "pie"
           }
          ],
          "scatter": [
           {
            "fillpattern": {
             "fillmode": "overlay",
             "size": 10,
             "solidity": 0.2
            },
            "type": "scatter"
           }
          ],
          "scatter3d": [
           {
            "line": {
             "colorbar": {
              "outlinewidth": 0,
              "ticks": ""
             }
            },
            "marker": {
             "colorbar": {
              "outlinewidth": 0,
              "ticks": ""
             }
            },
            "type": "scatter3d"
           }
          ],
          "scattercarpet": [
           {
            "marker": {
             "colorbar": {
              "outlinewidth": 0,
              "ticks": ""
             }
            },
            "type": "scattercarpet"
           }
          ],
          "scattergeo": [
           {
            "marker": {
             "colorbar": {
              "outlinewidth": 0,
              "ticks": ""
             }
            },
            "type": "scattergeo"
           }
          ],
          "scattergl": [
           {
            "marker": {
             "colorbar": {
              "outlinewidth": 0,
              "ticks": ""
             }
            },
            "type": "scattergl"
           }
          ],
          "scattermap": [
           {
            "marker": {
             "colorbar": {
              "outlinewidth": 0,
              "ticks": ""
             }
            },
            "type": "scattermap"
           }
          ],
          "scattermapbox": [
           {
            "marker": {
             "colorbar": {
              "outlinewidth": 0,
              "ticks": ""
             }
            },
            "type": "scattermapbox"
           }
          ],
          "scatterpolar": [
           {
            "marker": {
             "colorbar": {
              "outlinewidth": 0,
              "ticks": ""
             }
            },
            "type": "scatterpolar"
           }
          ],
          "scatterpolargl": [
           {
            "marker": {
             "colorbar": {
              "outlinewidth": 0,
              "ticks": ""
             }
            },
            "type": "scatterpolargl"
           }
          ],
          "scatterternary": [
           {
            "marker": {
             "colorbar": {
              "outlinewidth": 0,
              "ticks": ""
             }
            },
            "type": "scatterternary"
           }
          ],
          "surface": [
           {
            "colorbar": {
             "outlinewidth": 0,
             "ticks": ""
            },
            "colorscale": [
             [
              0,
              "#0d0887"
             ],
             [
              0.1111111111111111,
              "#46039f"
             ],
             [
              0.2222222222222222,
              "#7201a8"
             ],
             [
              0.3333333333333333,
              "#9c179e"
             ],
             [
              0.4444444444444444,
              "#bd3786"
             ],
             [
              0.5555555555555556,
              "#d8576b"
             ],
             [
              0.6666666666666666,
              "#ed7953"
             ],
             [
              0.7777777777777778,
              "#fb9f3a"
             ],
             [
              0.8888888888888888,
              "#fdca26"
             ],
             [
              1,
              "#f0f921"
             ]
            ],
            "type": "surface"
           }
          ],
          "table": [
           {
            "cells": {
             "fill": {
              "color": "#EBF0F8"
             },
             "line": {
              "color": "white"
             }
            },
            "header": {
             "fill": {
              "color": "#C8D4E3"
             },
             "line": {
              "color": "white"
             }
            },
            "type": "table"
           }
          ]
         },
         "layout": {
          "annotationdefaults": {
           "arrowcolor": "#2a3f5f",
           "arrowhead": 0,
           "arrowwidth": 1
          },
          "autotypenumbers": "strict",
          "coloraxis": {
           "colorbar": {
            "outlinewidth": 0,
            "ticks": ""
           }
          },
          "colorscale": {
           "diverging": [
            [
             0,
             "#8e0152"
            ],
            [
             0.1,
             "#c51b7d"
            ],
            [
             0.2,
             "#de77ae"
            ],
            [
             0.3,
             "#f1b6da"
            ],
            [
             0.4,
             "#fde0ef"
            ],
            [
             0.5,
             "#f7f7f7"
            ],
            [
             0.6,
             "#e6f5d0"
            ],
            [
             0.7,
             "#b8e186"
            ],
            [
             0.8,
             "#7fbc41"
            ],
            [
             0.9,
             "#4d9221"
            ],
            [
             1,
             "#276419"
            ]
           ],
           "sequential": [
            [
             0,
             "#0d0887"
            ],
            [
             0.1111111111111111,
             "#46039f"
            ],
            [
             0.2222222222222222,
             "#7201a8"
            ],
            [
             0.3333333333333333,
             "#9c179e"
            ],
            [
             0.4444444444444444,
             "#bd3786"
            ],
            [
             0.5555555555555556,
             "#d8576b"
            ],
            [
             0.6666666666666666,
             "#ed7953"
            ],
            [
             0.7777777777777778,
             "#fb9f3a"
            ],
            [
             0.8888888888888888,
             "#fdca26"
            ],
            [
             1,
             "#f0f921"
            ]
           ],
           "sequentialminus": [
            [
             0,
             "#0d0887"
            ],
            [
             0.1111111111111111,
             "#46039f"
            ],
            [
             0.2222222222222222,
             "#7201a8"
            ],
            [
             0.3333333333333333,
             "#9c179e"
            ],
            [
             0.4444444444444444,
             "#bd3786"
            ],
            [
             0.5555555555555556,
             "#d8576b"
            ],
            [
             0.6666666666666666,
             "#ed7953"
            ],
            [
             0.7777777777777778,
             "#fb9f3a"
            ],
            [
             0.8888888888888888,
             "#fdca26"
            ],
            [
             1,
             "#f0f921"
            ]
           ]
          },
          "colorway": [
           "#636efa",
           "#EF553B",
           "#00cc96",
           "#ab63fa",
           "#FFA15A",
           "#19d3f3",
           "#FF6692",
           "#B6E880",
           "#FF97FF",
           "#FECB52"
          ],
          "font": {
           "color": "#2a3f5f"
          },
          "geo": {
           "bgcolor": "white",
           "lakecolor": "white",
           "landcolor": "#E5ECF6",
           "showlakes": true,
           "showland": true,
           "subunitcolor": "white"
          },
          "hoverlabel": {
           "align": "left"
          },
          "hovermode": "closest",
          "mapbox": {
           "style": "light"
          },
          "paper_bgcolor": "white",
          "plot_bgcolor": "#E5ECF6",
          "polar": {
           "angularaxis": {
            "gridcolor": "white",
            "linecolor": "white",
            "ticks": ""
           },
           "bgcolor": "#E5ECF6",
           "radialaxis": {
            "gridcolor": "white",
            "linecolor": "white",
            "ticks": ""
           }
          },
          "scene": {
           "xaxis": {
            "backgroundcolor": "#E5ECF6",
            "gridcolor": "white",
            "gridwidth": 2,
            "linecolor": "white",
            "showbackground": true,
            "ticks": "",
            "zerolinecolor": "white"
           },
           "yaxis": {
            "backgroundcolor": "#E5ECF6",
            "gridcolor": "white",
            "gridwidth": 2,
            "linecolor": "white",
            "showbackground": true,
            "ticks": "",
            "zerolinecolor": "white"
           },
           "zaxis": {
            "backgroundcolor": "#E5ECF6",
            "gridcolor": "white",
            "gridwidth": 2,
            "linecolor": "white",
            "showbackground": true,
            "ticks": "",
            "zerolinecolor": "white"
           }
          },
          "shapedefaults": {
           "line": {
            "color": "#2a3f5f"
           }
          },
          "ternary": {
           "aaxis": {
            "gridcolor": "white",
            "linecolor": "white",
            "ticks": ""
           },
           "baxis": {
            "gridcolor": "white",
            "linecolor": "white",
            "ticks": ""
           },
           "bgcolor": "#E5ECF6",
           "caxis": {
            "gridcolor": "white",
            "linecolor": "white",
            "ticks": ""
           }
          },
          "title": {
           "x": 0.05
          },
          "xaxis": {
           "automargin": true,
           "gridcolor": "white",
           "linecolor": "white",
           "ticks": "",
           "title": {
            "standoff": 15
           },
           "zerolinecolor": "white",
           "zerolinewidth": 2
          },
          "yaxis": {
           "automargin": true,
           "gridcolor": "white",
           "linecolor": "white",
           "ticks": "",
           "title": {
            "standoff": 15
           },
           "zerolinecolor": "white",
           "zerolinewidth": 2
          }
         }
        },
        "title": {
         "text": "3D PCA Scatter Plot (Interactive)"
        },
        "width": 900
       }
      }
     },
     "metadata": {},
     "output_type": "display_data"
    }
   ],
   "source": [
    "import plotly.express as px\n",
    "\n",
    "# ----------------------------\n",
    "# 1. Prepare Your Data\n",
    "# ----------------------------\n",
    "# Assume df is your DataFrame and 'segment' is the label column\n",
    "X = customer.drop(columns=['customer id','class'])  # Remove the segment column\n",
    "y = customer['class']                 # Store the labels separately\n",
    "\n",
    "# Standardize the data\n",
    "X_scaled = processor.fit_transform(X)\n",
    "\n",
    "# ----------------------------\n",
    "# 2. Apply PCA (3 Components)\n",
    "# ----------------------------\n",
    "pca = PCA(n_components=3)\n",
    "X_pca = pca.fit_transform(X_scaled)\n",
    "\n",
    "# Combine PCA results with segment for plotting\n",
    "pca_df = pd.DataFrame(X_pca, columns=['PC1', 'PC2', 'PC3'])\n",
    "pca_df['segment'] = y.values\n",
    "\n",
    "# ----------------------------\n",
    "# 3. Plot Using Plotly\n",
    "# ----------------------------\n",
    "fig = px.scatter_3d(\n",
    "    pca_df,\n",
    "    x='PC1',\n",
    "    y='PC2',\n",
    "    z='PC3',\n",
    "    color='segment',\n",
    "    title='3D PCA Scatter Plot (Interactive)',\n",
    "    labels={'PC1': 'Principal Component 1', 'PC2': 'Principal Component 2', 'PC3': 'Principal Component 3'},\n",
    "    opacity=0.7,\n",
    "    width=900,\n",
    "    height=600\n",
    ")\n",
    "\n",
    "fig.show()"
   ]
  },
  {
   "cell_type": "code",
   "execution_count": 32,
   "id": "93b70b64",
   "metadata": {},
   "outputs": [],
   "source": [
    "# Merge class to the main dataframe\n",
    "data=data.merge(customer[['class','customer id']],on='customer id')"
   ]
  },
  {
   "cell_type": "code",
   "execution_count": 33,
   "id": "972a9dfa",
   "metadata": {},
   "outputs": [
    {
     "data": {
      "text/html": [
       "<div>\n",
       "<style scoped>\n",
       "    .dataframe tbody tr th:only-of-type {\n",
       "        vertical-align: middle;\n",
       "    }\n",
       "\n",
       "    .dataframe tbody tr th {\n",
       "        vertical-align: top;\n",
       "    }\n",
       "\n",
       "    .dataframe thead th {\n",
       "        text-align: right;\n",
       "    }\n",
       "</style>\n",
       "<table border=\"1\" class=\"dataframe\">\n",
       "  <thead>\n",
       "    <tr style=\"text-align: right;\">\n",
       "      <th></th>\n",
       "      <th>order id</th>\n",
       "      <th>order date</th>\n",
       "      <th>ship mode</th>\n",
       "      <th>customer id</th>\n",
       "      <th>segment</th>\n",
       "      <th>state</th>\n",
       "      <th>region</th>\n",
       "      <th>product id</th>\n",
       "      <th>sub category</th>\n",
       "      <th>product name</th>\n",
       "      <th>sales</th>\n",
       "      <th>quantity</th>\n",
       "      <th>discount</th>\n",
       "      <th>profit</th>\n",
       "      <th>class</th>\n",
       "    </tr>\n",
       "  </thead>\n",
       "  <tbody>\n",
       "    <tr>\n",
       "      <th>0</th>\n",
       "      <td>CA-2016-152156</td>\n",
       "      <td>2016-11-08</td>\n",
       "      <td>Second Class</td>\n",
       "      <td>CG-12520</td>\n",
       "      <td>Consumer</td>\n",
       "      <td>Kentucky</td>\n",
       "      <td>South</td>\n",
       "      <td>FUR-BO-10001798</td>\n",
       "      <td>Bookcases</td>\n",
       "      <td>Bush Somerset Collection Bookcase</td>\n",
       "      <td>261.9600</td>\n",
       "      <td>2</td>\n",
       "      <td>0.00</td>\n",
       "      <td>41.9136</td>\n",
       "      <td>2</td>\n",
       "    </tr>\n",
       "    <tr>\n",
       "      <th>1</th>\n",
       "      <td>CA-2016-152156</td>\n",
       "      <td>2016-11-08</td>\n",
       "      <td>Second Class</td>\n",
       "      <td>CG-12520</td>\n",
       "      <td>Consumer</td>\n",
       "      <td>Kentucky</td>\n",
       "      <td>South</td>\n",
       "      <td>FUR-CH-10000454</td>\n",
       "      <td>Chairs</td>\n",
       "      <td>Hon Deluxe Fabric Upholstered Stacking Chairs,...</td>\n",
       "      <td>731.9400</td>\n",
       "      <td>3</td>\n",
       "      <td>0.00</td>\n",
       "      <td>219.5820</td>\n",
       "      <td>2</td>\n",
       "    </tr>\n",
       "    <tr>\n",
       "      <th>2</th>\n",
       "      <td>CA-2016-138688</td>\n",
       "      <td>2016-06-12</td>\n",
       "      <td>Second Class</td>\n",
       "      <td>DV-13045</td>\n",
       "      <td>Corporate</td>\n",
       "      <td>California</td>\n",
       "      <td>West</td>\n",
       "      <td>OFF-LA-10000240</td>\n",
       "      <td>Labels</td>\n",
       "      <td>Self-Adhesive Address Labels for Typewriters b...</td>\n",
       "      <td>14.6200</td>\n",
       "      <td>2</td>\n",
       "      <td>0.00</td>\n",
       "      <td>6.8714</td>\n",
       "      <td>3</td>\n",
       "    </tr>\n",
       "    <tr>\n",
       "      <th>3</th>\n",
       "      <td>US-2015-108966</td>\n",
       "      <td>2015-10-11</td>\n",
       "      <td>Standard Class</td>\n",
       "      <td>SO-20335</td>\n",
       "      <td>Consumer</td>\n",
       "      <td>Florida</td>\n",
       "      <td>South</td>\n",
       "      <td>FUR-TA-10000577</td>\n",
       "      <td>Tables</td>\n",
       "      <td>Bretford CR4500 Series Slim Rectangular Table</td>\n",
       "      <td>957.5775</td>\n",
       "      <td>5</td>\n",
       "      <td>0.45</td>\n",
       "      <td>-383.0310</td>\n",
       "      <td>1</td>\n",
       "    </tr>\n",
       "    <tr>\n",
       "      <th>4</th>\n",
       "      <td>US-2015-108966</td>\n",
       "      <td>2015-10-11</td>\n",
       "      <td>Standard Class</td>\n",
       "      <td>SO-20335</td>\n",
       "      <td>Consumer</td>\n",
       "      <td>Florida</td>\n",
       "      <td>South</td>\n",
       "      <td>OFF-ST-10000760</td>\n",
       "      <td>Storage</td>\n",
       "      <td>Eldon Fold 'N Roll Cart System</td>\n",
       "      <td>22.3680</td>\n",
       "      <td>2</td>\n",
       "      <td>0.20</td>\n",
       "      <td>2.5164</td>\n",
       "      <td>1</td>\n",
       "    </tr>\n",
       "  </tbody>\n",
       "</table>\n",
       "</div>"
      ],
      "text/plain": [
       "         order id order date       ship mode customer id    segment  \\\n",
       "0  CA-2016-152156 2016-11-08    Second Class    CG-12520   Consumer   \n",
       "1  CA-2016-152156 2016-11-08    Second Class    CG-12520   Consumer   \n",
       "2  CA-2016-138688 2016-06-12    Second Class    DV-13045  Corporate   \n",
       "3  US-2015-108966 2015-10-11  Standard Class    SO-20335   Consumer   \n",
       "4  US-2015-108966 2015-10-11  Standard Class    SO-20335   Consumer   \n",
       "\n",
       "        state region       product id sub category  \\\n",
       "0    Kentucky  South  FUR-BO-10001798    Bookcases   \n",
       "1    Kentucky  South  FUR-CH-10000454       Chairs   \n",
       "2  California   West  OFF-LA-10000240       Labels   \n",
       "3     Florida  South  FUR-TA-10000577       Tables   \n",
       "4     Florida  South  OFF-ST-10000760      Storage   \n",
       "\n",
       "                                        product name     sales  quantity  \\\n",
       "0                  Bush Somerset Collection Bookcase  261.9600         2   \n",
       "1  Hon Deluxe Fabric Upholstered Stacking Chairs,...  731.9400         3   \n",
       "2  Self-Adhesive Address Labels for Typewriters b...   14.6200         2   \n",
       "3      Bretford CR4500 Series Slim Rectangular Table  957.5775         5   \n",
       "4                     Eldon Fold 'N Roll Cart System   22.3680         2   \n",
       "\n",
       "   discount    profit  class  \n",
       "0      0.00   41.9136      2  \n",
       "1      0.00  219.5820      2  \n",
       "2      0.00    6.8714      3  \n",
       "3      0.45 -383.0310      1  \n",
       "4      0.20    2.5164      1  "
      ]
     },
     "execution_count": 33,
     "metadata": {},
     "output_type": "execute_result"
    }
   ],
   "source": [
    "data.head()"
   ]
  },
  {
   "cell_type": "code",
   "execution_count": 34,
   "id": "83b32305",
   "metadata": {},
   "outputs": [],
   "source": [
    "# Removing each uniqe id s so that it generalize the rows\n",
    "data.drop(columns=['order id','customer id','product id'],inplace=True)"
   ]
  },
  {
   "cell_type": "code",
   "execution_count": 35,
   "id": "eaa8bcb6",
   "metadata": {},
   "outputs": [
    {
     "data": {
      "text/html": [
       "<div>\n",
       "<style scoped>\n",
       "    .dataframe tbody tr th:only-of-type {\n",
       "        vertical-align: middle;\n",
       "    }\n",
       "\n",
       "    .dataframe tbody tr th {\n",
       "        vertical-align: top;\n",
       "    }\n",
       "\n",
       "    .dataframe thead th {\n",
       "        text-align: right;\n",
       "    }\n",
       "</style>\n",
       "<table border=\"1\" class=\"dataframe\">\n",
       "  <thead>\n",
       "    <tr style=\"text-align: right;\">\n",
       "      <th></th>\n",
       "      <th>order date</th>\n",
       "      <th>ship mode</th>\n",
       "      <th>segment</th>\n",
       "      <th>state</th>\n",
       "      <th>region</th>\n",
       "      <th>sub category</th>\n",
       "      <th>product name</th>\n",
       "      <th>sales</th>\n",
       "      <th>quantity</th>\n",
       "      <th>discount</th>\n",
       "      <th>profit</th>\n",
       "      <th>class</th>\n",
       "    </tr>\n",
       "  </thead>\n",
       "  <tbody>\n",
       "    <tr>\n",
       "      <th>0</th>\n",
       "      <td>2016-11-08</td>\n",
       "      <td>Second Class</td>\n",
       "      <td>Consumer</td>\n",
       "      <td>Kentucky</td>\n",
       "      <td>South</td>\n",
       "      <td>Bookcases</td>\n",
       "      <td>Bush Somerset Collection Bookcase</td>\n",
       "      <td>261.9600</td>\n",
       "      <td>2</td>\n",
       "      <td>0.00</td>\n",
       "      <td>41.9136</td>\n",
       "      <td>2</td>\n",
       "    </tr>\n",
       "    <tr>\n",
       "      <th>1</th>\n",
       "      <td>2016-11-08</td>\n",
       "      <td>Second Class</td>\n",
       "      <td>Consumer</td>\n",
       "      <td>Kentucky</td>\n",
       "      <td>South</td>\n",
       "      <td>Chairs</td>\n",
       "      <td>Hon Deluxe Fabric Upholstered Stacking Chairs,...</td>\n",
       "      <td>731.9400</td>\n",
       "      <td>3</td>\n",
       "      <td>0.00</td>\n",
       "      <td>219.5820</td>\n",
       "      <td>2</td>\n",
       "    </tr>\n",
       "    <tr>\n",
       "      <th>2</th>\n",
       "      <td>2016-06-12</td>\n",
       "      <td>Second Class</td>\n",
       "      <td>Corporate</td>\n",
       "      <td>California</td>\n",
       "      <td>West</td>\n",
       "      <td>Labels</td>\n",
       "      <td>Self-Adhesive Address Labels for Typewriters b...</td>\n",
       "      <td>14.6200</td>\n",
       "      <td>2</td>\n",
       "      <td>0.00</td>\n",
       "      <td>6.8714</td>\n",
       "      <td>3</td>\n",
       "    </tr>\n",
       "    <tr>\n",
       "      <th>3</th>\n",
       "      <td>2015-10-11</td>\n",
       "      <td>Standard Class</td>\n",
       "      <td>Consumer</td>\n",
       "      <td>Florida</td>\n",
       "      <td>South</td>\n",
       "      <td>Tables</td>\n",
       "      <td>Bretford CR4500 Series Slim Rectangular Table</td>\n",
       "      <td>957.5775</td>\n",
       "      <td>5</td>\n",
       "      <td>0.45</td>\n",
       "      <td>-383.0310</td>\n",
       "      <td>1</td>\n",
       "    </tr>\n",
       "    <tr>\n",
       "      <th>4</th>\n",
       "      <td>2015-10-11</td>\n",
       "      <td>Standard Class</td>\n",
       "      <td>Consumer</td>\n",
       "      <td>Florida</td>\n",
       "      <td>South</td>\n",
       "      <td>Storage</td>\n",
       "      <td>Eldon Fold 'N Roll Cart System</td>\n",
       "      <td>22.3680</td>\n",
       "      <td>2</td>\n",
       "      <td>0.20</td>\n",
       "      <td>2.5164</td>\n",
       "      <td>1</td>\n",
       "    </tr>\n",
       "  </tbody>\n",
       "</table>\n",
       "</div>"
      ],
      "text/plain": [
       "  order date       ship mode    segment       state region sub category  \\\n",
       "0 2016-11-08    Second Class   Consumer    Kentucky  South    Bookcases   \n",
       "1 2016-11-08    Second Class   Consumer    Kentucky  South       Chairs   \n",
       "2 2016-06-12    Second Class  Corporate  California   West       Labels   \n",
       "3 2015-10-11  Standard Class   Consumer     Florida  South       Tables   \n",
       "4 2015-10-11  Standard Class   Consumer     Florida  South      Storage   \n",
       "\n",
       "                                        product name     sales  quantity  \\\n",
       "0                  Bush Somerset Collection Bookcase  261.9600         2   \n",
       "1  Hon Deluxe Fabric Upholstered Stacking Chairs,...  731.9400         3   \n",
       "2  Self-Adhesive Address Labels for Typewriters b...   14.6200         2   \n",
       "3      Bretford CR4500 Series Slim Rectangular Table  957.5775         5   \n",
       "4                     Eldon Fold 'N Roll Cart System   22.3680         2   \n",
       "\n",
       "   discount    profit  class  \n",
       "0      0.00   41.9136      2  \n",
       "1      0.00  219.5820      2  \n",
       "2      0.00    6.8714      3  \n",
       "3      0.45 -383.0310      1  \n",
       "4      0.20    2.5164      1  "
      ]
     },
     "execution_count": 35,
     "metadata": {},
     "output_type": "execute_result"
    }
   ],
   "source": [
    "data.head()"
   ]
  },
  {
   "cell_type": "markdown",
   "id": "3d30505a",
   "metadata": {},
   "source": [
    "### Creating the knn model"
   ]
  },
  {
   "cell_type": "code",
   "execution_count": 36,
   "id": "790cb0d4",
   "metadata": {},
   "outputs": [],
   "source": [
    "from sklearn.metrics.pairwise import cosine_similarity\n",
    "\n",
    "def recommend_products_cosine(user_input_dict, data, processor, kmeans):\n",
    "    # Define the relevant columns\n",
    "    columns = ['sales', 'discount', 'profit', 'quantity', 'order id', 'product id',\n",
    "               'sub category', 'ship mode', 'segment', 'state', 'region', 'product']\n",
    "    \n",
    "    # Create DataFrame for user input\n",
    "    user_input = pd.DataFrame([user_input_dict], columns=columns)\n",
    "    \n",
    "    # Predict user's cluster using the previously fitted processor and kmeans\n",
    "    user_input_segment_transform = processor.transform(user_input.drop('product', axis=1))\n",
    "    user_cluster = kmeans.predict(user_input_segment_transform)[0]\n",
    "    user_input['class'] = user_cluster\n",
    "    \n",
    "    # Filter the original data to match predicted cluster\n",
    "    X = data[data['class'] == user_input['class'][0]]\n",
    "    X = X[X['sub category'] == user_input['sub category'][0]]\n",
    "    \n",
    "    # Drop non-feature columns\n",
    "    X_features = X.drop(columns=['product name', 'order date'], errors='ignore')\n",
    "\n",
    "    # Define preprocessing pipeline\n",
    "    processing = ColumnTransformer(transformers=[\n",
    "        ('ohe', OneHotEncoder(sparse_output=False, drop='first', handle_unknown='ignore'), [0, 1, 2, 3, 4]),\n",
    "        ('scaling', StandardScaler(), [5, 6, 7, 8, 9])\n",
    "    ], remainder='passthrough')\n",
    "\n",
    "    # Fit transform data\n",
    "    processed_data = processing.fit_transform(X_features)\n",
    "\n",
    "    # Transform the user input\n",
    "    user_processed = processing.transform(user_input)\n",
    "\n",
    "    # Compute cosine similarity\n",
    "    similarities = cosine_similarity(user_processed, processed_data)[0]\n",
    "\n",
    "    # Get top 5 most similar items\n",
    "    top_indices = np.argsort(similarities)[-5:][::-1]\n",
    "\n",
    "    # Fetch corresponding product names\n",
    "    recommended_products = X.iloc[top_indices]['product name'].values\n",
    "\n",
    "    # Display recommendations\n",
    "    print(\"\\nTop 5 Recommended Products using cosine similarity:\\n\")\n",
    "    for product in recommended_products:\n",
    "        print(product)\n",
    "        print(\"-\" * 20)"
   ]
  },
  {
   "cell_type": "code",
   "execution_count": 37,
   "id": "8e7f14e6",
   "metadata": {},
   "outputs": [
    {
     "name": "stdout",
     "output_type": "stream",
     "text": [
      "\n",
      "Top 5 Recommended Products using cosine similarity:\n",
      "\n",
      "Wilson Jones 1\" Hanging DublLock Ring Binders\n",
      "--------------------\n",
      "Computer Printout Index Tabs\n",
      "--------------------\n",
      "Avery Printable Repositionable Plastic Tabs\n",
      "--------------------\n",
      "Fellowes Black Plastic Comb Bindings\n",
      "--------------------\n",
      "GBC White Gloss Covers, Plain Front\n",
      "--------------------\n"
     ]
    }
   ],
   "source": [
    "#Creating new user input\n",
    "user_input_dict = {\n",
    "    'sales': 6.48,\n",
    "    'discount': 0.0,\n",
    "    'profit': 3.1104,\n",
    "    'quantity': 1,\n",
    "    'order id': 5,\n",
    "    'product id': 15,\n",
    "    'sub category': 'Binders',\n",
    "    'ship mode': 'First Class',\n",
    "    'segment': 'Consumer',\n",
    "    'state': 'Washington',\n",
    "    'region': 'West',\n",
    "    'product': \"Storex DuraTech Recycled Plastic Frosted Binders\"\n",
    "}\n",
    "# Recommend\n",
    "recommend_products_cosine(user_input_dict,data,processor,kmeans)"
   ]
  },
  {
   "cell_type": "code",
   "execution_count": null,
   "id": "b5859c52",
   "metadata": {},
   "outputs": [],
   "source": []
  }
 ],
 "metadata": {
  "kernelspec": {
   "display_name": "Python 3 (ipykernel)",
   "language": "python",
   "name": "python3"
  },
  "language_info": {
   "codemirror_mode": {
    "name": "ipython",
    "version": 3
   },
   "file_extension": ".py",
   "mimetype": "text/x-python",
   "name": "python",
   "nbconvert_exporter": "python",
   "pygments_lexer": "ipython3",
   "version": "3.12.9"
  }
 },
 "nbformat": 4,
 "nbformat_minor": 5
}
